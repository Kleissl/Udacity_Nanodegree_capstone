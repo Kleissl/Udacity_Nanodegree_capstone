{
 "cells": [
  {
   "cell_type": "markdown",
   "metadata": {},
   "source": [
    "# Capstone Project: Create a Customer Segmentation Report for Arvato Financial Services\n",
    "\n",
    "In this project, you will analyze demographics data for customers of a mail-order sales company in Germany, comparing it against demographics information for the general population. You'll use unsupervised learning techniques to perform customer segmentation, identifying the parts of the population that best describe the core customer base of the company. Then, you'll apply what you've learned on a third dataset with demographics information for targets of a marketing campaign for the company, and use a model to predict which individuals are most likely to convert into becoming customers for the company. The data that you will use has been provided by our partners at Bertelsmann Arvato Analytics, and represents a real-life data science task.\n",
    "\n",
    "If you completed the first term of this program, you will be familiar with the first part of this project, from the unsupervised learning project. The versions of those two datasets used in this project will include many more features and has not been pre-cleaned. You are also free to choose whatever approach you'd like to analyzing the data rather than follow pre-determined steps. In your work on this project, make sure that you carefully document your steps and decisions, since your main deliverable for this project will be a blog post reporting your findings."
   ]
  },
  {
   "cell_type": "code",
   "execution_count": 1,
   "metadata": {},
   "outputs": [],
   "source": [
    "# import libraries here; add more as necessary\n",
    "import numpy as np\n",
    "import pandas as pd\n",
    "import matplotlib.pyplot as plt\n",
    "import seaborn as sns\n",
    "import pickle\n",
    "from pprint import pprint\n",
    "\n",
    "from sklearn.decomposition import PCA\n",
    "from sklearn.cluster import KMeans\n",
    "from sklearn.metrics import confusion_matrix, classification_report, roc_auc_score, f1_score\n",
    "# from sklearn.pipeline import make_pipeline\n",
    "from sklearn.pipeline import Pipeline\n",
    "from sklearn.impute import SimpleImputer\n",
    "from sklearn.preprocessing import MinMaxScaler, StandardScaler, LabelEncoder, OneHotEncoder\n",
    "# from sklearn.compose import ColumnTransformer\n",
    "from sklearn.model_selection import RepeatedStratifiedKFold, StratifiedKFold, train_test_split, cross_validate, cross_val_score, GridSearchCV\n",
    "from sklearn.linear_model import LogisticRegression\n",
    "# from sklearn.externals import joblib\n",
    "# from imblearn.pipeline import make_pipeline\n",
    "from imblearn.pipeline import Pipeline as imbpipeline\n",
    "from imblearn.over_sampling import SMOTE\n",
    "from imblearn.under_sampling import RandomUnderSampler\n",
    "import xgboost as xgb\n",
    "import lightgbm as lgb\n",
    "\n",
    "from skopt import BayesSearchCV\n",
    "from skopt.space import Real, Categorical, Integer\n",
    "from skopt.callbacks import DeadlineStopper # Stop the optimization before running out of a fixed budget of time.\n",
    "from skopt.callbacks import VerboseCallback # Callback to control the verbosity\n",
    "from skopt.callbacks import DeltaXStopper # Stop the optimization If the last two positions at which the objective has been evaluated are less than delta\n",
    "\n",
    "# magic word for producing visualizations in notebook\n",
    "%matplotlib inline"
   ]
  },
  {
   "cell_type": "code",
   "execution_count": 2,
   "metadata": {},
   "outputs": [],
   "source": [
    "# display more rows and columns\n",
    "def show_all(df, rows=100, columns=1000):\n",
    "    \"\"\"\n",
    "    Displays 100 rows and 1000 columns\n",
    "    \n",
    "    Args:\n",
    "        df (DataFrame): DataFrame to display\n",
    "    \"\"\"\n",
    "    with pd.option_context(\"display.max_rows\", rows, \"display.max_columns\", 1000):\n",
    "        display(df)"
   ]
  },
  {
   "cell_type": "markdown",
   "metadata": {},
   "source": [
    "## Part 0: Get to Know the Data\n",
    "\n",
    "There are four data files associated with this project:\n",
    "\n",
    "- `Udacity_AZDIAS_052018.csv`: Demographics data for the general population of Germany; 891 211 persons (rows) x 366 features (columns).\n",
    "- `Udacity_CUSTOMERS_052018.csv`: Demographics data for customers of a mail-order company; 191 652 persons (rows) x 369 features (columns).\n",
    "- `Udacity_MAILOUT_052018_TRAIN.csv`: Demographics data for individuals who were targets of a marketing campaign; 42 982 persons (rows) x 367 (columns).\n",
    "- `Udacity_MAILOUT_052018_TEST.csv`: Demographics data for individuals who were targets of a marketing campaign; 42 833 persons (rows) x 366 (columns).\n",
    "\n",
    "Each row of the demographics files represents a single person, but also includes information outside of individuals, including information about their household, building, and neighborhood. Use the information from the first two files to figure out how customers (\"CUSTOMERS\") are similar to or differ from the general population at large (\"AZDIAS\"), then use your analysis to make predictions on the other two files (\"MAILOUT\"), predicting which recipients are most likely to become a customer for the mail-order company.\n",
    "\n",
    "The \"CUSTOMERS\" file contains three extra columns ('CUSTOMER_GROUP', 'ONLINE_PURCHASE', and 'PRODUCT_GROUP'), which provide broad information about the customers depicted in the file. The original \"MAILOUT\" file included one additional column, \"RESPONSE\", which indicated whether or not each recipient became a customer of the company. For the \"TRAIN\" subset, this column has been retained, but in the \"TEST\" subset it has been removed; it is against that withheld column that your final predictions will be assessed in the Kaggle competition.\n",
    "\n",
    "Otherwise, all of the remaining columns are the same between the three data files. For more information about the columns depicted in the files, you can refer to two Excel spreadsheets provided in the workspace. [One of them](./DIAS Information Levels - Attributes 2017.xlsx) is a top-level list of attributes and descriptions, organized by informational category. [The other](./DIAS Attributes - Values 2017.xlsx) is a detailed mapping of data values for each feature in alphabetical order.\n",
    "\n",
    "In the below cell, we've provided some initial code to load in the first two datasets. Note for all of the `.csv` data files in this project that they're semicolon (`;`) delimited, so an additional argument in the [`read_csv()`](https://pandas.pydata.org/pandas-docs/stable/generated/pandas.read_csv.html) call has been included to read in the data properly. Also, considering the size of the datasets, it may take some time for them to load completely.\n",
    "\n",
    "You'll notice when the data is loaded in that a warning message will immediately pop up. Before you really start digging into the modeling and analysis, you're going to need to perform some cleaning. Take some time to browse the structure of the data and look over the informational spreadsheets to understand the data values. Make some decisions on which features to keep, which features to drop, and if any revisions need to be made on data formats. It'll be a good idea to create a function with pre-processing steps, since you'll need to clean all of the datasets before you work with them."
   ]
  },
  {
   "cell_type": "code",
   "execution_count": 3,
   "metadata": {},
   "outputs": [
    {
     "name": "stderr",
     "output_type": "stream",
     "text": [
      "c:\\users\\kenne\\appdata\\local\\programs\\python\\python37\\lib\\site-packages\\IPython\\core\\interactiveshell.py:3058: DtypeWarning: Columns (18,19) have mixed types.Specify dtype option on import or set low_memory=False.\n",
      "  interactivity=interactivity, compiler=compiler, result=result)\n"
     ]
    }
   ],
   "source": [
    "# load in the population data\n",
    "azdias = pd.read_csv('./data/Udacity_AZDIAS_052018.csv', sep=';')"
   ]
  },
  {
   "cell_type": "code",
   "execution_count": 4,
   "metadata": {},
   "outputs": [],
   "source": [
    "# load in the customer data\n",
    "customers = pd.read_csv('./data/Udacity_CUSTOMERS_052018.csv', sep=';')"
   ]
  },
  {
   "cell_type": "code",
   "execution_count": 5,
   "metadata": {},
   "outputs": [
    {
     "name": "stdout",
     "output_type": "stream",
     "text": [
      "(891221, 366)\n",
      "(191652, 369)\n"
     ]
    }
   ],
   "source": [
    "# shape inspection\n",
    "print(azdias.shape)\n",
    "print(customers.shape)"
   ]
  },
  {
   "cell_type": "code",
   "execution_count": 6,
   "metadata": {},
   "outputs": [],
   "source": [
    "# features only present in customer dataset\n",
    "unique_customer_features = set(customers.columns.values) - set(azdias.columns.values)"
   ]
  },
  {
   "cell_type": "code",
   "execution_count": 7,
   "metadata": {},
   "outputs": [
    {
     "data": {
      "text/html": [
       "<div>\n",
       "<style scoped>\n",
       "    .dataframe tbody tr th:only-of-type {\n",
       "        vertical-align: middle;\n",
       "    }\n",
       "\n",
       "    .dataframe tbody tr th {\n",
       "        vertical-align: top;\n",
       "    }\n",
       "\n",
       "    .dataframe thead th {\n",
       "        text-align: right;\n",
       "    }\n",
       "</style>\n",
       "<table border=\"1\" class=\"dataframe\">\n",
       "  <thead>\n",
       "    <tr style=\"text-align: right;\">\n",
       "      <th></th>\n",
       "      <th>PRODUCT_GROUP</th>\n",
       "      <th>ONLINE_PURCHASE</th>\n",
       "      <th>CUSTOMER_GROUP</th>\n",
       "    </tr>\n",
       "  </thead>\n",
       "  <tbody>\n",
       "    <tr>\n",
       "      <th>0</th>\n",
       "      <td>COSMETIC_AND_FOOD</td>\n",
       "      <td>0</td>\n",
       "      <td>MULTI_BUYER</td>\n",
       "    </tr>\n",
       "    <tr>\n",
       "      <th>1</th>\n",
       "      <td>FOOD</td>\n",
       "      <td>0</td>\n",
       "      <td>SINGLE_BUYER</td>\n",
       "    </tr>\n",
       "    <tr>\n",
       "      <th>2</th>\n",
       "      <td>COSMETIC_AND_FOOD</td>\n",
       "      <td>0</td>\n",
       "      <td>MULTI_BUYER</td>\n",
       "    </tr>\n",
       "    <tr>\n",
       "      <th>3</th>\n",
       "      <td>COSMETIC</td>\n",
       "      <td>0</td>\n",
       "      <td>MULTI_BUYER</td>\n",
       "    </tr>\n",
       "    <tr>\n",
       "      <th>4</th>\n",
       "      <td>FOOD</td>\n",
       "      <td>0</td>\n",
       "      <td>MULTI_BUYER</td>\n",
       "    </tr>\n",
       "  </tbody>\n",
       "</table>\n",
       "</div>"
      ],
      "text/plain": [
       "       PRODUCT_GROUP  ONLINE_PURCHASE CUSTOMER_GROUP\n",
       "0  COSMETIC_AND_FOOD                0    MULTI_BUYER\n",
       "1               FOOD                0   SINGLE_BUYER\n",
       "2  COSMETIC_AND_FOOD                0    MULTI_BUYER\n",
       "3           COSMETIC                0    MULTI_BUYER\n",
       "4               FOOD                0    MULTI_BUYER"
      ]
     },
     "execution_count": 7,
     "metadata": {},
     "output_type": "execute_result"
    }
   ],
   "source": [
    "# examine unique_customer_features\n",
    "customers[unique_customer_features].head()"
   ]
  },
  {
   "cell_type": "code",
   "execution_count": 8,
   "metadata": {},
   "outputs": [],
   "source": [
    "# as I got no use for these customer specific features in this analysis they are dropped to keep harmony between the two dataframes\n",
    "customers.drop(columns=unique_customer_features, inplace=True)"
   ]
  },
  {
   "cell_type": "code",
   "execution_count": 9,
   "metadata": {},
   "outputs": [
    {
     "name": "stdout",
     "output_type": "stream",
     "text": [
      "(891221, 366)\n",
      "(191652, 366)\n"
     ]
    }
   ],
   "source": [
    "# shape inspection after column harmonisation\n",
    "print(azdias.shape)\n",
    "print(customers.shape)"
   ]
  },
  {
   "cell_type": "code",
   "execution_count": 10,
   "metadata": {},
   "outputs": [],
   "source": [
    "# general stats\n",
    "# azdias.describe()"
   ]
  },
  {
   "cell_type": "markdown",
   "metadata": {},
   "source": [
    "## Part 1: Customer Segmentation Report\n",
    "\n",
    "The main bulk of your analysis will come in this part of the project. Here, you should use unsupervised learning techniques to describe the relationship between the demographics of the company's existing customers and the general population of Germany. By the end of this part, you should be able to describe parts of the general population that are more likely to be part of the mail-order company's main customer base, and which parts of the general population are less so."
   ]
  },
  {
   "cell_type": "markdown",
   "metadata": {},
   "source": [
    "### Load and utilize attributes info file\n",
    "This file describes how many of the \"-1\" and \"0\" values actually refers to \"unknown\" meanings. These unknown values are traced down and replaced with NaNs."
   ]
  },
  {
   "cell_type": "code",
   "execution_count": 11,
   "metadata": {},
   "outputs": [],
   "source": [
    "# read attributes info\n",
    "feat = pd.read_excel('DIAS Attributes - Values 2017.xlsx', engine='openpyxl')"
   ]
  },
  {
   "cell_type": "code",
   "execution_count": 12,
   "metadata": {},
   "outputs": [
    {
     "data": {
      "text/html": [
       "<div>\n",
       "<style scoped>\n",
       "    .dataframe tbody tr th:only-of-type {\n",
       "        vertical-align: middle;\n",
       "    }\n",
       "\n",
       "    .dataframe tbody tr th {\n",
       "        vertical-align: top;\n",
       "    }\n",
       "\n",
       "    .dataframe thead th {\n",
       "        text-align: right;\n",
       "    }\n",
       "</style>\n",
       "<table border=\"1\" class=\"dataframe\">\n",
       "  <thead>\n",
       "    <tr style=\"text-align: right;\">\n",
       "      <th></th>\n",
       "      <th>Attribute</th>\n",
       "      <th>Description</th>\n",
       "      <th>Value</th>\n",
       "      <th>Meaning</th>\n",
       "    </tr>\n",
       "  </thead>\n",
       "  <tbody>\n",
       "    <tr>\n",
       "      <th>0</th>\n",
       "      <td>AGER_TYP</td>\n",
       "      <td>best-ager typology</td>\n",
       "      <td>-1</td>\n",
       "      <td>unknown</td>\n",
       "    </tr>\n",
       "    <tr>\n",
       "      <th>1</th>\n",
       "      <td>AGER_TYP</td>\n",
       "      <td>best-ager typology</td>\n",
       "      <td>0</td>\n",
       "      <td>no classification possible</td>\n",
       "    </tr>\n",
       "    <tr>\n",
       "      <th>2</th>\n",
       "      <td>AGER_TYP</td>\n",
       "      <td>best-ager typology</td>\n",
       "      <td>1</td>\n",
       "      <td>passive elderly</td>\n",
       "    </tr>\n",
       "    <tr>\n",
       "      <th>3</th>\n",
       "      <td>AGER_TYP</td>\n",
       "      <td>best-ager typology</td>\n",
       "      <td>2</td>\n",
       "      <td>cultural elderly</td>\n",
       "    </tr>\n",
       "    <tr>\n",
       "      <th>4</th>\n",
       "      <td>AGER_TYP</td>\n",
       "      <td>best-ager typology</td>\n",
       "      <td>3</td>\n",
       "      <td>experience-driven elderly</td>\n",
       "    </tr>\n",
       "    <tr>\n",
       "      <th>5</th>\n",
       "      <td>ALTERSKATEGORIE_GROB</td>\n",
       "      <td>age classification through prename analysis</td>\n",
       "      <td>-1, 0</td>\n",
       "      <td>unknown</td>\n",
       "    </tr>\n",
       "    <tr>\n",
       "      <th>6</th>\n",
       "      <td>ALTERSKATEGORIE_GROB</td>\n",
       "      <td>age classification through prename analysis</td>\n",
       "      <td>1</td>\n",
       "      <td>&lt; 30 years</td>\n",
       "    </tr>\n",
       "    <tr>\n",
       "      <th>7</th>\n",
       "      <td>ALTERSKATEGORIE_GROB</td>\n",
       "      <td>age classification through prename analysis</td>\n",
       "      <td>2</td>\n",
       "      <td>30 - 45 years</td>\n",
       "    </tr>\n",
       "  </tbody>\n",
       "</table>\n",
       "</div>"
      ],
      "text/plain": [
       "              Attribute                                   Description  Value  \\\n",
       "0              AGER_TYP                            best-ager typology     -1   \n",
       "1              AGER_TYP                            best-ager typology      0   \n",
       "2              AGER_TYP                            best-ager typology      1   \n",
       "3              AGER_TYP                            best-ager typology      2   \n",
       "4              AGER_TYP                            best-ager typology      3   \n",
       "5  ALTERSKATEGORIE_GROB  age classification through prename analysis   -1, 0   \n",
       "6  ALTERSKATEGORIE_GROB  age classification through prename analysis       1   \n",
       "7  ALTERSKATEGORIE_GROB  age classification through prename analysis       2   \n",
       "\n",
       "                      Meaning  \n",
       "0                     unknown  \n",
       "1  no classification possible  \n",
       "2             passive elderly  \n",
       "3            cultural elderly  \n",
       "4   experience-driven elderly  \n",
       "5                     unknown  \n",
       "6                  < 30 years  \n",
       "7               30 - 45 years  "
      ]
     },
     "execution_count": 12,
     "metadata": {},
     "output_type": "execute_result"
    }
   ],
   "source": [
    "# forward fill\n",
    "feat.fillna(method='ffill', inplace=True)\n",
    "feat.head(8)"
   ]
  },
  {
   "cell_type": "code",
   "execution_count": 13,
   "metadata": {},
   "outputs": [
    {
     "data": {
      "text/html": [
       "<div>\n",
       "<style scoped>\n",
       "    .dataframe tbody tr th:only-of-type {\n",
       "        vertical-align: middle;\n",
       "    }\n",
       "\n",
       "    .dataframe tbody tr th {\n",
       "        vertical-align: top;\n",
       "    }\n",
       "\n",
       "    .dataframe thead th {\n",
       "        text-align: right;\n",
       "    }\n",
       "</style>\n",
       "<table border=\"1\" class=\"dataframe\">\n",
       "  <thead>\n",
       "    <tr style=\"text-align: right;\">\n",
       "      <th></th>\n",
       "      <th>Attribute</th>\n",
       "      <th>Meaning</th>\n",
       "      <th>Value</th>\n",
       "    </tr>\n",
       "  </thead>\n",
       "  <tbody>\n",
       "    <tr>\n",
       "      <th>0</th>\n",
       "      <td>AGER_TYP</td>\n",
       "      <td>unknown</td>\n",
       "      <td>-1</td>\n",
       "    </tr>\n",
       "    <tr>\n",
       "      <th>5</th>\n",
       "      <td>ALTERSKATEGORIE_GROB</td>\n",
       "      <td>unknown</td>\n",
       "      <td>-1, 0</td>\n",
       "    </tr>\n",
       "    <tr>\n",
       "      <th>11</th>\n",
       "      <td>ALTER_HH</td>\n",
       "      <td>unknown / no main age detectable</td>\n",
       "      <td>0</td>\n",
       "    </tr>\n",
       "    <tr>\n",
       "      <th>33</th>\n",
       "      <td>ANREDE_KZ</td>\n",
       "      <td>unknown</td>\n",
       "      <td>-1, 0</td>\n",
       "    </tr>\n",
       "    <tr>\n",
       "      <th>40</th>\n",
       "      <td>BALLRAUM</td>\n",
       "      <td>unknown</td>\n",
       "      <td>-1</td>\n",
       "    </tr>\n",
       "  </tbody>\n",
       "</table>\n",
       "</div>"
      ],
      "text/plain": [
       "               Attribute                           Meaning  Value\n",
       "0               AGER_TYP                           unknown     -1\n",
       "5   ALTERSKATEGORIE_GROB                           unknown  -1, 0\n",
       "11              ALTER_HH  unknown / no main age detectable      0\n",
       "33             ANREDE_KZ                           unknown  -1, 0\n",
       "40              BALLRAUM                           unknown     -1"
      ]
     },
     "execution_count": 13,
     "metadata": {},
     "output_type": "execute_result"
    }
   ],
   "source": [
    "# 'Attribute' and 'Value' for where Meaning contains 'unknown'\n",
    "feat[feat['Meaning'].str.contains('unknown')][['Attribute', 'Meaning', 'Value']].head()"
   ]
  },
  {
   "cell_type": "code",
   "execution_count": 14,
   "metadata": {},
   "outputs": [
    {
     "data": {
      "text/html": [
       "<div>\n",
       "<style scoped>\n",
       "    .dataframe tbody tr th:only-of-type {\n",
       "        vertical-align: middle;\n",
       "    }\n",
       "\n",
       "    .dataframe tbody tr th {\n",
       "        vertical-align: top;\n",
       "    }\n",
       "\n",
       "    .dataframe thead th {\n",
       "        text-align: right;\n",
       "    }\n",
       "</style>\n",
       "<table border=\"1\" class=\"dataframe\">\n",
       "  <thead>\n",
       "    <tr style=\"text-align: right;\">\n",
       "      <th></th>\n",
       "      <th>Attribute</th>\n",
       "      <th>Meaning</th>\n",
       "      <th>Value</th>\n",
       "    </tr>\n",
       "  </thead>\n",
       "  <tbody>\n",
       "    <tr>\n",
       "      <th>1</th>\n",
       "      <td>AGER_TYP</td>\n",
       "      <td>no classification possible</td>\n",
       "      <td>0</td>\n",
       "    </tr>\n",
       "    <tr>\n",
       "      <th>745</th>\n",
       "      <td>HEALTH_TYP</td>\n",
       "      <td>classification not possible</td>\n",
       "      <td>0</td>\n",
       "    </tr>\n",
       "  </tbody>\n",
       "</table>\n",
       "</div>"
      ],
      "text/plain": [
       "      Attribute                      Meaning Value\n",
       "1      AGER_TYP   no classification possible     0\n",
       "745  HEALTH_TYP  classification not possible     0"
      ]
     },
     "execution_count": 14,
     "metadata": {},
     "output_type": "execute_result"
    }
   ],
   "source": [
    "# possible\n",
    "feat[feat['Meaning'].str.contains('possible')][['Attribute', 'Meaning', 'Value']].head()"
   ]
  },
  {
   "cell_type": "code",
   "execution_count": 15,
   "metadata": {},
   "outputs": [
    {
     "data": {
      "text/html": [
       "<div>\n",
       "<style scoped>\n",
       "    .dataframe tbody tr th:only-of-type {\n",
       "        vertical-align: middle;\n",
       "    }\n",
       "\n",
       "    .dataframe tbody tr th {\n",
       "        vertical-align: top;\n",
       "    }\n",
       "\n",
       "    .dataframe thead th {\n",
       "        text-align: right;\n",
       "    }\n",
       "</style>\n",
       "<table border=\"1\" class=\"dataframe\">\n",
       "  <thead>\n",
       "    <tr style=\"text-align: right;\">\n",
       "      <th></th>\n",
       "      <th>Attribute</th>\n",
       "      <th>Meaning</th>\n",
       "      <th>Value</th>\n",
       "    </tr>\n",
       "  </thead>\n",
       "  <tbody>\n",
       "    <tr>\n",
       "      <th>138</th>\n",
       "      <td>D19_BANKEN_ANZ_12</td>\n",
       "      <td>no transactions known</td>\n",
       "      <td>0</td>\n",
       "    </tr>\n",
       "    <tr>\n",
       "      <th>145</th>\n",
       "      <td>D19_BANKEN_ANZ_24</td>\n",
       "      <td>no transactions known</td>\n",
       "      <td>0</td>\n",
       "    </tr>\n",
       "    <tr>\n",
       "      <th>161</th>\n",
       "      <td>D19_BANKEN_DATUM</td>\n",
       "      <td>no transactions known</td>\n",
       "      <td>10</td>\n",
       "    </tr>\n",
       "    <tr>\n",
       "      <th>162</th>\n",
       "      <td>D19_BANKEN_DIREKT_RZ</td>\n",
       "      <td>no transaction known</td>\n",
       "      <td>0</td>\n",
       "    </tr>\n",
       "    <tr>\n",
       "      <th>170</th>\n",
       "      <td>D19_BANKEN_GROSS_RZ</td>\n",
       "      <td>no transaction known</td>\n",
       "      <td>0</td>\n",
       "    </tr>\n",
       "  </tbody>\n",
       "</table>\n",
       "</div>"
      ],
      "text/plain": [
       "                Attribute                Meaning Value\n",
       "138     D19_BANKEN_ANZ_12  no transactions known     0\n",
       "145     D19_BANKEN_ANZ_24  no transactions known     0\n",
       "161      D19_BANKEN_DATUM  no transactions known    10\n",
       "162  D19_BANKEN_DIREKT_RZ   no transaction known     0\n",
       "170   D19_BANKEN_GROSS_RZ   no transaction known     0"
      ]
     },
     "execution_count": 15,
     "metadata": {},
     "output_type": "execute_result"
    }
   ],
   "source": [
    "# not known\n",
    "feat[feat['Meaning'].str.contains(\"no transactions? known\")][['Attribute', 'Meaning', 'Value']].head()"
   ]
  },
  {
   "cell_type": "code",
   "execution_count": 16,
   "metadata": {},
   "outputs": [],
   "source": [
    "# # known\n",
    "# not_known = feat[feat['Meaning'].str.contains('know')][['Attribute', 'Meaning', 'Value']]\n",
    "# not_known = not_known[~not_known.Meaning.str.contains(\"unknown\")]\n",
    "# not_known[~not_known.Meaning.str.contains(\"no transactions? known\")].head(50)"
   ]
  },
  {
   "cell_type": "code",
   "execution_count": 17,
   "metadata": {},
   "outputs": [],
   "source": [
    "# all of the \"unknown\"-like values\n",
    "unknown_values = feat[feat['Meaning'].str.contains(\n",
    "    '|'.join(['unknown', 'possible', 'no transactions? known']))][['Attribute', 'Value']]"
   ]
  },
  {
   "cell_type": "markdown",
   "metadata": {},
   "source": [
    "with the values of interest mapped they can then be replaced:"
   ]
  },
  {
   "cell_type": "code",
   "execution_count": 18,
   "metadata": {},
   "outputs": [],
   "source": [
    "def replace_unknowns_with_nans(df):\n",
    "    for att, vals in unknown_values.values:\n",
    "        if isinstance(vals, str):\n",
    "            vals = [int(x) for x in vals.split(', ')]\n",
    "        if isinstance(vals, int):\n",
    "            vals = [vals]\n",
    "        for val in vals:\n",
    "            # print(f\"Att. '{att}': replaced value {val} with NaN\")\n",
    "            try:\n",
    "                df[att].replace({val: np.nan}, inplace=True)\n",
    "            except KeyError as e:\n",
    "                print('KeyErrors:', e)"
   ]
  },
  {
   "cell_type": "code",
   "execution_count": 19,
   "metadata": {
    "collapsed": true
   },
   "outputs": [
    {
     "name": "stdout",
     "output_type": "stream",
     "text": [
      "KeyErrors: 'BIP_FLAG'\n",
      "KeyErrors: 'CAMEO_DEUINTL_2015'\n",
      "KeyErrors: 'D19_BANKEN_DIREKT_RZ'\n",
      "KeyErrors: 'D19_BANKEN_GROSS_RZ'\n",
      "KeyErrors: 'D19_BANKEN_LOKAL_RZ'\n",
      "KeyErrors: 'D19_BANKEN_REST_RZ'\n",
      "KeyErrors: 'D19_BEKLEIDUNG_GEH_RZ'\n",
      "KeyErrors: 'D19_BEKLEIDUNG_REST_RZ'\n",
      "KeyErrors: 'D19_BILDUNG_RZ'\n",
      "KeyErrors: 'D19_BIO_OEKO_RZ'\n",
      "KeyErrors: 'D19_BUCH_RZ'\n",
      "KeyErrors: 'D19_DIGIT_SERV_RZ'\n",
      "KeyErrors: 'D19_DROGERIEARTIKEL_RZ'\n",
      "KeyErrors: 'D19_ENERGIE_RZ'\n",
      "KeyErrors: 'D19_FREIZEIT_RZ'\n",
      "KeyErrors: 'D19_GARTEN_RZ'\n",
      "KeyErrors: 'D19_HANDWERK_RZ'\n",
      "KeyErrors: 'D19_HAUS_DEKO_RZ'\n",
      "KeyErrors: 'D19_KINDERARTIKEL_RZ'\n",
      "KeyErrors: 'D19_KK_KUNDENTYP'\n",
      "KeyErrors: 'D19_KOSMETIK_RZ'\n",
      "KeyErrors: 'D19_LEBENSMITTEL_RZ'\n",
      "KeyErrors: 'D19_LOTTO_RZ'\n",
      "KeyErrors: 'D19_NAHRUNGSERGAENZUNG_RZ'\n",
      "KeyErrors: 'D19_RATGEBER_RZ'\n",
      "KeyErrors: 'D19_REISEN_RZ'\n",
      "KeyErrors: 'D19_SAMMELARTIKEL_RZ'\n",
      "KeyErrors: 'D19_SCHUHE_RZ'\n",
      "KeyErrors: 'D19_SONSTIGE_RZ'\n",
      "KeyErrors: 'D19_TECHNIK_RZ'\n",
      "KeyErrors: 'D19_TELKO_MOBILE_RZ'\n",
      "KeyErrors: 'D19_TELKO_REST_RZ'\n",
      "KeyErrors: 'D19_TIERARTIKEL_RZ'\n",
      "KeyErrors: 'D19_VERSAND_REST_RZ'\n",
      "KeyErrors: 'D19_VERSICHERUNGEN_RZ'\n",
      "KeyErrors: 'D19_VOLLSORTIMENT_RZ'\n",
      "KeyErrors: 'D19_WEIN_FEINKOST_RZ'\n",
      "KeyErrors: 'GEOSCORE_KLS7'\n",
      "KeyErrors: 'GEOSCORE_KLS7'\n",
      "KeyErrors: 'HAUSHALTSSTRUKTUR'\n",
      "KeyErrors: 'HAUSHALTSSTRUKTUR'\n",
      "KeyErrors: 'KBA13_CCM_1400_2500'\n",
      "KeyErrors: 'SOHO_FLAG'\n",
      "KeyErrors: 'WACHSTUMSGEBIET_NB'\n",
      "KeyErrors: 'WACHSTUMSGEBIET_NB'\n",
      "KeyErrors: 'BIP_FLAG'\n",
      "KeyErrors: 'CAMEO_DEUINTL_2015'\n",
      "KeyErrors: 'D19_BANKEN_DIREKT_RZ'\n",
      "KeyErrors: 'D19_BANKEN_GROSS_RZ'\n",
      "KeyErrors: 'D19_BANKEN_LOKAL_RZ'\n",
      "KeyErrors: 'D19_BANKEN_REST_RZ'\n",
      "KeyErrors: 'D19_BEKLEIDUNG_GEH_RZ'\n",
      "KeyErrors: 'D19_BEKLEIDUNG_REST_RZ'\n",
      "KeyErrors: 'D19_BILDUNG_RZ'\n",
      "KeyErrors: 'D19_BIO_OEKO_RZ'\n",
      "KeyErrors: 'D19_BUCH_RZ'\n",
      "KeyErrors: 'D19_DIGIT_SERV_RZ'\n",
      "KeyErrors: 'D19_DROGERIEARTIKEL_RZ'\n",
      "KeyErrors: 'D19_ENERGIE_RZ'\n",
      "KeyErrors: 'D19_FREIZEIT_RZ'\n",
      "KeyErrors: 'D19_GARTEN_RZ'\n",
      "KeyErrors: 'D19_HANDWERK_RZ'\n",
      "KeyErrors: 'D19_HAUS_DEKO_RZ'\n",
      "KeyErrors: 'D19_KINDERARTIKEL_RZ'\n",
      "KeyErrors: 'D19_KK_KUNDENTYP'\n",
      "KeyErrors: 'D19_KOSMETIK_RZ'\n",
      "KeyErrors: 'D19_LEBENSMITTEL_RZ'\n",
      "KeyErrors: 'D19_LOTTO_RZ'\n",
      "KeyErrors: 'D19_NAHRUNGSERGAENZUNG_RZ'\n",
      "KeyErrors: 'D19_RATGEBER_RZ'\n",
      "KeyErrors: 'D19_REISEN_RZ'\n",
      "KeyErrors: 'D19_SAMMELARTIKEL_RZ'\n",
      "KeyErrors: 'D19_SCHUHE_RZ'\n",
      "KeyErrors: 'D19_SONSTIGE_RZ'\n",
      "KeyErrors: 'D19_TECHNIK_RZ'\n",
      "KeyErrors: 'D19_TELKO_MOBILE_RZ'\n",
      "KeyErrors: 'D19_TELKO_REST_RZ'\n",
      "KeyErrors: 'D19_TIERARTIKEL_RZ'\n",
      "KeyErrors: 'D19_VERSAND_REST_RZ'\n",
      "KeyErrors: 'D19_VERSICHERUNGEN_RZ'\n",
      "KeyErrors: 'D19_VOLLSORTIMENT_RZ'\n",
      "KeyErrors: 'D19_WEIN_FEINKOST_RZ'\n",
      "KeyErrors: 'GEOSCORE_KLS7'\n",
      "KeyErrors: 'GEOSCORE_KLS7'\n",
      "KeyErrors: 'HAUSHALTSSTRUKTUR'\n",
      "KeyErrors: 'HAUSHALTSSTRUKTUR'\n",
      "KeyErrors: 'KBA13_CCM_1400_2500'\n",
      "KeyErrors: 'SOHO_FLAG'\n",
      "KeyErrors: 'WACHSTUMSGEBIET_NB'\n",
      "KeyErrors: 'WACHSTUMSGEBIET_NB'\n"
     ]
    }
   ],
   "source": [
    "# Replace unknown_values with NaNs\n",
    "replace_unknowns_with_nans(azdias)\n",
    "replace_unknowns_with_nans(customers)"
   ]
  },
  {
   "cell_type": "markdown",
   "metadata": {},
   "source": [
    "the KeyErrors represent attributes listed in feature info file but did nor exist in either of the dataframes"
   ]
  },
  {
   "cell_type": "markdown",
   "metadata": {},
   "source": [
    "### DtypeWarning: Columns (19,20) have mixed types\n",
    "Some of the columns results in a DtypeWarning as they apparently contains a combination of int, str, nan and some of the strings are even 'X' and 'XX'."
   ]
  },
  {
   "cell_type": "code",
   "execution_count": 20,
   "metadata": {},
   "outputs": [
    {
     "data": {
      "text/plain": [
       "['CAMEO_DEUG_2015', 'CAMEO_INTL_2015', 'CJT_GESAMTTYP']"
      ]
     },
     "execution_count": 20,
     "metadata": {},
     "output_type": "execute_result"
    }
   ],
   "source": [
    "# list of problematic columns\n",
    "dtype_columns = customers.iloc[:,18:21].columns.tolist()\n",
    "dtype_columns"
   ]
  },
  {
   "cell_type": "code",
   "execution_count": 21,
   "metadata": {},
   "outputs": [
    {
     "data": {
      "text/plain": [
       "CAMEO_DEUG_2015     object\n",
       "CAMEO_INTL_2015     object\n",
       "CJT_GESAMTTYP      float64\n",
       "dtype: object"
      ]
     },
     "execution_count": 21,
     "metadata": {},
     "output_type": "execute_result"
    }
   ],
   "source": [
    "# inspect current most likely incorrect dtypes\n",
    "customers[dtype_columns].dtypes"
   ]
  },
  {
   "cell_type": "code",
   "execution_count": 22,
   "metadata": {},
   "outputs": [
    {
     "data": {
      "text/plain": [
       "array([[1.0, 13.0, 5.0],\n",
       "       [nan, nan, nan],\n",
       "       [5.0, 34.0, 2.0],\n",
       "       ...,\n",
       "       ['4', '24', 2.0],\n",
       "       ['4', '24', 4.0],\n",
       "       ['5', '33', 2.0]], dtype=object)"
      ]
     },
     "execution_count": 22,
     "metadata": {},
     "output_type": "execute_result"
    }
   ],
   "source": [
    "# values before correction including a combination of floats, nans and strings but should be ints\n",
    "customers[dtype_columns].values"
   ]
  },
  {
   "cell_type": "code",
   "execution_count": 23,
   "metadata": {},
   "outputs": [],
   "source": [
    "def correct_dtypes(df, column_names):\n",
    "    df[dtype_columns] = df[dtype_columns].replace('X',np.nan).replace('XX',np.nan).astype('float').astype('Int32')"
   ]
  },
  {
   "cell_type": "code",
   "execution_count": 24,
   "metadata": {},
   "outputs": [],
   "source": [
    "# correct dtype_columns\n",
    "correct_dtypes(customers, dtype_columns)\n",
    "correct_dtypes(azdias, dtype_columns)"
   ]
  },
  {
   "cell_type": "code",
   "execution_count": 25,
   "metadata": {},
   "outputs": [
    {
     "data": {
      "text/plain": [
       "array([[1, 13, 5],\n",
       "       [<NA>, <NA>, <NA>],\n",
       "       [5, 34, 2],\n",
       "       ...,\n",
       "       [4, 24, 2],\n",
       "       [4, 24, 4],\n",
       "       [5, 33, 2]], dtype=object)"
      ]
     },
     "execution_count": 25,
     "metadata": {},
     "output_type": "execute_result"
    }
   ],
   "source": [
    "customers[dtype_columns].values"
   ]
  },
  {
   "cell_type": "markdown",
   "metadata": {},
   "source": [
    "### Replace all 'X' values\n",
    "The following are slow scans but for both datasets only 'CAMEO_DEU_2015' is detected."
   ]
  },
  {
   "cell_type": "code",
   "execution_count": 26,
   "metadata": {},
   "outputs": [],
   "source": [
    "# scan all columns for any further \"X\" values\n",
    "# for col in customers.columns:\n",
    "#     count = customers[col].astype(str).str.contains('X').sum()\n",
    "#     if count:\n",
    "#         print(count, col)"
   ]
  },
  {
   "cell_type": "code",
   "execution_count": 27,
   "metadata": {},
   "outputs": [],
   "source": [
    "# scan all columns for any further \"X\" values\n",
    "# for col in azdias.columns:\n",
    "#     count = azdias[col].astype(str).str.contains('X').sum()\n",
    "#     if count:\n",
    "#         print(count, col)"
   ]
  },
  {
   "cell_type": "code",
   "execution_count": 28,
   "metadata": {},
   "outputs": [],
   "source": [
    "# fix the last incorrect 'X' values\n",
    "customers['CAMEO_DEU_2015'].replace('XX', np.nan, inplace=True)\n",
    "azdias['CAMEO_DEU_2015'].replace('XX', np.nan, inplace=True)"
   ]
  },
  {
   "cell_type": "markdown",
   "metadata": {},
   "source": [
    "can stay as object"
   ]
  },
  {
   "cell_type": "markdown",
   "metadata": {},
   "source": [
    "### Dropping columns with high degree of nans"
   ]
  },
  {
   "cell_type": "code",
   "execution_count": 29,
   "metadata": {},
   "outputs": [],
   "source": [
    "# columns where more than 33% of the rows contain nans are discarded to avoid introducing too much noise in the imputer phase.\n",
    "def poor_columns(df, threshold=33):\n",
    "    missing_procentage = df.isnull().sum(axis=0)/len(df)*100\n",
    "    features_to_drop = missing_procentage[missing_procentage>threshold]\n",
    "    return features_to_drop.sort_values(ascending=False)"
   ]
  },
  {
   "cell_type": "code",
   "execution_count": null,
   "metadata": {},
   "outputs": [],
   "source": [
    "# find columns with many missing values\n",
    "features_to_drop1 = poor_columns(customers)"
   ]
  },
  {
   "cell_type": "code",
   "execution_count": null,
   "metadata": {},
   "outputs": [],
   "source": [
    "features_to_drop2 = poor_columns(azdias)"
   ]
  },
  {
   "cell_type": "code",
   "execution_count": 32,
   "metadata": {},
   "outputs": [
    {
     "data": {
      "text/plain": [
       "{'AGER_TYP',\n",
       " 'ALTER_HH',\n",
       " 'ALTER_KIND1',\n",
       " 'ALTER_KIND2',\n",
       " 'ALTER_KIND3',\n",
       " 'ALTER_KIND4',\n",
       " 'D19_BANKEN_ANZ_12',\n",
       " 'D19_BANKEN_ANZ_24',\n",
       " 'D19_BANKEN_DATUM',\n",
       " 'D19_BANKEN_OFFLINE_DATUM',\n",
       " 'D19_BANKEN_ONLINE_DATUM',\n",
       " 'D19_GESAMT_ANZ_12',\n",
       " 'D19_GESAMT_ANZ_24',\n",
       " 'D19_GESAMT_DATUM',\n",
       " 'D19_GESAMT_OFFLINE_DATUM',\n",
       " 'D19_GESAMT_ONLINE_DATUM',\n",
       " 'D19_TELKO_ANZ_12',\n",
       " 'D19_TELKO_ANZ_24',\n",
       " 'D19_TELKO_DATUM',\n",
       " 'D19_TELKO_OFFLINE_DATUM',\n",
       " 'D19_TELKO_ONLINE_DATUM',\n",
       " 'D19_VERSAND_ANZ_12',\n",
       " 'D19_VERSAND_ANZ_24',\n",
       " 'D19_VERSAND_DATUM',\n",
       " 'D19_VERSAND_OFFLINE_DATUM',\n",
       " 'D19_VERSAND_ONLINE_DATUM',\n",
       " 'D19_VERSI_ANZ_12',\n",
       " 'D19_VERSI_ANZ_24',\n",
       " 'EXTSEL992',\n",
       " 'KBA05_BAUMAX',\n",
       " 'KK_KUNDENTYP',\n",
       " 'TITEL_KZ'}"
      ]
     },
     "execution_count": 32,
     "metadata": {},
     "output_type": "execute_result"
    }
   ],
   "source": [
    "# union the two sets to ensure the same columns are discarded\n",
    "features_to_drop = set(features_to_drop1.keys().values.tolist()).union(set(features_to_drop2.keys().values.tolist()))\n",
    "features_to_drop"
   ]
  },
  {
   "cell_type": "code",
   "execution_count": 33,
   "metadata": {},
   "outputs": [],
   "source": [
    "# dropping columns with too many missing values\n",
    "customers.drop(columns=features_to_drop, inplace=True)\n",
    "azdias.drop(columns=features_to_drop, inplace=True)"
   ]
  },
  {
   "cell_type": "code",
   "execution_count": 34,
   "metadata": {},
   "outputs": [
    {
     "name": "stdout",
     "output_type": "stream",
     "text": [
      "(891221, 334)\n",
      "(191652, 334)\n"
     ]
    }
   ],
   "source": [
    "# shape inspection after dropping ppor columns\n",
    "print(azdias.shape)\n",
    "print(customers.shape)"
   ]
  },
  {
   "cell_type": "markdown",
   "metadata": {},
   "source": [
    "### Dropping rows with high degree of nans"
   ]
  },
  {
   "cell_type": "code",
   "execution_count": 35,
   "metadata": {},
   "outputs": [
    {
     "data": {
      "text/plain": [
       "74012    254\n",
       "89983    254\n",
       "84107    254\n",
       "35291    249\n",
       "40583    249\n",
       "79091    249\n",
       "79090    249\n",
       "79089    249\n",
       "40564    249\n",
       "79084    249\n",
       "dtype: int64"
      ]
     },
     "execution_count": 35,
     "metadata": {},
     "output_type": "execute_result"
    }
   ],
   "source": [
    "# find rows with many missing values\n",
    "missing_values = customers.isnull().sum(axis=1)\n",
    "missing_values.sort_values(ascending=False).head(10)"
   ]
  },
  {
   "cell_type": "markdown",
   "metadata": {},
   "source": [
    "many rows is observed to be missing exactly 250 enties."
   ]
  },
  {
   "cell_type": "code",
   "execution_count": 36,
   "metadata": {},
   "outputs": [
    {
     "data": {
      "text/plain": [
       "3"
      ]
     },
     "execution_count": 36,
     "metadata": {},
     "output_type": "execute_result"
    }
   ],
   "source": [
    "# number of rows to drop\n",
    "missing_values[missing_values>=250].count()"
   ]
  },
  {
   "cell_type": "markdown",
   "metadata": {},
   "source": [
    "dropping those with 250 or more missing enties will result in dropping 41k samples out of 191k samples.\n",
    "This is so large a chunk of the data that I decided to make the cut right above 250 missing entries which resulted in dropping a very limited number of samples."
   ]
  },
  {
   "cell_type": "code",
   "execution_count": 37,
   "metadata": {},
   "outputs": [],
   "source": [
    "# dropping rows with too many missing values\n",
    "customers = customers[missing_values<=250]"
   ]
  },
  {
   "cell_type": "code",
   "execution_count": 38,
   "metadata": {},
   "outputs": [
    {
     "name": "stdout",
     "output_type": "stream",
     "text": [
      "(191649, 334)\n"
     ]
    }
   ],
   "source": [
    "print(customers.shape)"
   ]
  },
  {
   "cell_type": "markdown",
   "metadata": {},
   "source": [
    "Now same logic for azdias"
   ]
  },
  {
   "cell_type": "code",
   "execution_count": 39,
   "metadata": {},
   "outputs": [
    {
     "data": {
      "text/plain": [
       "826869    254\n",
       "537799    254\n",
       "55664     253\n",
       "373501    253\n",
       "350182    253\n",
       "255742    252\n",
       "5099      252\n",
       "716386    252\n",
       "739769    252\n",
       "23667     252\n",
       "dtype: int64"
      ]
     },
     "execution_count": 39,
     "metadata": {},
     "output_type": "execute_result"
    }
   ],
   "source": [
    "# find rows with many missing values\n",
    "missing_values = azdias.isnull().sum(axis=1)\n",
    "missing_values.sort_values(ascending=False).head(10)"
   ]
  },
  {
   "cell_type": "code",
   "execution_count": 40,
   "metadata": {},
   "outputs": [
    {
     "data": {
      "text/plain": [
       "18"
      ]
     },
     "execution_count": 40,
     "metadata": {},
     "output_type": "execute_result"
    }
   ],
   "source": [
    "# number of rows to drop\n",
    "missing_values[missing_values>250].count()"
   ]
  },
  {
   "cell_type": "code",
   "execution_count": 41,
   "metadata": {},
   "outputs": [],
   "source": [
    "# dropping rows with too many missing values\n",
    "azdias = azdias[missing_values<=250]"
   ]
  },
  {
   "cell_type": "code",
   "execution_count": 42,
   "metadata": {},
   "outputs": [
    {
     "name": "stdout",
     "output_type": "stream",
     "text": [
      "(891203, 334)\n"
     ]
    }
   ],
   "source": [
    "print(azdias.shape)"
   ]
  },
  {
   "cell_type": "markdown",
   "metadata": {},
   "source": [
    "### Manually inspect the the object dtypes columns"
   ]
  },
  {
   "cell_type": "code",
   "execution_count": 43,
   "metadata": {},
   "outputs": [
    {
     "name": "stdout",
     "output_type": "stream",
     "text": [
      "object CAMEO_DEU_2015\n",
      "object D19_LETZTER_KAUF_BRANCHE\n",
      "object EINGEFUEGT_AM\n",
      "object OST_WEST_KZ\n"
     ]
    }
   ],
   "source": [
    "for col in customers.columns:\n",
    "    if customers[col].dtypes=='object':\n",
    "        print(customers[col].dtypes, col)"
   ]
  },
  {
   "cell_type": "code",
   "execution_count": 44,
   "metadata": {},
   "outputs": [],
   "source": [
    "# plain string classes that can stay as object for that matter\n",
    "# customers['CAMEO_DEU_2015'].value_counts()"
   ]
  },
  {
   "cell_type": "code",
   "execution_count": 45,
   "metadata": {},
   "outputs": [],
   "source": [
    "# plain string classes that can stay as object for that matter\n",
    "# customers['D19_LETZTER_KAUF_BRANCHE'].value_counts()"
   ]
  },
  {
   "cell_type": "code",
   "execution_count": 46,
   "metadata": {},
   "outputs": [
    {
     "data": {
      "text/plain": [
       "1992-02-10 00:00:00    64744\n",
       "1992-02-12 00:00:00    43686\n",
       "2003-11-18 00:00:00     1066\n",
       "2005-12-16 00:00:00      808\n",
       "1995-02-07 00:00:00      569\n",
       "                       ...  \n",
       "2001-03-07 00:00:00        1\n",
       "2000-04-25 00:00:00        1\n",
       "2000-11-14 00:00:00        1\n",
       "2015-01-16 00:00:00        1\n",
       "2001-05-03 00:00:00        1\n",
       "Name: EINGEFUEGT_AM, Length: 3034, dtype: int64"
      ]
     },
     "execution_count": 46,
     "metadata": {},
     "output_type": "execute_result"
    }
   ],
   "source": [
    "customers['EINGEFUEGT_AM'].value_counts()"
   ]
  },
  {
   "cell_type": "code",
   "execution_count": 47,
   "metadata": {},
   "outputs": [],
   "source": [
    "# 'EINGEFUEGT_AM' with its datetime-like values are also dropped\n",
    "customers.drop(columns=['EINGEFUEGT_AM'], inplace=True)\n",
    "azdias.drop(columns=['EINGEFUEGT_AM'], inplace=True)\n",
    "# could also be reencoded to e.g. year "
   ]
  },
  {
   "cell_type": "code",
   "execution_count": 48,
   "metadata": {},
   "outputs": [],
   "source": [
    "# plain string classes that can stay as object for that matter\n",
    "# customers[['OST_WEST_KZ']].value_counts()"
   ]
  },
  {
   "cell_type": "markdown",
   "metadata": {},
   "source": [
    "### Class aggregation\n",
    "For categorical features like 'CAMEO_DEU_2015' that have more than 10 categories should be aggregated into fewer categories when possible"
   ]
  },
  {
   "cell_type": "code",
   "execution_count": 49,
   "metadata": {},
   "outputs": [
    {
     "data": {
      "text/html": [
       "<div>\n",
       "<style scoped>\n",
       "    .dataframe tbody tr th:only-of-type {\n",
       "        vertical-align: middle;\n",
       "    }\n",
       "\n",
       "    .dataframe tbody tr th {\n",
       "        vertical-align: top;\n",
       "    }\n",
       "\n",
       "    .dataframe thead th {\n",
       "        text-align: right;\n",
       "    }\n",
       "</style>\n",
       "<table border=\"1\" class=\"dataframe\">\n",
       "  <thead>\n",
       "    <tr style=\"text-align: right;\">\n",
       "      <th></th>\n",
       "      <th>Attribute</th>\n",
       "      <th>Description</th>\n",
       "      <th>Value</th>\n",
       "      <th>Meaning</th>\n",
       "    </tr>\n",
       "  </thead>\n",
       "  <tbody>\n",
       "    <tr>\n",
       "      <th>12</th>\n",
       "      <td>CAMEO_DEU_2015</td>\n",
       "      <td>44</td>\n",
       "      <td>44</td>\n",
       "      <td>44</td>\n",
       "    </tr>\n",
       "    <tr>\n",
       "      <th>270</th>\n",
       "      <td>LP_LEBENSPHASE_FEIN</td>\n",
       "      <td>40</td>\n",
       "      <td>40</td>\n",
       "      <td>40</td>\n",
       "    </tr>\n",
       "    <tr>\n",
       "      <th>11</th>\n",
       "      <td>CAMEO_DEUINTL_2015</td>\n",
       "      <td>26</td>\n",
       "      <td>26</td>\n",
       "      <td>26</td>\n",
       "    </tr>\n",
       "    <tr>\n",
       "      <th>2</th>\n",
       "      <td>ALTER_HH</td>\n",
       "      <td>22</td>\n",
       "      <td>22</td>\n",
       "      <td>22</td>\n",
       "    </tr>\n",
       "    <tr>\n",
       "      <th>287</th>\n",
       "      <td>PRAEGENDE_JUGENDJAHRE</td>\n",
       "      <td>16</td>\n",
       "      <td>16</td>\n",
       "      <td>16</td>\n",
       "    </tr>\n",
       "    <tr>\n",
       "      <th>271</th>\n",
       "      <td>LP_LEBENSPHASE_GROB</td>\n",
       "      <td>12</td>\n",
       "      <td>12</td>\n",
       "      <td>12</td>\n",
       "    </tr>\n",
       "  </tbody>\n",
       "</table>\n",
       "</div>"
      ],
      "text/plain": [
       "                 Attribute  Description  Value  Meaning\n",
       "12          CAMEO_DEU_2015           44     44       44\n",
       "270    LP_LEBENSPHASE_FEIN           40     40       40\n",
       "11      CAMEO_DEUINTL_2015           26     26       26\n",
       "2                 ALTER_HH           22     22       22\n",
       "287  PRAEGENDE_JUGENDJAHRE           16     16       16\n",
       "271    LP_LEBENSPHASE_GROB           12     12       12"
      ]
     },
     "execution_count": 49,
     "metadata": {},
     "output_type": "execute_result"
    }
   ],
   "source": [
    "feat.groupby('Attribute').count().reset_index().sort_values(['Value'], ascending=False).head(6)"
   ]
  },
  {
   "cell_type": "code",
   "execution_count": 50,
   "metadata": {},
   "outputs": [],
   "source": [
    "# These columns are dropped because they got too many categories and cannot be aggregated nicely\n",
    "columns_to_drop = ['CAMEO_DEU_2015', \n",
    "                   'LP_LEBENSPHASE_FEIN',\n",
    "#                    'ALTER_HH',  # already dropped due to too many missing values\n",
    "                   'LP_LEBENSPHASE_GROB']\n",
    "customers.drop(columns=columns_to_drop, inplace=True)\n",
    "azdias.drop(columns=columns_to_drop, inplace=True)"
   ]
  },
  {
   "cell_type": "markdown",
   "metadata": {},
   "source": [
    "CAMEO_DEUINTL_2015 can be aggregated by splitting based on ones and tens"
   ]
  },
  {
   "cell_type": "code",
   "execution_count": 51,
   "metadata": {},
   "outputs": [],
   "source": [
    "# 'CAMEO_INTL_2015' in dataset is named 'CAMEO_DEUINTL_2015' in feat df. This is first aligned\n",
    "feat.replace('CAMEO_DEUINTL_2015', 'CAMEO_INTL_2015', inplace=True)\n",
    "# feat[feat['Attribute']=='CAMEO_INTL_2015']"
   ]
  },
  {
   "cell_type": "code",
   "execution_count": 52,
   "metadata": {},
   "outputs": [],
   "source": [
    "# extract ones / life_status\n",
    "customers['life_status'] = customers['CAMEO_INTL_2015'].mod(10)  \n",
    "azdias['life_status'] = azdias['CAMEO_INTL_2015'].mod(10)"
   ]
  },
  {
   "cell_type": "code",
   "execution_count": 53,
   "metadata": {},
   "outputs": [],
   "source": [
    "# extract tens / wealth\n",
    "customers['wealth'] = (customers['CAMEO_INTL_2015'] - customers['life_status'])/10  \n",
    "azdias['wealth'] = (azdias['CAMEO_INTL_2015'] - azdias['life_status'])/10 "
   ]
  },
  {
   "cell_type": "code",
   "execution_count": 54,
   "metadata": {},
   "outputs": [],
   "source": [
    "customers.drop(columns=['CAMEO_INTL_2015'], inplace=True)\n",
    "azdias.drop(columns=['CAMEO_INTL_2015'], inplace=True)"
   ]
  },
  {
   "cell_type": "markdown",
   "metadata": {},
   "source": [
    "PRAEGENDE_JUGENDJAHRE\n",
    "covers 3 different features but can be split into 'decade' and 'style' (mainstream/avantgarde)"
   ]
  },
  {
   "cell_type": "code",
   "execution_count": 55,
   "metadata": {},
   "outputs": [],
   "source": [
    "# prep dict mapper from value to 'style'\n",
    "style_map = feat[(feat['Attribute']=='PRAEGENDE_JUGENDJAHRE')][['Value', 'Meaning']]\n",
    "style_map.Meaning = style_map.Meaning.str.split('(').str[1].str.split(',').str[0]\n",
    "style_map = dict(zip(style_map.Value, style_map.Meaning))"
   ]
  },
  {
   "cell_type": "code",
   "execution_count": 56,
   "metadata": {},
   "outputs": [],
   "source": [
    "def myTransformer(value, mapper):\n",
    "    try:\n",
    "        return mapper[value]\n",
    "    except KeyError:\n",
    "        return np.nan"
   ]
  },
  {
   "cell_type": "code",
   "execution_count": 57,
   "metadata": {},
   "outputs": [],
   "source": [
    "# construct 'style' feature\n",
    "customers['style'] = customers['PRAEGENDE_JUGENDJAHRE'].apply(myTransformer, mapper=style_map)\n",
    "azdias['style'] = azdias['PRAEGENDE_JUGENDJAHRE'].apply(myTransformer, mapper=style_map)"
   ]
  },
  {
   "cell_type": "code",
   "execution_count": 58,
   "metadata": {},
   "outputs": [],
   "source": [
    "# prep dict mapper from value to 'decade'\n",
    "decade_map = feat[(feat['Attribute']=='PRAEGENDE_JUGENDJAHRE')][['Value', 'Meaning']]\n",
    "decade_map.Meaning = decade_map.Meaning.str.split('ies').str[0]\n",
    "decade_map.replace('unknown', np.nan, inplace=True)\n",
    "decade_map = dict(zip(decade_map.Value, decade_map.Meaning))"
   ]
  },
  {
   "cell_type": "code",
   "execution_count": 59,
   "metadata": {},
   "outputs": [],
   "source": [
    "# construct 'decade' feature\n",
    "customers['decade'] = customers['PRAEGENDE_JUGENDJAHRE'].apply(myTransformer, mapper=decade_map)\n",
    "azdias['decade'] = azdias['PRAEGENDE_JUGENDJAHRE'].apply(myTransformer, mapper=decade_map)"
   ]
  },
  {
   "cell_type": "code",
   "execution_count": 60,
   "metadata": {},
   "outputs": [],
   "source": [
    "customers.drop(columns=['PRAEGENDE_JUGENDJAHRE'], inplace=True)\n",
    "azdias.drop(columns=['PRAEGENDE_JUGENDJAHRE'], inplace=True)"
   ]
  },
  {
   "cell_type": "code",
   "execution_count": 61,
   "metadata": {},
   "outputs": [],
   "source": [
    "# LNR looks wierd and is dropped\n",
    "customers.drop(columns=['LNR'], inplace=True)\n",
    "azdias.drop(columns=['LNR'], inplace=True)"
   ]
  },
  {
   "cell_type": "markdown",
   "metadata": {},
   "source": [
    "### replace any experimental pd.NA as the imputer wont like them"
   ]
  },
  {
   "cell_type": "markdown",
   "metadata": {},
   "source": [
    "This appear to change the type back to float64 as np.nan is a float but it's not an issue here as the encoding deals nicely with those as well."
   ]
  },
  {
   "cell_type": "code",
   "execution_count": 62,
   "metadata": {},
   "outputs": [],
   "source": [
    "customers = customers.replace({pd.NA: np.nan})"
   ]
  },
  {
   "cell_type": "code",
   "execution_count": 63,
   "metadata": {},
   "outputs": [],
   "source": [
    "azdias = azdias.replace({pd.NA: np.nan})"
   ]
  },
  {
   "cell_type": "markdown",
   "metadata": {},
   "source": [
    "### Impute the nans with the most frequent values"
   ]
  },
  {
   "cell_type": "code",
   "execution_count": 64,
   "metadata": {},
   "outputs": [],
   "source": [
    "# only the most frequent strategy can deal with categorical classes.\n",
    "# note: mean for numeric, median for int and most_frequent for categoricals would have been better\n",
    "imputer = SimpleImputer(missing_values=np.nan, strategy='most_frequent')"
   ]
  },
  {
   "cell_type": "code",
   "execution_count": 65,
   "metadata": {},
   "outputs": [
    {
     "data": {
      "text/plain": [
       "SimpleImputer(strategy='most_frequent')"
      ]
     },
     "execution_count": 65,
     "metadata": {},
     "output_type": "execute_result"
    }
   ],
   "source": [
    "imputer.fit(customers)"
   ]
  },
  {
   "cell_type": "code",
   "execution_count": 66,
   "metadata": {},
   "outputs": [],
   "source": [
    "customers = pd.DataFrame(imputer.transform(customers),\n",
    "                         columns=customers.columns,\n",
    "                         index=customers.index).astype(customers.dtypes.to_dict())"
   ]
  },
  {
   "cell_type": "code",
   "execution_count": 67,
   "metadata": {
    "scrolled": false
   },
   "outputs": [],
   "source": [
    "azdias = pd.DataFrame(imputer.transform(azdias),\n",
    "                      columns=azdias.columns,\n",
    "                      index=azdias.index).astype(azdias.dtypes.to_dict())"
   ]
  },
  {
   "cell_type": "code",
   "execution_count": 68,
   "metadata": {},
   "outputs": [],
   "source": [
    "# customers.fillna(customers.mode().iloc[0])  # equivalent less intuitive pandas method"
   ]
  },
  {
   "cell_type": "markdown",
   "metadata": {},
   "source": [
    "### convert all floats to int to reduce size\n",
    "with the NaNs gone the floats can now be converted to int.\n",
    "Note: Int32 does support nan but could not be applied earlier as it uses pandas experimental pd.nan that the Imputer cannot handle."
   ]
  },
  {
   "cell_type": "code",
   "execution_count": 69,
   "metadata": {},
   "outputs": [],
   "source": [
    "def replace_float64_with_int32(df):\n",
    "    for col in df.columns:\n",
    "        if df[col].dtypes == 'float64':\n",
    "            print(df[col].dtypes, col)\n",
    "            df[col] = df[col].astype('int32')"
   ]
  },
  {
   "cell_type": "code",
   "execution_count": 70,
   "metadata": {},
   "outputs": [
    {
     "name": "stdout",
     "output_type": "stream",
     "text": [
      "float64 AKT_DAT_KL\n",
      "float64 ALTERSKATEGORIE_FEIN\n",
      "float64 ANZ_HAUSHALTE_AKTIV\n",
      "float64 ANZ_HH_TITEL\n",
      "float64 ANZ_KINDER\n",
      "float64 ANZ_PERSONEN\n",
      "float64 ANZ_STATISTISCHE_HAUSHALTE\n",
      "float64 ANZ_TITEL\n",
      "float64 ARBEIT\n",
      "float64 BALLRAUM\n",
      "float64 CAMEO_DEUG_2015\n",
      "float64 CJT_GESAMTTYP\n",
      "float64 CJT_KATALOGNUTZER\n",
      "float64 CJT_TYP_1\n",
      "float64 CJT_TYP_2\n",
      "float64 CJT_TYP_3\n",
      "float64 CJT_TYP_4\n",
      "float64 CJT_TYP_5\n",
      "float64 CJT_TYP_6\n",
      "float64 D19_BANKEN_ONLINE_QUOTE_12\n",
      "float64 D19_GESAMT_ONLINE_QUOTE_12\n",
      "float64 D19_KONSUMTYP\n",
      "float64 D19_LOTTO\n",
      "float64 D19_SOZIALES\n",
      "float64 D19_TELKO_ONLINE_QUOTE_12\n",
      "float64 D19_VERSAND_ONLINE_QUOTE_12\n",
      "float64 D19_VERSI_ONLINE_QUOTE_12\n",
      "float64 DSL_FLAG\n",
      "float64 EINGEZOGENAM_HH_JAHR\n",
      "float64 EWDICHTE\n",
      "float64 FIRMENDICHTE\n",
      "float64 GEBAEUDETYP\n",
      "float64 GEBAEUDETYP_RASTER\n",
      "float64 GEMEINDETYP\n",
      "float64 GFK_URLAUBERTYP\n",
      "float64 HEALTH_TYP\n",
      "float64 HH_DELTA_FLAG\n",
      "float64 HH_EINKOMMEN_SCORE\n",
      "float64 INNENSTADT\n",
      "float64 KBA05_ALTER1\n",
      "float64 KBA05_ALTER2\n",
      "float64 KBA05_ALTER3\n",
      "float64 KBA05_ALTER4\n",
      "float64 KBA05_ANHANG\n",
      "float64 KBA05_ANTG1\n",
      "float64 KBA05_ANTG2\n",
      "float64 KBA05_ANTG3\n",
      "float64 KBA05_ANTG4\n",
      "float64 KBA05_AUTOQUOT\n",
      "float64 KBA05_CCM1\n",
      "float64 KBA05_CCM2\n",
      "float64 KBA05_CCM3\n",
      "float64 KBA05_CCM4\n",
      "float64 KBA05_DIESEL\n",
      "float64 KBA05_FRAU\n",
      "float64 KBA05_GBZ\n",
      "float64 KBA05_HERST1\n",
      "float64 KBA05_HERST2\n",
      "float64 KBA05_HERST3\n",
      "float64 KBA05_HERST4\n",
      "float64 KBA05_HERST5\n",
      "float64 KBA05_HERSTTEMP\n",
      "float64 KBA05_KRSAQUOT\n",
      "float64 KBA05_KRSHERST1\n",
      "float64 KBA05_KRSHERST2\n",
      "float64 KBA05_KRSHERST3\n",
      "float64 KBA05_KRSKLEIN\n",
      "float64 KBA05_KRSOBER\n",
      "float64 KBA05_KRSVAN\n",
      "float64 KBA05_KRSZUL\n",
      "float64 KBA05_KW1\n",
      "float64 KBA05_KW2\n",
      "float64 KBA05_KW3\n",
      "float64 KBA05_MAXAH\n",
      "float64 KBA05_MAXBJ\n",
      "float64 KBA05_MAXHERST\n",
      "float64 KBA05_MAXSEG\n",
      "float64 KBA05_MAXVORB\n",
      "float64 KBA05_MOD1\n",
      "float64 KBA05_MOD2\n",
      "float64 KBA05_MOD3\n",
      "float64 KBA05_MOD4\n",
      "float64 KBA05_MOD8\n",
      "float64 KBA05_MODTEMP\n",
      "float64 KBA05_MOTOR\n",
      "float64 KBA05_MOTRAD\n",
      "float64 KBA05_SEG1\n",
      "float64 KBA05_SEG10\n",
      "float64 KBA05_SEG2\n",
      "float64 KBA05_SEG3\n",
      "float64 KBA05_SEG4\n",
      "float64 KBA05_SEG5\n",
      "float64 KBA05_SEG6\n",
      "float64 KBA05_SEG7\n",
      "float64 KBA05_SEG8\n",
      "float64 KBA05_SEG9\n",
      "float64 KBA05_VORB0\n",
      "float64 KBA05_VORB1\n",
      "float64 KBA05_VORB2\n",
      "float64 KBA05_ZUL1\n",
      "float64 KBA05_ZUL2\n",
      "float64 KBA05_ZUL3\n",
      "float64 KBA05_ZUL4\n",
      "float64 KBA13_ALTERHALTER_30\n",
      "float64 KBA13_ALTERHALTER_45\n",
      "float64 KBA13_ALTERHALTER_60\n",
      "float64 KBA13_ALTERHALTER_61\n",
      "float64 KBA13_ANTG1\n",
      "float64 KBA13_ANTG2\n",
      "float64 KBA13_ANTG3\n",
      "float64 KBA13_ANTG4\n",
      "float64 KBA13_ANZAHL_PKW\n",
      "float64 KBA13_AUDI\n",
      "float64 KBA13_AUTOQUOTE\n",
      "float64 KBA13_BAUMAX\n",
      "float64 KBA13_BJ_1999\n",
      "float64 KBA13_BJ_2000\n",
      "float64 KBA13_BJ_2004\n",
      "float64 KBA13_BJ_2006\n",
      "float64 KBA13_BJ_2008\n",
      "float64 KBA13_BJ_2009\n",
      "float64 KBA13_BMW\n",
      "float64 KBA13_CCM_0_1400\n",
      "float64 KBA13_CCM_1000\n",
      "float64 KBA13_CCM_1200\n",
      "float64 KBA13_CCM_1400\n",
      "float64 KBA13_CCM_1401_2500\n",
      "float64 KBA13_CCM_1500\n",
      "float64 KBA13_CCM_1600\n",
      "float64 KBA13_CCM_1800\n",
      "float64 KBA13_CCM_2000\n",
      "float64 KBA13_CCM_2500\n",
      "float64 KBA13_CCM_2501\n",
      "float64 KBA13_CCM_3000\n",
      "float64 KBA13_CCM_3001\n",
      "float64 KBA13_FAB_ASIEN\n",
      "float64 KBA13_FAB_SONSTIGE\n",
      "float64 KBA13_FIAT\n",
      "float64 KBA13_FORD\n",
      "float64 KBA13_GBZ\n",
      "float64 KBA13_HALTER_20\n",
      "float64 KBA13_HALTER_25\n",
      "float64 KBA13_HALTER_30\n",
      "float64 KBA13_HALTER_35\n",
      "float64 KBA13_HALTER_40\n",
      "float64 KBA13_HALTER_45\n",
      "float64 KBA13_HALTER_50\n",
      "float64 KBA13_HALTER_55\n",
      "float64 KBA13_HALTER_60\n",
      "float64 KBA13_HALTER_65\n",
      "float64 KBA13_HALTER_66\n",
      "float64 KBA13_HERST_ASIEN\n",
      "float64 KBA13_HERST_AUDI_VW\n",
      "float64 KBA13_HERST_BMW_BENZ\n",
      "float64 KBA13_HERST_EUROPA\n",
      "float64 KBA13_HERST_FORD_OPEL\n",
      "float64 KBA13_HERST_SONST\n",
      "float64 KBA13_HHZ\n",
      "float64 KBA13_KMH_0_140\n",
      "float64 KBA13_KMH_110\n",
      "float64 KBA13_KMH_140\n",
      "float64 KBA13_KMH_140_210\n",
      "float64 KBA13_KMH_180\n",
      "float64 KBA13_KMH_210\n",
      "float64 KBA13_KMH_211\n",
      "float64 KBA13_KMH_250\n",
      "float64 KBA13_KMH_251\n",
      "float64 KBA13_KRSAQUOT\n",
      "float64 KBA13_KRSHERST_AUDI_VW\n",
      "float64 KBA13_KRSHERST_BMW_BENZ\n",
      "float64 KBA13_KRSHERST_FORD_OPEL\n",
      "float64 KBA13_KRSSEG_KLEIN\n",
      "float64 KBA13_KRSSEG_OBER\n",
      "float64 KBA13_KRSSEG_VAN\n",
      "float64 KBA13_KRSZUL_NEU\n",
      "float64 KBA13_KW_0_60\n",
      "float64 KBA13_KW_110\n",
      "float64 KBA13_KW_120\n",
      "float64 KBA13_KW_121\n",
      "float64 KBA13_KW_30\n",
      "float64 KBA13_KW_40\n",
      "float64 KBA13_KW_50\n",
      "float64 KBA13_KW_60\n",
      "float64 KBA13_KW_61_120\n",
      "float64 KBA13_KW_70\n",
      "float64 KBA13_KW_80\n",
      "float64 KBA13_KW_90\n",
      "float64 KBA13_MAZDA\n",
      "float64 KBA13_MERCEDES\n",
      "float64 KBA13_MOTOR\n",
      "float64 KBA13_NISSAN\n",
      "float64 KBA13_OPEL\n",
      "float64 KBA13_PEUGEOT\n",
      "float64 KBA13_RENAULT\n",
      "float64 KBA13_SEG_GELAENDEWAGEN\n",
      "float64 KBA13_SEG_GROSSRAUMVANS\n",
      "float64 KBA13_SEG_KLEINST\n",
      "float64 KBA13_SEG_KLEINWAGEN\n",
      "float64 KBA13_SEG_KOMPAKTKLASSE\n",
      "float64 KBA13_SEG_MINIVANS\n",
      "float64 KBA13_SEG_MINIWAGEN\n",
      "float64 KBA13_SEG_MITTELKLASSE\n",
      "float64 KBA13_SEG_OBEREMITTELKLASSE\n",
      "float64 KBA13_SEG_OBERKLASSE\n",
      "float64 KBA13_SEG_SONSTIGE\n",
      "float64 KBA13_SEG_SPORTWAGEN\n",
      "float64 KBA13_SEG_UTILITIES\n",
      "float64 KBA13_SEG_VAN\n",
      "float64 KBA13_SEG_WOHNMOBILE\n",
      "float64 KBA13_SITZE_4\n",
      "float64 KBA13_SITZE_5\n",
      "float64 KBA13_SITZE_6\n",
      "float64 KBA13_TOYOTA\n",
      "float64 KBA13_VORB_0\n",
      "float64 KBA13_VORB_1\n",
      "float64 KBA13_VORB_1_2\n",
      "float64 KBA13_VORB_2\n",
      "float64 KBA13_VORB_3\n",
      "float64 KBA13_VW\n",
      "float64 KKK\n",
      "float64 KONSUMNAEHE\n",
      "float64 KONSUMZELLE\n",
      "float64 LP_FAMILIE_FEIN\n",
      "float64 LP_FAMILIE_GROB\n",
      "float64 LP_STATUS_FEIN\n",
      "float64 LP_STATUS_GROB\n",
      "float64 MIN_GEBAEUDEJAHR\n",
      "float64 MOBI_RASTER\n",
      "float64 MOBI_REGIO\n",
      "float64 NATIONALITAET_KZ\n",
      "float64 ONLINE_AFFINITAET\n",
      "float64 ORTSGR_KLS9\n",
      "float64 PLZ8_ANTG1\n",
      "float64 PLZ8_ANTG2\n",
      "float64 PLZ8_ANTG3\n",
      "float64 PLZ8_ANTG4\n",
      "float64 PLZ8_BAUMAX\n",
      "float64 PLZ8_GBZ\n",
      "float64 PLZ8_HHZ\n",
      "float64 REGIOTYP\n",
      "float64 RELAT_AB\n",
      "float64 RETOURTYP_BK_S\n",
      "float64 RT_KEIN_ANREIZ\n",
      "float64 RT_SCHNAEPPCHEN\n",
      "float64 RT_UEBERGROESSE\n",
      "float64 SHOPPER_TYP\n",
      "float64 SOHO_KZ\n",
      "float64 STRUKTURTYP\n",
      "float64 UMFELD_ALT\n",
      "float64 UMFELD_JUNG\n",
      "float64 UNGLEICHENN_FLAG\n",
      "float64 VERDICHTUNGSRAUM\n",
      "float64 VERS_TYP\n",
      "float64 VHA\n",
      "float64 VHN\n",
      "float64 VK_DHT4A\n",
      "float64 VK_DISTANZ\n",
      "float64 VK_ZG11\n",
      "float64 W_KEIT_KIND_HH\n",
      "float64 WOHNDAUER_2008\n",
      "float64 WOHNLAGE\n",
      "float64 life_status\n",
      "float64 wealth\n"
     ]
    }
   ],
   "source": [
    "replace_float64_with_int32(customers)"
   ]
  },
  {
   "cell_type": "code",
   "execution_count": 71,
   "metadata": {},
   "outputs": [
    {
     "name": "stdout",
     "output_type": "stream",
     "text": [
      "float64 AKT_DAT_KL\n",
      "float64 ALTERSKATEGORIE_FEIN\n",
      "float64 ANZ_HAUSHALTE_AKTIV\n",
      "float64 ANZ_HH_TITEL\n",
      "float64 ANZ_KINDER\n",
      "float64 ANZ_PERSONEN\n",
      "float64 ANZ_STATISTISCHE_HAUSHALTE\n",
      "float64 ANZ_TITEL\n",
      "float64 ARBEIT\n",
      "float64 BALLRAUM\n",
      "float64 CAMEO_DEUG_2015\n",
      "float64 CJT_GESAMTTYP\n",
      "float64 CJT_KATALOGNUTZER\n",
      "float64 CJT_TYP_1\n",
      "float64 CJT_TYP_2\n",
      "float64 CJT_TYP_3\n",
      "float64 CJT_TYP_4\n",
      "float64 CJT_TYP_5\n",
      "float64 CJT_TYP_6\n",
      "float64 D19_BANKEN_ONLINE_QUOTE_12\n",
      "float64 D19_GESAMT_ONLINE_QUOTE_12\n",
      "float64 D19_KONSUMTYP\n",
      "float64 D19_LOTTO\n",
      "float64 D19_SOZIALES\n",
      "float64 D19_TELKO_ONLINE_QUOTE_12\n",
      "float64 D19_VERSAND_ONLINE_QUOTE_12\n",
      "float64 D19_VERSI_ONLINE_QUOTE_12\n",
      "float64 DSL_FLAG\n",
      "float64 EINGEZOGENAM_HH_JAHR\n",
      "float64 EWDICHTE\n",
      "float64 FIRMENDICHTE\n",
      "float64 GEBAEUDETYP\n",
      "float64 GEBAEUDETYP_RASTER\n",
      "float64 GEMEINDETYP\n",
      "float64 GFK_URLAUBERTYP\n",
      "float64 HEALTH_TYP\n",
      "float64 HH_DELTA_FLAG\n",
      "float64 HH_EINKOMMEN_SCORE\n",
      "float64 INNENSTADT\n",
      "float64 KBA05_ALTER1\n",
      "float64 KBA05_ALTER2\n",
      "float64 KBA05_ALTER3\n",
      "float64 KBA05_ALTER4\n",
      "float64 KBA05_ANHANG\n",
      "float64 KBA05_ANTG1\n",
      "float64 KBA05_ANTG2\n",
      "float64 KBA05_ANTG3\n",
      "float64 KBA05_ANTG4\n",
      "float64 KBA05_AUTOQUOT\n",
      "float64 KBA05_CCM1\n",
      "float64 KBA05_CCM2\n",
      "float64 KBA05_CCM3\n",
      "float64 KBA05_CCM4\n",
      "float64 KBA05_DIESEL\n",
      "float64 KBA05_FRAU\n",
      "float64 KBA05_GBZ\n",
      "float64 KBA05_HERST1\n",
      "float64 KBA05_HERST2\n",
      "float64 KBA05_HERST3\n",
      "float64 KBA05_HERST4\n",
      "float64 KBA05_HERST5\n",
      "float64 KBA05_HERSTTEMP\n",
      "float64 KBA05_KRSAQUOT\n",
      "float64 KBA05_KRSHERST1\n",
      "float64 KBA05_KRSHERST2\n",
      "float64 KBA05_KRSHERST3\n",
      "float64 KBA05_KRSKLEIN\n",
      "float64 KBA05_KRSOBER\n",
      "float64 KBA05_KRSVAN\n",
      "float64 KBA05_KRSZUL\n",
      "float64 KBA05_KW1\n",
      "float64 KBA05_KW2\n",
      "float64 KBA05_KW3\n",
      "float64 KBA05_MAXAH\n",
      "float64 KBA05_MAXBJ\n",
      "float64 KBA05_MAXHERST\n",
      "float64 KBA05_MAXSEG\n",
      "float64 KBA05_MAXVORB\n",
      "float64 KBA05_MOD1\n",
      "float64 KBA05_MOD2\n",
      "float64 KBA05_MOD3\n",
      "float64 KBA05_MOD4\n",
      "float64 KBA05_MOD8\n",
      "float64 KBA05_MODTEMP\n",
      "float64 KBA05_MOTOR\n",
      "float64 KBA05_MOTRAD\n",
      "float64 KBA05_SEG1\n",
      "float64 KBA05_SEG10\n",
      "float64 KBA05_SEG2\n",
      "float64 KBA05_SEG3\n",
      "float64 KBA05_SEG4\n",
      "float64 KBA05_SEG5\n",
      "float64 KBA05_SEG6\n",
      "float64 KBA05_SEG7\n",
      "float64 KBA05_SEG8\n",
      "float64 KBA05_SEG9\n",
      "float64 KBA05_VORB0\n",
      "float64 KBA05_VORB1\n",
      "float64 KBA05_VORB2\n",
      "float64 KBA05_ZUL1\n",
      "float64 KBA05_ZUL2\n",
      "float64 KBA05_ZUL3\n",
      "float64 KBA05_ZUL4\n",
      "float64 KBA13_ALTERHALTER_30\n",
      "float64 KBA13_ALTERHALTER_45\n",
      "float64 KBA13_ALTERHALTER_60\n",
      "float64 KBA13_ALTERHALTER_61\n",
      "float64 KBA13_ANTG1\n",
      "float64 KBA13_ANTG2\n",
      "float64 KBA13_ANTG3\n",
      "float64 KBA13_ANTG4\n",
      "float64 KBA13_ANZAHL_PKW\n",
      "float64 KBA13_AUDI\n",
      "float64 KBA13_AUTOQUOTE\n",
      "float64 KBA13_BAUMAX\n",
      "float64 KBA13_BJ_1999\n",
      "float64 KBA13_BJ_2000\n",
      "float64 KBA13_BJ_2004\n",
      "float64 KBA13_BJ_2006\n",
      "float64 KBA13_BJ_2008\n",
      "float64 KBA13_BJ_2009\n",
      "float64 KBA13_BMW\n",
      "float64 KBA13_CCM_0_1400\n",
      "float64 KBA13_CCM_1000\n",
      "float64 KBA13_CCM_1200\n",
      "float64 KBA13_CCM_1400\n",
      "float64 KBA13_CCM_1401_2500\n",
      "float64 KBA13_CCM_1500\n",
      "float64 KBA13_CCM_1600\n",
      "float64 KBA13_CCM_1800\n",
      "float64 KBA13_CCM_2000\n",
      "float64 KBA13_CCM_2500\n",
      "float64 KBA13_CCM_2501\n",
      "float64 KBA13_CCM_3000\n",
      "float64 KBA13_CCM_3001\n",
      "float64 KBA13_FAB_ASIEN\n",
      "float64 KBA13_FAB_SONSTIGE\n",
      "float64 KBA13_FIAT\n",
      "float64 KBA13_FORD\n",
      "float64 KBA13_GBZ\n",
      "float64 KBA13_HALTER_20\n",
      "float64 KBA13_HALTER_25\n",
      "float64 KBA13_HALTER_30\n",
      "float64 KBA13_HALTER_35\n",
      "float64 KBA13_HALTER_40\n",
      "float64 KBA13_HALTER_45\n",
      "float64 KBA13_HALTER_50\n",
      "float64 KBA13_HALTER_55\n",
      "float64 KBA13_HALTER_60\n",
      "float64 KBA13_HALTER_65\n",
      "float64 KBA13_HALTER_66\n",
      "float64 KBA13_HERST_ASIEN\n",
      "float64 KBA13_HERST_AUDI_VW\n",
      "float64 KBA13_HERST_BMW_BENZ\n",
      "float64 KBA13_HERST_EUROPA\n",
      "float64 KBA13_HERST_FORD_OPEL\n",
      "float64 KBA13_HERST_SONST\n",
      "float64 KBA13_HHZ\n",
      "float64 KBA13_KMH_0_140\n",
      "float64 KBA13_KMH_110\n",
      "float64 KBA13_KMH_140\n",
      "float64 KBA13_KMH_140_210\n",
      "float64 KBA13_KMH_180\n",
      "float64 KBA13_KMH_210\n",
      "float64 KBA13_KMH_211\n",
      "float64 KBA13_KMH_250\n",
      "float64 KBA13_KMH_251\n",
      "float64 KBA13_KRSAQUOT\n",
      "float64 KBA13_KRSHERST_AUDI_VW\n",
      "float64 KBA13_KRSHERST_BMW_BENZ\n",
      "float64 KBA13_KRSHERST_FORD_OPEL\n",
      "float64 KBA13_KRSSEG_KLEIN\n",
      "float64 KBA13_KRSSEG_OBER\n",
      "float64 KBA13_KRSSEG_VAN\n",
      "float64 KBA13_KRSZUL_NEU\n",
      "float64 KBA13_KW_0_60\n",
      "float64 KBA13_KW_110\n",
      "float64 KBA13_KW_120\n",
      "float64 KBA13_KW_121\n",
      "float64 KBA13_KW_30\n",
      "float64 KBA13_KW_40\n",
      "float64 KBA13_KW_50\n",
      "float64 KBA13_KW_60\n",
      "float64 KBA13_KW_61_120\n",
      "float64 KBA13_KW_70\n",
      "float64 KBA13_KW_80\n",
      "float64 KBA13_KW_90\n",
      "float64 KBA13_MAZDA\n",
      "float64 KBA13_MERCEDES\n",
      "float64 KBA13_MOTOR\n",
      "float64 KBA13_NISSAN\n",
      "float64 KBA13_OPEL\n",
      "float64 KBA13_PEUGEOT\n",
      "float64 KBA13_RENAULT\n",
      "float64 KBA13_SEG_GELAENDEWAGEN\n",
      "float64 KBA13_SEG_GROSSRAUMVANS\n",
      "float64 KBA13_SEG_KLEINST\n",
      "float64 KBA13_SEG_KLEINWAGEN\n",
      "float64 KBA13_SEG_KOMPAKTKLASSE\n",
      "float64 KBA13_SEG_MINIVANS\n",
      "float64 KBA13_SEG_MINIWAGEN\n",
      "float64 KBA13_SEG_MITTELKLASSE\n",
      "float64 KBA13_SEG_OBEREMITTELKLASSE\n",
      "float64 KBA13_SEG_OBERKLASSE\n",
      "float64 KBA13_SEG_SONSTIGE\n",
      "float64 KBA13_SEG_SPORTWAGEN\n",
      "float64 KBA13_SEG_UTILITIES\n",
      "float64 KBA13_SEG_VAN\n",
      "float64 KBA13_SEG_WOHNMOBILE\n",
      "float64 KBA13_SITZE_4\n",
      "float64 KBA13_SITZE_5\n",
      "float64 KBA13_SITZE_6\n",
      "float64 KBA13_TOYOTA\n",
      "float64 KBA13_VORB_0\n",
      "float64 KBA13_VORB_1\n",
      "float64 KBA13_VORB_1_2\n",
      "float64 KBA13_VORB_2\n",
      "float64 KBA13_VORB_3\n",
      "float64 KBA13_VW\n",
      "float64 KKK\n",
      "float64 KONSUMNAEHE\n",
      "float64 KONSUMZELLE\n",
      "float64 LP_FAMILIE_FEIN\n",
      "float64 LP_FAMILIE_GROB\n",
      "float64 LP_STATUS_FEIN\n",
      "float64 LP_STATUS_GROB\n",
      "float64 MIN_GEBAEUDEJAHR\n",
      "float64 MOBI_RASTER\n",
      "float64 MOBI_REGIO\n",
      "float64 NATIONALITAET_KZ\n",
      "float64 ONLINE_AFFINITAET\n",
      "float64 ORTSGR_KLS9\n",
      "float64 PLZ8_ANTG1\n",
      "float64 PLZ8_ANTG2\n",
      "float64 PLZ8_ANTG3\n",
      "float64 PLZ8_ANTG4\n",
      "float64 PLZ8_BAUMAX\n",
      "float64 PLZ8_GBZ\n",
      "float64 PLZ8_HHZ\n",
      "float64 REGIOTYP\n",
      "float64 RELAT_AB\n",
      "float64 RETOURTYP_BK_S\n",
      "float64 RT_KEIN_ANREIZ\n",
      "float64 RT_SCHNAEPPCHEN\n",
      "float64 RT_UEBERGROESSE\n",
      "float64 SHOPPER_TYP\n",
      "float64 SOHO_KZ\n",
      "float64 STRUKTURTYP\n",
      "float64 UMFELD_ALT\n",
      "float64 UMFELD_JUNG\n",
      "float64 UNGLEICHENN_FLAG\n",
      "float64 VERDICHTUNGSRAUM\n",
      "float64 VERS_TYP\n",
      "float64 VHA\n",
      "float64 VHN\n",
      "float64 VK_DHT4A\n",
      "float64 VK_DISTANZ\n",
      "float64 VK_ZG11\n",
      "float64 W_KEIT_KIND_HH\n",
      "float64 WOHNDAUER_2008\n",
      "float64 WOHNLAGE\n",
      "float64 life_status\n",
      "float64 wealth\n"
     ]
    }
   ],
   "source": [
    "replace_float64_with_int32(azdias)"
   ]
  },
  {
   "cell_type": "markdown",
   "metadata": {},
   "source": [
    "### dump/read preprocessed data"
   ]
  },
  {
   "cell_type": "code",
   "execution_count": 72,
   "metadata": {},
   "outputs": [],
   "source": [
    "# dump/save preprocessed data\n",
    "# customers.to_csv('./data/customers_preprocessed.csv')\n",
    "# azdias.to_csv('./data/azdias_preprocessed.csv')"
   ]
  },
  {
   "cell_type": "code",
   "execution_count": 73,
   "metadata": {},
   "outputs": [],
   "source": [
    "# read preprocessed data\n",
    "# customers = pd.read_csv('./data/customers_preprocessed.csv', index_col=0)\n",
    "# azdias = pd.read_csv('./data/azdias_preprocessed.csv', index_col=0)"
   ]
  },
  {
   "cell_type": "markdown",
   "metadata": {},
   "source": [
    "### Feature Encoding - binary classes are encoded with LabelEncoder()"
   ]
  },
  {
   "cell_type": "code",
   "execution_count": 74,
   "metadata": {},
   "outputs": [],
   "source": [
    "def get_binary_columns(df):\n",
    "    binary_columns = []\n",
    "    for col in df.columns:\n",
    "        if df[col].nunique() == 2:  # nans not included\n",
    "#             print(col, '   binary', '     ', df[col].dtypes)\n",
    "            binary_columns.append(col)\n",
    "    #         print(customers[col].head(10))\n",
    "    return binary_columns"
   ]
  },
  {
   "cell_type": "code",
   "execution_count": 75,
   "metadata": {},
   "outputs": [],
   "source": [
    "binary_columns = get_binary_columns(customers)"
   ]
  },
  {
   "cell_type": "code",
   "execution_count": 76,
   "metadata": {},
   "outputs": [
    {
     "data": {
      "text/plain": [
       "True"
      ]
     },
     "execution_count": 76,
     "metadata": {},
     "output_type": "execute_result"
    }
   ],
   "source": [
    "# same features confirmed for azdias\n",
    "azdias_binary_columns = get_binary_columns(azdias)\n",
    "set(azdias_binary_columns) == set(binary_columns)"
   ]
  },
  {
   "cell_type": "code",
   "execution_count": 77,
   "metadata": {},
   "outputs": [],
   "source": [
    "binary_encoders = {}\n",
    "for col in binary_columns:\n",
    "    le = LabelEncoder()\n",
    "    azdias[col] = le.fit_transform(azdias[col].values)\n",
    "    customers[col] = le.transform(customers[col].values)\n",
    "    binary_encoders[col] = le  # store encoder if the encoding needs to be reversed later"
   ]
  },
  {
   "cell_type": "code",
   "execution_count": 78,
   "metadata": {},
   "outputs": [
    {
     "data": {
      "text/html": [
       "<div>\n",
       "<style scoped>\n",
       "    .dataframe tbody tr th:only-of-type {\n",
       "        vertical-align: middle;\n",
       "    }\n",
       "\n",
       "    .dataframe tbody tr th {\n",
       "        vertical-align: top;\n",
       "    }\n",
       "\n",
       "    .dataframe thead th {\n",
       "        text-align: right;\n",
       "    }\n",
       "</style>\n",
       "<table border=\"1\" class=\"dataframe\">\n",
       "  <thead>\n",
       "    <tr style=\"text-align: right;\">\n",
       "      <th></th>\n",
       "      <th>OST_WEST_KZ</th>\n",
       "      <th>ANREDE_KZ</th>\n",
       "      <th>style</th>\n",
       "    </tr>\n",
       "  </thead>\n",
       "  <tbody>\n",
       "    <tr>\n",
       "      <th>0</th>\n",
       "      <td>1</td>\n",
       "      <td>0</td>\n",
       "      <td>0</td>\n",
       "    </tr>\n",
       "    <tr>\n",
       "      <th>1</th>\n",
       "      <td>1</td>\n",
       "      <td>0</td>\n",
       "      <td>1</td>\n",
       "    </tr>\n",
       "    <tr>\n",
       "      <th>2</th>\n",
       "      <td>1</td>\n",
       "      <td>1</td>\n",
       "      <td>0</td>\n",
       "    </tr>\n",
       "    <tr>\n",
       "      <th>3</th>\n",
       "      <td>1</td>\n",
       "      <td>0</td>\n",
       "      <td>1</td>\n",
       "    </tr>\n",
       "    <tr>\n",
       "      <th>4</th>\n",
       "      <td>1</td>\n",
       "      <td>0</td>\n",
       "      <td>1</td>\n",
       "    </tr>\n",
       "  </tbody>\n",
       "</table>\n",
       "</div>"
      ],
      "text/plain": [
       "   OST_WEST_KZ  ANREDE_KZ  style\n",
       "0            1          0      0\n",
       "1            1          0      1\n",
       "2            1          1      0\n",
       "3            1          0      1\n",
       "4            1          0      1"
      ]
     },
     "execution_count": 78,
     "metadata": {},
     "output_type": "execute_result"
    }
   ],
   "source": [
    "# confirmation of encoding\n",
    "customers[['OST_WEST_KZ', 'ANREDE_KZ', 'style']].head()"
   ]
  },
  {
   "cell_type": "markdown",
   "metadata": {},
   "source": [
    "### Multi-class vs numeric value features"
   ]
  },
  {
   "cell_type": "markdown",
   "metadata": {},
   "source": [
    "first the multi-label features are identified (btw I did confirm that there was no single-label features just to be sure)"
   ]
  },
  {
   "cell_type": "code",
   "execution_count": 79,
   "metadata": {},
   "outputs": [
    {
     "name": "stdout",
     "output_type": "stream",
     "text": [
      "no. of multi-label columns found: 320\n"
     ]
    }
   ],
   "source": [
    "multilabel_columns = set()\n",
    "for col in customers.columns:\n",
    "    if customers[col].nunique() > 2:  # nans not included\n",
    "        multilabel_columns.add(col)\n",
    "print('no. of multi-label columns found:', len(multilabel_columns))"
   ]
  },
  {
   "cell_type": "markdown",
   "metadata": {},
   "source": [
    "Some of these multilabel columns represent multi-classes and others a numeric/continuous varying character.\n",
    "This split requires manual intervention using the feature descriptions\n",
    "...\n",
    "\n"
   ]
  },
  {
   "cell_type": "code",
   "execution_count": 80,
   "metadata": {},
   "outputs": [],
   "source": [
    "# initialise the est containers\n",
    "numeric_columns = set()\n",
    "no_match_columns = set()\n",
    "multiclass_columns = set()"
   ]
  },
  {
   "cell_type": "code",
   "execution_count": 81,
   "metadata": {},
   "outputs": [],
   "source": [
    "# find the numeric features using the feature df\n",
    "def scan_feat_attr(column_list):\n",
    "    for col in column_list:\n",
    "        # look for Attribute name matches\n",
    "        match = feat[feat.Attribute == col]\n",
    "        if len(match):\n",
    "            # look for \"numeric value\" in Meaning\n",
    "            numeric_match = match[match.Meaning.str.contains('numeric value')]\n",
    "            if len(numeric_match):\n",
    "                numeric_columns.add(col)\n",
    "            else:\n",
    "                multiclass_columns.add(col)\n",
    "        else:\n",
    "            no_match_columns.add(col)"
   ]
  },
  {
   "cell_type": "code",
   "execution_count": 82,
   "metadata": {},
   "outputs": [
    {
     "name": "stdout",
     "output_type": "stream",
     "text": [
      "no. of numeric columns found: 7\n",
      "no. of multi-class columns found: 230\n",
      "no. of no match columns found: 83\n"
     ]
    }
   ],
   "source": [
    "# scan\n",
    "scan_feat_attr(multilabel_columns)\n",
    "print('no. of numeric columns found:', len(numeric_columns))\n",
    "print('no. of multi-class columns found:', len(multiclass_columns))\n",
    "print('no. of no match columns found:', len(no_match_columns))"
   ]
  },
  {
   "cell_type": "markdown",
   "metadata": {},
   "source": [
    "83 left that wasn't matched (a few is my own new features).\n",
    "Now we look for near matches:"
   ]
  },
  {
   "cell_type": "code",
   "execution_count": 83,
   "metadata": {},
   "outputs": [],
   "source": [
    "# look for near matches\n",
    "for col in no_match_columns:\n",
    "    match = feat[feat['Attribute'].str.contains(col)]['Attribute']\n",
    "    match = set(match.values)\n",
    "    if len(match) == 1:\n",
    "        feat_col = list(match)[0]\n",
    "        feat.replace(feat_col, col, inplace=True)  # correct the attr name in feat df\n",
    "#         print('Corrected attr: ', feat_col, '--->', col)\n",
    "    elif len(match) > 1:\n",
    "        print('more than one near match found!')"
   ]
  },
  {
   "cell_type": "code",
   "execution_count": 84,
   "metadata": {},
   "outputs": [],
   "source": [
    "# check correct of feat df\n",
    "# feat[feat.Attribute == \"D19_BILDUNG\"]"
   ]
  },
  {
   "cell_type": "markdown",
   "metadata": {},
   "source": [
    "with the feat df corrected we can try to scan it again"
   ]
  },
  {
   "cell_type": "code",
   "execution_count": 85,
   "metadata": {},
   "outputs": [
    {
     "name": "stdout",
     "output_type": "stream",
     "text": [
      "no. of numeric columns found: 7\n",
      "no. of multi-class columns found: 263\n",
      "no. of no match columns found: 50\n"
     ]
    }
   ],
   "source": [
    "# re-scan\n",
    "scan_feat_attr(no_match_columns)\n",
    "no_match_columns = no_match_columns - numeric_columns - multiclass_columns\n",
    "print('no. of numeric columns found:', len(numeric_columns))\n",
    "print('no. of multi-class columns found:', len(multiclass_columns))\n",
    "print('no. of no match columns found:', len(no_match_columns))"
   ]
  },
  {
   "cell_type": "code",
   "execution_count": 86,
   "metadata": {},
   "outputs": [],
   "source": [
    "# investigate those without match\n",
    "# show_all(customers[no_match_columns])"
   ]
  },
  {
   "cell_type": "markdown",
   "metadata": {},
   "source": [
    "now only 50 column names are unmatched. More time could be invested to try to match these up so we better know how to deal with the values but for now they will all be considered as multi-class features (alternatively they could also have been dropped)."
   ]
  },
  {
   "cell_type": "code",
   "execution_count": 87,
   "metadata": {},
   "outputs": [],
   "source": [
    "multiclass_columns = multiclass_columns.union(no_match_columns)"
   ]
  },
  {
   "cell_type": "markdown",
   "metadata": {},
   "source": [
    "This brought me to find too many multi-class features which after one hot encoding would give way to many features.\n",
    "I therefore decided to invest the time needed to go through manually and identify the true multiclass features as below:"
   ]
  },
  {
   "cell_type": "code",
   "execution_count": 88,
   "metadata": {},
   "outputs": [],
   "source": [
    "# manually found as true multi-class features\n",
    "true_multiclass = set([\n",
    "#                     'CAMEO_DEU_2015',  # dropped\n",
    "                    'CAMEO_DEUG_2015',\n",
    "                    'D19_KONSUMTYP',\n",
    "                    'LP_FAMILIE_FEIN',\n",
    "                    'CJT_GESAMTTYP',\n",
    "                    'LP_FAMILIE_GROB',\n",
    "                    'LP_STATUS_FEIN',\n",
    "                    'FINANZTYP',\n",
    "                    'GEBAEUDETYP',\n",
    "                    'D19_LETZTER_KAUF_BRANCHE',\n",
    "                    'GFK_URLAUBERTYP',\n",
    "                    'KBA05_MAXHERST',\n",
    "                    'KBA05_MAXSEG',\n",
    "                    'SHOPPER_TYP',\n",
    "                    'ZABEOTYP',\n",
    "                    'LP_STATUS_GROB',\n",
    "                    'NATIONALITAET_KZ',\n",
    "                    'WOHNLAGE',\n",
    "                    ])"
   ]
  },
  {
   "cell_type": "markdown",
   "metadata": {},
   "source": [
    "All the multi-class features not chosen here are not numeric/continuous values but still reflect \n",
    "a kind of increasing interval-like values that would be acceptable to approach as being numeric"
   ]
  },
  {
   "cell_type": "code",
   "execution_count": 89,
   "metadata": {},
   "outputs": [],
   "source": [
    "# update the numeric_columns set to include the rest\n",
    "numeric_columns = list(multilabel_columns - true_multiclass)"
   ]
  },
  {
   "cell_type": "code",
   "execution_count": 90,
   "metadata": {},
   "outputs": [
    {
     "name": "stdout",
     "output_type": "stream",
     "text": [
      "(891203, 331)\n",
      "(191649, 331)\n"
     ]
    }
   ],
   "source": [
    "# shape inspection after column harmonisation\n",
    "print(azdias.shape)\n",
    "print(customers.shape)"
   ]
  },
  {
   "cell_type": "markdown",
   "metadata": {},
   "source": [
    "### Feature Encoding - multi-classes are encoded with One Hot Encoding\n",
    "The categorical classes that clearly don't have an ordering to them"
   ]
  },
  {
   "cell_type": "code",
   "execution_count": 91,
   "metadata": {},
   "outputs": [],
   "source": [
    "# onehot = OneHotEncoder()\n",
    "# pd.DataFrame(onehot.fit_transform(customers[list(true_multiclass)]).toarray())\n",
    "# pd.DataFrame(onehot.fit_transform(customers[['WOHNLAGE']]).toarray())"
   ]
  },
  {
   "cell_type": "code",
   "execution_count": 92,
   "metadata": {},
   "outputs": [],
   "source": [
    "true_multiclass = list(true_multiclass)\n",
    "customers = pd.get_dummies(customers, columns=true_multiclass, prefix=true_multiclass, drop_first=True)\n",
    "azdias = pd.get_dummies(azdias, columns=true_multiclass, prefix=true_multiclass, drop_first=True)"
   ]
  },
  {
   "cell_type": "code",
   "execution_count": 93,
   "metadata": {
    "scrolled": true
   },
   "outputs": [
    {
     "data": {
      "text/html": [
       "<div>\n",
       "<style scoped>\n",
       "    .dataframe tbody tr th:only-of-type {\n",
       "        vertical-align: middle;\n",
       "    }\n",
       "\n",
       "    .dataframe tbody tr th {\n",
       "        vertical-align: top;\n",
       "    }\n",
       "\n",
       "    .dataframe thead th {\n",
       "        text-align: right;\n",
       "    }\n",
       "</style>\n",
       "<table border=\"1\" class=\"dataframe\">\n",
       "  <thead>\n",
       "    <tr style=\"text-align: right;\">\n",
       "      <th></th>\n",
       "      <th>AKT_DAT_KL</th>\n",
       "      <th>ALTERSKATEGORIE_FEIN</th>\n",
       "      <th>ANZ_HAUSHALTE_AKTIV</th>\n",
       "      <th>ANZ_HH_TITEL</th>\n",
       "      <th>ANZ_KINDER</th>\n",
       "      <th>ANZ_PERSONEN</th>\n",
       "      <th>ANZ_STATISTISCHE_HAUSHALTE</th>\n",
       "      <th>ANZ_TITEL</th>\n",
       "      <th>ARBEIT</th>\n",
       "      <th>BALLRAUM</th>\n",
       "      <th>...</th>\n",
       "      <th>D19_LETZTER_KAUF_BRANCHE_D19_VOLLSORTIMENT</th>\n",
       "      <th>D19_LETZTER_KAUF_BRANCHE_D19_WEIN_FEINKOST</th>\n",
       "      <th>CJT_GESAMTTYP_2</th>\n",
       "      <th>CJT_GESAMTTYP_3</th>\n",
       "      <th>CJT_GESAMTTYP_4</th>\n",
       "      <th>CJT_GESAMTTYP_5</th>\n",
       "      <th>CJT_GESAMTTYP_6</th>\n",
       "      <th>KBA05_MAXSEG_2</th>\n",
       "      <th>KBA05_MAXSEG_3</th>\n",
       "      <th>KBA05_MAXSEG_4</th>\n",
       "    </tr>\n",
       "  </thead>\n",
       "  <tbody>\n",
       "    <tr>\n",
       "      <th>0</th>\n",
       "      <td>1</td>\n",
       "      <td>10</td>\n",
       "      <td>1</td>\n",
       "      <td>0</td>\n",
       "      <td>0</td>\n",
       "      <td>2</td>\n",
       "      <td>1</td>\n",
       "      <td>0</td>\n",
       "      <td>1</td>\n",
       "      <td>3</td>\n",
       "      <td>...</td>\n",
       "      <td>0</td>\n",
       "      <td>0</td>\n",
       "      <td>0</td>\n",
       "      <td>0</td>\n",
       "      <td>0</td>\n",
       "      <td>1</td>\n",
       "      <td>0</td>\n",
       "      <td>0</td>\n",
       "      <td>1</td>\n",
       "      <td>0</td>\n",
       "    </tr>\n",
       "    <tr>\n",
       "      <th>1</th>\n",
       "      <td>9</td>\n",
       "      <td>10</td>\n",
       "      <td>1</td>\n",
       "      <td>0</td>\n",
       "      <td>0</td>\n",
       "      <td>3</td>\n",
       "      <td>1</td>\n",
       "      <td>0</td>\n",
       "      <td>3</td>\n",
       "      <td>6</td>\n",
       "      <td>...</td>\n",
       "      <td>0</td>\n",
       "      <td>0</td>\n",
       "      <td>0</td>\n",
       "      <td>0</td>\n",
       "      <td>0</td>\n",
       "      <td>0</td>\n",
       "      <td>1</td>\n",
       "      <td>1</td>\n",
       "      <td>0</td>\n",
       "      <td>0</td>\n",
       "    </tr>\n",
       "    <tr>\n",
       "      <th>2</th>\n",
       "      <td>1</td>\n",
       "      <td>0</td>\n",
       "      <td>1</td>\n",
       "      <td>0</td>\n",
       "      <td>0</td>\n",
       "      <td>1</td>\n",
       "      <td>1</td>\n",
       "      <td>0</td>\n",
       "      <td>3</td>\n",
       "      <td>7</td>\n",
       "      <td>...</td>\n",
       "      <td>0</td>\n",
       "      <td>0</td>\n",
       "      <td>1</td>\n",
       "      <td>0</td>\n",
       "      <td>0</td>\n",
       "      <td>0</td>\n",
       "      <td>0</td>\n",
       "      <td>1</td>\n",
       "      <td>0</td>\n",
       "      <td>0</td>\n",
       "    </tr>\n",
       "    <tr>\n",
       "      <th>3</th>\n",
       "      <td>1</td>\n",
       "      <td>8</td>\n",
       "      <td>0</td>\n",
       "      <td>0</td>\n",
       "      <td>0</td>\n",
       "      <td>0</td>\n",
       "      <td>1</td>\n",
       "      <td>0</td>\n",
       "      <td>1</td>\n",
       "      <td>7</td>\n",
       "      <td>...</td>\n",
       "      <td>0</td>\n",
       "      <td>0</td>\n",
       "      <td>1</td>\n",
       "      <td>0</td>\n",
       "      <td>0</td>\n",
       "      <td>0</td>\n",
       "      <td>0</td>\n",
       "      <td>0</td>\n",
       "      <td>0</td>\n",
       "      <td>0</td>\n",
       "    </tr>\n",
       "    <tr>\n",
       "      <th>4</th>\n",
       "      <td>1</td>\n",
       "      <td>14</td>\n",
       "      <td>7</td>\n",
       "      <td>0</td>\n",
       "      <td>0</td>\n",
       "      <td>4</td>\n",
       "      <td>7</td>\n",
       "      <td>0</td>\n",
       "      <td>3</td>\n",
       "      <td>3</td>\n",
       "      <td>...</td>\n",
       "      <td>0</td>\n",
       "      <td>0</td>\n",
       "      <td>0</td>\n",
       "      <td>0</td>\n",
       "      <td>0</td>\n",
       "      <td>0</td>\n",
       "      <td>1</td>\n",
       "      <td>1</td>\n",
       "      <td>0</td>\n",
       "      <td>0</td>\n",
       "    </tr>\n",
       "  </tbody>\n",
       "</table>\n",
       "<p>5 rows × 441 columns</p>\n",
       "</div>"
      ],
      "text/plain": [
       "   AKT_DAT_KL  ALTERSKATEGORIE_FEIN  ANZ_HAUSHALTE_AKTIV  ANZ_HH_TITEL  \\\n",
       "0           1                    10                    1             0   \n",
       "1           9                    10                    1             0   \n",
       "2           1                     0                    1             0   \n",
       "3           1                     8                    0             0   \n",
       "4           1                    14                    7             0   \n",
       "\n",
       "   ANZ_KINDER  ANZ_PERSONEN  ANZ_STATISTISCHE_HAUSHALTE  ANZ_TITEL  ARBEIT  \\\n",
       "0           0             2                           1          0       1   \n",
       "1           0             3                           1          0       3   \n",
       "2           0             1                           1          0       3   \n",
       "3           0             0                           1          0       1   \n",
       "4           0             4                           7          0       3   \n",
       "\n",
       "   BALLRAUM  ...  D19_LETZTER_KAUF_BRANCHE_D19_VOLLSORTIMENT  \\\n",
       "0         3  ...                                           0   \n",
       "1         6  ...                                           0   \n",
       "2         7  ...                                           0   \n",
       "3         7  ...                                           0   \n",
       "4         3  ...                                           0   \n",
       "\n",
       "   D19_LETZTER_KAUF_BRANCHE_D19_WEIN_FEINKOST  CJT_GESAMTTYP_2  \\\n",
       "0                                           0                0   \n",
       "1                                           0                0   \n",
       "2                                           0                1   \n",
       "3                                           0                1   \n",
       "4                                           0                0   \n",
       "\n",
       "   CJT_GESAMTTYP_3  CJT_GESAMTTYP_4  CJT_GESAMTTYP_5  CJT_GESAMTTYP_6  \\\n",
       "0                0                0                1                0   \n",
       "1                0                0                0                1   \n",
       "2                0                0                0                0   \n",
       "3                0                0                0                0   \n",
       "4                0                0                0                1   \n",
       "\n",
       "   KBA05_MAXSEG_2  KBA05_MAXSEG_3  KBA05_MAXSEG_4  \n",
       "0               0               1               0  \n",
       "1               1               0               0  \n",
       "2               1               0               0  \n",
       "3               0               0               0  \n",
       "4               1               0               0  \n",
       "\n",
       "[5 rows x 441 columns]"
      ]
     },
     "execution_count": 93,
     "metadata": {},
     "output_type": "execute_result"
    }
   ],
   "source": [
    "# confirm one-hot-encoding\n",
    "customers.head()"
   ]
  },
  {
   "cell_type": "code",
   "execution_count": 94,
   "metadata": {},
   "outputs": [
    {
     "data": {
      "text/plain": [
       "{'GEBAEUDETYP_5'}"
      ]
     },
     "execution_count": 94,
     "metadata": {},
     "output_type": "execute_result"
    }
   ],
   "source": [
    "# check discrepancies. The minor customers dataset may not have all values represented \n",
    "missing_features = set(azdias.columns) - set(customers.columns) \n",
    "missing_features"
   ]
  },
  {
   "cell_type": "code",
   "execution_count": 95,
   "metadata": {},
   "outputs": [],
   "source": [
    "# insert missing \n",
    "for col in missing_features:\n",
    "    customers[col] = 0"
   ]
  },
  {
   "cell_type": "code",
   "execution_count": 96,
   "metadata": {},
   "outputs": [
    {
     "name": "stdout",
     "output_type": "stream",
     "text": [
      "(891203, 442)\n",
      "(191649, 442)\n"
     ]
    }
   ],
   "source": [
    "# shape inspection to confirm equal number of columns\n",
    "print(azdias.shape)\n",
    "print(customers.shape)"
   ]
  },
  {
   "cell_type": "markdown",
   "metadata": {},
   "source": [
    "### Scaling\n",
    "The numeric/continuous varying features are normalised so they are evaluated with equal weight"
   ]
  },
  {
   "cell_type": "code",
   "execution_count": 97,
   "metadata": {},
   "outputs": [],
   "source": [
    "# scaler = StandardScaler()  # standardize\n",
    "scaler = MinMaxScaler()  # normalize\n",
    "azdias[numeric_columns] = scaler.fit_transform(azdias[numeric_columns])\n",
    "customers[numeric_columns] = scaler.transform(customers[numeric_columns])"
   ]
  },
  {
   "cell_type": "code",
   "execution_count": 98,
   "metadata": {},
   "outputs": [
    {
     "data": {
      "text/html": [
       "<div>\n",
       "<style scoped>\n",
       "    .dataframe tbody tr th:only-of-type {\n",
       "        vertical-align: middle;\n",
       "    }\n",
       "\n",
       "    .dataframe tbody tr th {\n",
       "        vertical-align: top;\n",
       "    }\n",
       "\n",
       "    .dataframe thead th {\n",
       "        text-align: right;\n",
       "    }\n",
       "</style>\n",
       "<table border=\"1\" class=\"dataframe\">\n",
       "  <thead>\n",
       "    <tr style=\"text-align: right;\">\n",
       "      <th></th>\n",
       "      <th>D19_TELKO_REST</th>\n",
       "      <th>KBA13_BJ_2006</th>\n",
       "      <th>EINGEZOGENAM_HH_JAHR</th>\n",
       "      <th>KBA13_SEG_KOMPAKTKLASSE</th>\n",
       "      <th>KBA13_KMH_210</th>\n",
       "      <th>PLZ8_GBZ</th>\n",
       "      <th>KBA05_ZUL1</th>\n",
       "      <th>KBA13_KRSSEG_KLEIN</th>\n",
       "      <th>GEBURTSJAHR</th>\n",
       "      <th>SEMIO_MAT</th>\n",
       "      <th>...</th>\n",
       "      <th>D19_BANKEN_ONLINE_QUOTE_12</th>\n",
       "      <th>UMFELD_JUNG</th>\n",
       "      <th>KBA13_SEG_OBEREMITTELKLASSE</th>\n",
       "      <th>D19_BIO_OEKO</th>\n",
       "      <th>KBA13_SEG_SONSTIGE</th>\n",
       "      <th>W_KEIT_KIND_HH</th>\n",
       "      <th>KBA05_KW1</th>\n",
       "      <th>KBA13_HALTER_55</th>\n",
       "      <th>KBA13_CCM_1800</th>\n",
       "      <th>KBA13_CCM_1500</th>\n",
       "    </tr>\n",
       "  </thead>\n",
       "  <tbody>\n",
       "    <tr>\n",
       "      <th>0</th>\n",
       "      <td>0.000000</td>\n",
       "      <td>0.50</td>\n",
       "      <td>0.796610</td>\n",
       "      <td>0.5</td>\n",
       "      <td>0.75</td>\n",
       "      <td>1.00</td>\n",
       "      <td>0.50</td>\n",
       "      <td>0.666667</td>\n",
       "      <td>0.00000</td>\n",
       "      <td>0.833333</td>\n",
       "      <td>...</td>\n",
       "      <td>0.0</td>\n",
       "      <td>0.75</td>\n",
       "      <td>0.75</td>\n",
       "      <td>0.0</td>\n",
       "      <td>0.75</td>\n",
       "      <td>1.0</td>\n",
       "      <td>0.5</td>\n",
       "      <td>1.0</td>\n",
       "      <td>0.6</td>\n",
       "      <td>0.75</td>\n",
       "    </tr>\n",
       "    <tr>\n",
       "      <th>1</th>\n",
       "      <td>0.000000</td>\n",
       "      <td>0.50</td>\n",
       "      <td>0.906780</td>\n",
       "      <td>0.5</td>\n",
       "      <td>0.50</td>\n",
       "      <td>0.50</td>\n",
       "      <td>0.50</td>\n",
       "      <td>0.666667</td>\n",
       "      <td>0.00000</td>\n",
       "      <td>0.833333</td>\n",
       "      <td>...</td>\n",
       "      <td>0.0</td>\n",
       "      <td>1.00</td>\n",
       "      <td>0.50</td>\n",
       "      <td>0.0</td>\n",
       "      <td>0.50</td>\n",
       "      <td>1.0</td>\n",
       "      <td>0.5</td>\n",
       "      <td>0.5</td>\n",
       "      <td>0.6</td>\n",
       "      <td>0.00</td>\n",
       "    </tr>\n",
       "    <tr>\n",
       "      <th>2</th>\n",
       "      <td>0.000000</td>\n",
       "      <td>0.25</td>\n",
       "      <td>0.813559</td>\n",
       "      <td>0.5</td>\n",
       "      <td>0.25</td>\n",
       "      <td>0.25</td>\n",
       "      <td>0.25</td>\n",
       "      <td>0.666667</td>\n",
       "      <td>0.00000</td>\n",
       "      <td>0.333333</td>\n",
       "      <td>...</td>\n",
       "      <td>0.0</td>\n",
       "      <td>1.00</td>\n",
       "      <td>0.25</td>\n",
       "      <td>0.0</td>\n",
       "      <td>1.00</td>\n",
       "      <td>1.0</td>\n",
       "      <td>0.5</td>\n",
       "      <td>0.5</td>\n",
       "      <td>0.4</td>\n",
       "      <td>0.00</td>\n",
       "    </tr>\n",
       "    <tr>\n",
       "      <th>3</th>\n",
       "      <td>0.000000</td>\n",
       "      <td>0.75</td>\n",
       "      <td>0.822034</td>\n",
       "      <td>0.5</td>\n",
       "      <td>0.75</td>\n",
       "      <td>0.75</td>\n",
       "      <td>0.25</td>\n",
       "      <td>0.333333</td>\n",
       "      <td>0.00000</td>\n",
       "      <td>0.500000</td>\n",
       "      <td>...</td>\n",
       "      <td>0.0</td>\n",
       "      <td>0.75</td>\n",
       "      <td>0.25</td>\n",
       "      <td>0.0</td>\n",
       "      <td>0.75</td>\n",
       "      <td>1.0</td>\n",
       "      <td>0.5</td>\n",
       "      <td>0.5</td>\n",
       "      <td>0.6</td>\n",
       "      <td>0.50</td>\n",
       "    </tr>\n",
       "    <tr>\n",
       "      <th>4</th>\n",
       "      <td>0.857143</td>\n",
       "      <td>0.50</td>\n",
       "      <td>0.822034</td>\n",
       "      <td>0.5</td>\n",
       "      <td>0.25</td>\n",
       "      <td>0.50</td>\n",
       "      <td>0.50</td>\n",
       "      <td>0.666667</td>\n",
       "      <td>0.97174</td>\n",
       "      <td>0.833333</td>\n",
       "      <td>...</td>\n",
       "      <td>0.0</td>\n",
       "      <td>0.75</td>\n",
       "      <td>0.50</td>\n",
       "      <td>0.0</td>\n",
       "      <td>0.50</td>\n",
       "      <td>0.2</td>\n",
       "      <td>0.5</td>\n",
       "      <td>0.5</td>\n",
       "      <td>0.0</td>\n",
       "      <td>0.00</td>\n",
       "    </tr>\n",
       "  </tbody>\n",
       "</table>\n",
       "<p>5 rows × 303 columns</p>\n",
       "</div>"
      ],
      "text/plain": [
       "   D19_TELKO_REST  KBA13_BJ_2006  EINGEZOGENAM_HH_JAHR  \\\n",
       "0        0.000000           0.50              0.796610   \n",
       "1        0.000000           0.50              0.906780   \n",
       "2        0.000000           0.25              0.813559   \n",
       "3        0.000000           0.75              0.822034   \n",
       "4        0.857143           0.50              0.822034   \n",
       "\n",
       "   KBA13_SEG_KOMPAKTKLASSE  KBA13_KMH_210  PLZ8_GBZ  KBA05_ZUL1  \\\n",
       "0                      0.5           0.75      1.00        0.50   \n",
       "1                      0.5           0.50      0.50        0.50   \n",
       "2                      0.5           0.25      0.25        0.25   \n",
       "3                      0.5           0.75      0.75        0.25   \n",
       "4                      0.5           0.25      0.50        0.50   \n",
       "\n",
       "   KBA13_KRSSEG_KLEIN  GEBURTSJAHR  SEMIO_MAT  ...  \\\n",
       "0            0.666667      0.00000   0.833333  ...   \n",
       "1            0.666667      0.00000   0.833333  ...   \n",
       "2            0.666667      0.00000   0.333333  ...   \n",
       "3            0.333333      0.00000   0.500000  ...   \n",
       "4            0.666667      0.97174   0.833333  ...   \n",
       "\n",
       "   D19_BANKEN_ONLINE_QUOTE_12  UMFELD_JUNG  KBA13_SEG_OBEREMITTELKLASSE  \\\n",
       "0                         0.0         0.75                         0.75   \n",
       "1                         0.0         1.00                         0.50   \n",
       "2                         0.0         1.00                         0.25   \n",
       "3                         0.0         0.75                         0.25   \n",
       "4                         0.0         0.75                         0.50   \n",
       "\n",
       "   D19_BIO_OEKO  KBA13_SEG_SONSTIGE  W_KEIT_KIND_HH  KBA05_KW1  \\\n",
       "0           0.0                0.75             1.0        0.5   \n",
       "1           0.0                0.50             1.0        0.5   \n",
       "2           0.0                1.00             1.0        0.5   \n",
       "3           0.0                0.75             1.0        0.5   \n",
       "4           0.0                0.50             0.2        0.5   \n",
       "\n",
       "   KBA13_HALTER_55  KBA13_CCM_1800  KBA13_CCM_1500  \n",
       "0              1.0             0.6            0.75  \n",
       "1              0.5             0.6            0.00  \n",
       "2              0.5             0.4            0.00  \n",
       "3              0.5             0.6            0.50  \n",
       "4              0.5             0.0            0.00  \n",
       "\n",
       "[5 rows x 303 columns]"
      ]
     },
     "execution_count": 98,
     "metadata": {},
     "output_type": "execute_result"
    }
   ],
   "source": [
    "# confirm scaling applied\n",
    "customers[numeric_columns].head()"
   ]
  },
  {
   "cell_type": "markdown",
   "metadata": {},
   "source": [
    "### PCA"
   ]
  },
  {
   "cell_type": "markdown",
   "metadata": {},
   "source": [
    "The more features you got the more samples it will also require and having too many features can make the models prone to overfitting. Principal Component Analysis (PCA) identify new orthorgonal feature vectors that are optimised for describing as much of the variation among the samples as possible. This is effective for dimensionality reduction."
   ]
  },
  {
   "cell_type": "code",
   "execution_count": 99,
   "metadata": {},
   "outputs": [
    {
     "name": "stdout",
     "output_type": "stream",
     "text": [
      "Wall time: 43.6 s\n"
     ]
    }
   ],
   "source": [
    "%%time\n",
    "pca = PCA(n_components=130)\n",
    "azdias_pca = pca.fit_transform(azdias)"
   ]
  },
  {
   "cell_type": "code",
   "execution_count": 100,
   "metadata": {},
   "outputs": [],
   "source": [
    "customers_pca = pca.transform(customers)"
   ]
  },
  {
   "cell_type": "code",
   "execution_count": 101,
   "metadata": {},
   "outputs": [],
   "source": [
    "# variance accounted for by each principal component\n",
    "exp_var = pca.explained_variance_ratio_"
   ]
  },
  {
   "cell_type": "code",
   "execution_count": 102,
   "metadata": {},
   "outputs": [
    {
     "data": {
      "text/plain": [
       "<matplotlib.axes._subplots.AxesSubplot at 0x242cbca3198>"
      ]
     },
     "execution_count": 102,
     "metadata": {},
     "output_type": "execute_result"
    },
    {
     "data": {
      "image/png": "[encoded data removed]",
      "text/plain": [
       "<Figure size 432x288 with 1 Axes>"
      ]
     },
     "metadata": {
      "needs_background": "light"
     },
     "output_type": "display_data"
    }
   ],
   "source": [
    "# plot of explained variance\n",
    "comp_labels = [f'Component {x}' for x in range(len(exp_var))]\n",
    "sns.barplot(x=exp_var[:15], y=comp_labels[:15])"
   ]
  },
  {
   "cell_type": "code",
   "execution_count": 103,
   "metadata": {},
   "outputs": [],
   "source": [
    "# cumulative sum\n",
    "cumsum_exp_var = np.cumsum(np.round(pca.explained_variance_ratio_, decimals=3)*100)  "
   ]
  },
  {
   "cell_type": "code",
   "execution_count": 104,
   "metadata": {},
   "outputs": [
    {
     "data": {
      "text/plain": [
       "<matplotlib.axes._subplots.AxesSubplot at 0x2422f757400>"
      ]
     },
     "execution_count": 104,
     "metadata": {},
     "output_type": "execute_result"
    },
    {
     "data": {
      "image/png": "[encoded data removed]",
      "text/plain": [
       "<Figure size 432x288 with 1 Axes>"
      ]
     },
     "metadata": {
      "needs_background": "light"
     },
     "output_type": "display_data"
    }
   ],
   "source": [
    "sns.lineplot(x=range(len(exp_var)), y=cumsum_exp_var)"
   ]
  },
  {
   "cell_type": "code",
   "execution_count": 105,
   "metadata": {},
   "outputs": [
    {
     "data": {
      "text/plain": [
       "80.80000000000003"
      ]
     },
     "execution_count": 105,
     "metadata": {},
     "output_type": "execute_result"
    }
   ],
   "source": [
    "cumsum_exp_var[129]"
   ]
  },
  {
   "cell_type": "markdown",
   "metadata": {},
   "source": [
    "To reach an explained variance of ~80% I would have to include 130 principal components."
   ]
  },
  {
   "cell_type": "markdown",
   "metadata": {},
   "source": [
    "### Analysis of top principal components"
   ]
  },
  {
   "cell_type": "markdown",
   "metadata": {},
   "source": [
    "Lets have a look at the top 3 most importance components and what kind of weighted linear combination of original features they consist of"
   ]
  },
  {
   "cell_type": "code",
   "execution_count": 106,
   "metadata": {},
   "outputs": [
    {
     "data": {
      "text/html": [
       "<div>\n",
       "<style scoped>\n",
       "    .dataframe tbody tr th:only-of-type {\n",
       "        vertical-align: middle;\n",
       "    }\n",
       "\n",
       "    .dataframe tbody tr th {\n",
       "        vertical-align: top;\n",
       "    }\n",
       "\n",
       "    .dataframe thead th {\n",
       "        text-align: right;\n",
       "    }\n",
       "</style>\n",
       "<table border=\"1\" class=\"dataframe\">\n",
       "  <thead>\n",
       "    <tr style=\"text-align: right;\">\n",
       "      <th></th>\n",
       "      <th>AKT_DAT_KL</th>\n",
       "      <th>ALTERSKATEGORIE_FEIN</th>\n",
       "      <th>ANZ_HAUSHALTE_AKTIV</th>\n",
       "      <th>ANZ_HH_TITEL</th>\n",
       "      <th>ANZ_KINDER</th>\n",
       "      <th>ANZ_PERSONEN</th>\n",
       "      <th>ANZ_STATISTISCHE_HAUSHALTE</th>\n",
       "      <th>ANZ_TITEL</th>\n",
       "      <th>ARBEIT</th>\n",
       "      <th>BALLRAUM</th>\n",
       "      <th>...</th>\n",
       "      <th>D19_LETZTER_KAUF_BRANCHE_D19_VOLLSORTIMENT</th>\n",
       "      <th>D19_LETZTER_KAUF_BRANCHE_D19_WEIN_FEINKOST</th>\n",
       "      <th>CJT_GESAMTTYP_2</th>\n",
       "      <th>CJT_GESAMTTYP_3</th>\n",
       "      <th>CJT_GESAMTTYP_4</th>\n",
       "      <th>CJT_GESAMTTYP_5</th>\n",
       "      <th>CJT_GESAMTTYP_6</th>\n",
       "      <th>KBA05_MAXSEG_2</th>\n",
       "      <th>KBA05_MAXSEG_3</th>\n",
       "      <th>KBA05_MAXSEG_4</th>\n",
       "    </tr>\n",
       "  </thead>\n",
       "  <tbody>\n",
       "    <tr>\n",
       "      <th>0</th>\n",
       "      <td>0.116251</td>\n",
       "      <td>0.004911</td>\n",
       "      <td>0.006593</td>\n",
       "      <td>0.000780</td>\n",
       "      <td>-0.003852</td>\n",
       "      <td>-0.006340</td>\n",
       "      <td>0.007819</td>\n",
       "      <td>-0.000077</td>\n",
       "      <td>0.033212</td>\n",
       "      <td>-0.086015</td>\n",
       "      <td>...</td>\n",
       "      <td>-0.010105</td>\n",
       "      <td>-0.000820</td>\n",
       "      <td>-0.020870</td>\n",
       "      <td>0.014922</td>\n",
       "      <td>0.017193</td>\n",
       "      <td>0.003855</td>\n",
       "      <td>-0.011971</td>\n",
       "      <td>-0.035253</td>\n",
       "      <td>0.015610</td>\n",
       "      <td>0.001889</td>\n",
       "    </tr>\n",
       "    <tr>\n",
       "      <th>1</th>\n",
       "      <td>0.012023</td>\n",
       "      <td>0.079486</td>\n",
       "      <td>0.000853</td>\n",
       "      <td>-0.000108</td>\n",
       "      <td>0.010496</td>\n",
       "      <td>0.005091</td>\n",
       "      <td>0.000745</td>\n",
       "      <td>0.000015</td>\n",
       "      <td>0.000125</td>\n",
       "      <td>-0.045475</td>\n",
       "      <td>...</td>\n",
       "      <td>0.014335</td>\n",
       "      <td>0.000373</td>\n",
       "      <td>-0.064919</td>\n",
       "      <td>0.049445</td>\n",
       "      <td>0.066725</td>\n",
       "      <td>0.028727</td>\n",
       "      <td>-0.047639</td>\n",
       "      <td>-0.092267</td>\n",
       "      <td>0.037585</td>\n",
       "      <td>0.014339</td>\n",
       "    </tr>\n",
       "    <tr>\n",
       "      <th>2</th>\n",
       "      <td>-0.038753</td>\n",
       "      <td>-0.045331</td>\n",
       "      <td>0.002719</td>\n",
       "      <td>0.000809</td>\n",
       "      <td>-0.004174</td>\n",
       "      <td>-0.000947</td>\n",
       "      <td>0.003445</td>\n",
       "      <td>0.000355</td>\n",
       "      <td>0.009400</td>\n",
       "      <td>-0.071605</td>\n",
       "      <td>...</td>\n",
       "      <td>0.011610</td>\n",
       "      <td>0.001240</td>\n",
       "      <td>0.099599</td>\n",
       "      <td>-0.011200</td>\n",
       "      <td>-0.028220</td>\n",
       "      <td>-0.009002</td>\n",
       "      <td>-0.101720</td>\n",
       "      <td>-0.103898</td>\n",
       "      <td>0.039671</td>\n",
       "      <td>0.026850</td>\n",
       "    </tr>\n",
       "    <tr>\n",
       "      <th>3</th>\n",
       "      <td>-0.002539</td>\n",
       "      <td>0.004346</td>\n",
       "      <td>0.000577</td>\n",
       "      <td>0.000979</td>\n",
       "      <td>0.000632</td>\n",
       "      <td>0.000792</td>\n",
       "      <td>0.000575</td>\n",
       "      <td>0.000423</td>\n",
       "      <td>-0.011348</td>\n",
       "      <td>-0.107395</td>\n",
       "      <td>...</td>\n",
       "      <td>-0.002151</td>\n",
       "      <td>0.000512</td>\n",
       "      <td>-0.036055</td>\n",
       "      <td>0.014753</td>\n",
       "      <td>0.002552</td>\n",
       "      <td>-0.000029</td>\n",
       "      <td>0.034113</td>\n",
       "      <td>-0.056274</td>\n",
       "      <td>0.016934</td>\n",
       "      <td>0.077520</td>\n",
       "    </tr>\n",
       "    <tr>\n",
       "      <th>4</th>\n",
       "      <td>-0.171824</td>\n",
       "      <td>-0.004075</td>\n",
       "      <td>0.001437</td>\n",
       "      <td>0.000184</td>\n",
       "      <td>0.003706</td>\n",
       "      <td>0.008437</td>\n",
       "      <td>0.001773</td>\n",
       "      <td>0.000087</td>\n",
       "      <td>0.037523</td>\n",
       "      <td>-0.029852</td>\n",
       "      <td>...</td>\n",
       "      <td>0.019151</td>\n",
       "      <td>0.000834</td>\n",
       "      <td>-0.023494</td>\n",
       "      <td>-0.013656</td>\n",
       "      <td>-0.043866</td>\n",
       "      <td>0.005882</td>\n",
       "      <td>0.085775</td>\n",
       "      <td>0.107198</td>\n",
       "      <td>-0.043787</td>\n",
       "      <td>-0.032384</td>\n",
       "    </tr>\n",
       "  </tbody>\n",
       "</table>\n",
       "<p>5 rows × 442 columns</p>\n",
       "</div>"
      ],
      "text/plain": [
       "   AKT_DAT_KL  ALTERSKATEGORIE_FEIN  ANZ_HAUSHALTE_AKTIV  ANZ_HH_TITEL  \\\n",
       "0    0.116251              0.004911             0.006593      0.000780   \n",
       "1    0.012023              0.079486             0.000853     -0.000108   \n",
       "2   -0.038753             -0.045331             0.002719      0.000809   \n",
       "3   -0.002539              0.004346             0.000577      0.000979   \n",
       "4   -0.171824             -0.004075             0.001437      0.000184   \n",
       "\n",
       "   ANZ_KINDER  ANZ_PERSONEN  ANZ_STATISTISCHE_HAUSHALTE  ANZ_TITEL    ARBEIT  \\\n",
       "0   -0.003852     -0.006340                    0.007819  -0.000077  0.033212   \n",
       "1    0.010496      0.005091                    0.000745   0.000015  0.000125   \n",
       "2   -0.004174     -0.000947                    0.003445   0.000355  0.009400   \n",
       "3    0.000632      0.000792                    0.000575   0.000423 -0.011348   \n",
       "4    0.003706      0.008437                    0.001773   0.000087  0.037523   \n",
       "\n",
       "   BALLRAUM  ...  D19_LETZTER_KAUF_BRANCHE_D19_VOLLSORTIMENT  \\\n",
       "0 -0.086015  ...                                   -0.010105   \n",
       "1 -0.045475  ...                                    0.014335   \n",
       "2 -0.071605  ...                                    0.011610   \n",
       "3 -0.107395  ...                                   -0.002151   \n",
       "4 -0.029852  ...                                    0.019151   \n",
       "\n",
       "   D19_LETZTER_KAUF_BRANCHE_D19_WEIN_FEINKOST  CJT_GESAMTTYP_2  \\\n",
       "0                                   -0.000820        -0.020870   \n",
       "1                                    0.000373        -0.064919   \n",
       "2                                    0.001240         0.099599   \n",
       "3                                    0.000512        -0.036055   \n",
       "4                                    0.000834        -0.023494   \n",
       "\n",
       "   CJT_GESAMTTYP_3  CJT_GESAMTTYP_4  CJT_GESAMTTYP_5  CJT_GESAMTTYP_6  \\\n",
       "0         0.014922         0.017193         0.003855        -0.011971   \n",
       "1         0.049445         0.066725         0.028727        -0.047639   \n",
       "2        -0.011200        -0.028220        -0.009002        -0.101720   \n",
       "3         0.014753         0.002552        -0.000029         0.034113   \n",
       "4        -0.013656        -0.043866         0.005882         0.085775   \n",
       "\n",
       "   KBA05_MAXSEG_2  KBA05_MAXSEG_3  KBA05_MAXSEG_4  \n",
       "0       -0.035253        0.015610        0.001889  \n",
       "1       -0.092267        0.037585        0.014339  \n",
       "2       -0.103898        0.039671        0.026850  \n",
       "3       -0.056274        0.016934        0.077520  \n",
       "4        0.107198       -0.043787       -0.032384  \n",
       "\n",
       "[5 rows x 442 columns]"
      ]
     },
     "execution_count": 106,
     "metadata": {},
     "output_type": "execute_result"
    }
   ],
   "source": [
    "# create dataframe for all the components\n",
    "components_df = pd.DataFrame(pca.components_, columns=list(azdias.columns))\n",
    "components_df.head()"
   ]
  },
  {
   "cell_type": "code",
   "execution_count": 107,
   "metadata": {},
   "outputs": [],
   "source": [
    "def pca_analysis(components_df, principal_component, no_weights=10):\n",
    "    \n",
    "    df = components_df.iloc[[principal_component]].sort_values(principal_component, axis=1, key=abs, ascending=False)\n",
    "    \n",
    "    # bar plot data\n",
    "    weights = df.transpose().head(no_weights).transpose().values[0]\n",
    "    labels = df.transpose().head(no_weights).transpose().columns\n",
    "    \n",
    "    sns.barplot(x=weights, y=labels)\n",
    "\n",
    "    # First component with sorted top features\n",
    "    return df.transpose().head(no_weights)"
   ]
  },
  {
   "cell_type": "code",
   "execution_count": 108,
   "metadata": {},
   "outputs": [
    {
     "data": {
      "text/html": [
       "<div>\n",
       "<style scoped>\n",
       "    .dataframe tbody tr th:only-of-type {\n",
       "        vertical-align: middle;\n",
       "    }\n",
       "\n",
       "    .dataframe tbody tr th {\n",
       "        vertical-align: top;\n",
       "    }\n",
       "\n",
       "    .dataframe thead th {\n",
       "        text-align: right;\n",
       "    }\n",
       "</style>\n",
       "<table border=\"1\" class=\"dataframe\">\n",
       "  <thead>\n",
       "    <tr style=\"text-align: right;\">\n",
       "      <th></th>\n",
       "      <th>0</th>\n",
       "    </tr>\n",
       "  </thead>\n",
       "  <tbody>\n",
       "    <tr>\n",
       "      <th>KBA13_BAUMAX</th>\n",
       "      <td>0.162499</td>\n",
       "    </tr>\n",
       "    <tr>\n",
       "      <th>KBA13_ANTG4</th>\n",
       "      <td>0.161904</td>\n",
       "    </tr>\n",
       "    <tr>\n",
       "      <th>KBA05_ANTG1</th>\n",
       "      <td>-0.160534</td>\n",
       "    </tr>\n",
       "    <tr>\n",
       "      <th>PLZ8_ANTG4</th>\n",
       "      <td>0.159376</td>\n",
       "    </tr>\n",
       "    <tr>\n",
       "      <th>wealth</th>\n",
       "      <td>0.156569</td>\n",
       "    </tr>\n",
       "    <tr>\n",
       "      <th>PLZ8_BAUMAX</th>\n",
       "      <td>0.154245</td>\n",
       "    </tr>\n",
       "    <tr>\n",
       "      <th>KBA13_ANTG3</th>\n",
       "      <td>0.148031</td>\n",
       "    </tr>\n",
       "    <tr>\n",
       "      <th>MOBI_REGIO</th>\n",
       "      <td>-0.144109</td>\n",
       "    </tr>\n",
       "    <tr>\n",
       "      <th>PLZ8_ANTG3</th>\n",
       "      <td>0.143927</td>\n",
       "    </tr>\n",
       "    <tr>\n",
       "      <th>LP_FAMILIE_FEIN_1</th>\n",
       "      <td>0.141410</td>\n",
       "    </tr>\n",
       "  </tbody>\n",
       "</table>\n",
       "</div>"
      ],
      "text/plain": [
       "                          0\n",
       "KBA13_BAUMAX       0.162499\n",
       "KBA13_ANTG4        0.161904\n",
       "KBA05_ANTG1       -0.160534\n",
       "PLZ8_ANTG4         0.159376\n",
       "wealth             0.156569\n",
       "PLZ8_BAUMAX        0.154245\n",
       "KBA13_ANTG3        0.148031\n",
       "MOBI_REGIO        -0.144109\n",
       "PLZ8_ANTG3         0.143927\n",
       "LP_FAMILIE_FEIN_1  0.141410"
      ]
     },
     "execution_count": 108,
     "metadata": {},
     "output_type": "execute_result"
    },
    {
     "data": {
      "image/png": "[encoded data removed]",
      "text/plain": [
       "<Figure size 432x288 with 1 Axes>"
      ]
     },
     "metadata": {
      "needs_background": "light"
     },
     "output_type": "display_data"
    }
   ],
   "source": [
    "# first principal component\n",
    "pca_analysis(components_df, principal_component=0)"
   ]
  },
  {
   "cell_type": "code",
   "execution_count": 109,
   "metadata": {},
   "outputs": [
    {
     "data": {
      "text/html": [
       "<div>\n",
       "<style scoped>\n",
       "    .dataframe tbody tr th:only-of-type {\n",
       "        vertical-align: middle;\n",
       "    }\n",
       "\n",
       "    .dataframe tbody tr th {\n",
       "        vertical-align: top;\n",
       "    }\n",
       "\n",
       "    .dataframe thead th {\n",
       "        text-align: right;\n",
       "    }\n",
       "</style>\n",
       "<table border=\"1\" class=\"dataframe\">\n",
       "  <thead>\n",
       "    <tr style=\"text-align: right;\">\n",
       "      <th></th>\n",
       "      <th>1</th>\n",
       "    </tr>\n",
       "  </thead>\n",
       "  <tbody>\n",
       "    <tr>\n",
       "      <th>ZABEOTYP_3</th>\n",
       "      <td>-0.243493</td>\n",
       "    </tr>\n",
       "    <tr>\n",
       "      <th>D19_LETZTER_KAUF_BRANCHE_D19_UNBEKANNT</th>\n",
       "      <td>-0.230118</td>\n",
       "    </tr>\n",
       "    <tr>\n",
       "      <th>D19_KONSUMTYP_3</th>\n",
       "      <td>-0.191965</td>\n",
       "    </tr>\n",
       "    <tr>\n",
       "      <th>GEBURTSJAHR</th>\n",
       "      <td>0.186713</td>\n",
       "    </tr>\n",
       "    <tr>\n",
       "      <th>D19_GESAMT_ONLINE_QUOTE_12</th>\n",
       "      <td>0.176390</td>\n",
       "    </tr>\n",
       "    <tr>\n",
       "      <th>D19_KONSUMTYP_MAX</th>\n",
       "      <td>-0.176280</td>\n",
       "    </tr>\n",
       "    <tr>\n",
       "      <th>decade</th>\n",
       "      <td>0.171546</td>\n",
       "    </tr>\n",
       "    <tr>\n",
       "      <th>D19_VERSAND_ONLINE_QUOTE_12</th>\n",
       "      <td>0.164991</td>\n",
       "    </tr>\n",
       "    <tr>\n",
       "      <th>CJT_KATALOGNUTZER</th>\n",
       "      <td>-0.157498</td>\n",
       "    </tr>\n",
       "    <tr>\n",
       "      <th>CJT_TYP_4</th>\n",
       "      <td>-0.156478</td>\n",
       "    </tr>\n",
       "  </tbody>\n",
       "</table>\n",
       "</div>"
      ],
      "text/plain": [
       "                                               1\n",
       "ZABEOTYP_3                             -0.243493\n",
       "D19_LETZTER_KAUF_BRANCHE_D19_UNBEKANNT -0.230118\n",
       "D19_KONSUMTYP_3                        -0.191965\n",
       "GEBURTSJAHR                             0.186713\n",
       "D19_GESAMT_ONLINE_QUOTE_12              0.176390\n",
       "D19_KONSUMTYP_MAX                      -0.176280\n",
       "decade                                  0.171546\n",
       "D19_VERSAND_ONLINE_QUOTE_12             0.164991\n",
       "CJT_KATALOGNUTZER                      -0.157498\n",
       "CJT_TYP_4                              -0.156478"
      ]
     },
     "execution_count": 109,
     "metadata": {},
     "output_type": "execute_result"
    },
    {
     "data": {
      "image/png": "[encoded data removed]",
      "text/plain": [
       "<Figure size 432x288 with 1 Axes>"
      ]
     },
     "metadata": {
      "needs_background": "light"
     },
     "output_type": "display_data"
    }
   ],
   "source": [
    "# second principal component\n",
    "pca_analysis(components_df, principal_component=1)"
   ]
  },
  {
   "cell_type": "code",
   "execution_count": 110,
   "metadata": {},
   "outputs": [
    {
     "data": {
      "text/html": [
       "<div>\n",
       "<style scoped>\n",
       "    .dataframe tbody tr th:only-of-type {\n",
       "        vertical-align: middle;\n",
       "    }\n",
       "\n",
       "    .dataframe tbody tr th {\n",
       "        vertical-align: top;\n",
       "    }\n",
       "\n",
       "    .dataframe thead th {\n",
       "        text-align: right;\n",
       "    }\n",
       "</style>\n",
       "<table border=\"1\" class=\"dataframe\">\n",
       "  <thead>\n",
       "    <tr style=\"text-align: right;\">\n",
       "      <th></th>\n",
       "      <th>2</th>\n",
       "    </tr>\n",
       "  </thead>\n",
       "  <tbody>\n",
       "    <tr>\n",
       "      <th>FINANZ_ANLEGER</th>\n",
       "      <td>-0.245476</td>\n",
       "    </tr>\n",
       "    <tr>\n",
       "      <th>FINANZ_UNAUFFAELLIGER</th>\n",
       "      <td>-0.236727</td>\n",
       "    </tr>\n",
       "    <tr>\n",
       "      <th>FINANZ_SPARER</th>\n",
       "      <td>-0.228646</td>\n",
       "    </tr>\n",
       "    <tr>\n",
       "      <th>CJT_TYP_2</th>\n",
       "      <td>-0.211455</td>\n",
       "    </tr>\n",
       "    <tr>\n",
       "      <th>CJT_TYP_1</th>\n",
       "      <td>-0.210844</td>\n",
       "    </tr>\n",
       "    <tr>\n",
       "      <th>FINANZ_VORSORGER</th>\n",
       "      <td>0.181552</td>\n",
       "    </tr>\n",
       "    <tr>\n",
       "      <th>SEMIO_REL</th>\n",
       "      <td>-0.179077</td>\n",
       "    </tr>\n",
       "    <tr>\n",
       "      <th>RT_KEIN_ANREIZ</th>\n",
       "      <td>-0.163269</td>\n",
       "    </tr>\n",
       "    <tr>\n",
       "      <th>FINANZTYP_4</th>\n",
       "      <td>-0.158518</td>\n",
       "    </tr>\n",
       "    <tr>\n",
       "      <th>SEMIO_PFLICHT</th>\n",
       "      <td>-0.145051</td>\n",
       "    </tr>\n",
       "  </tbody>\n",
       "</table>\n",
       "</div>"
      ],
      "text/plain": [
       "                              2\n",
       "FINANZ_ANLEGER        -0.245476\n",
       "FINANZ_UNAUFFAELLIGER -0.236727\n",
       "FINANZ_SPARER         -0.228646\n",
       "CJT_TYP_2             -0.211455\n",
       "CJT_TYP_1             -0.210844\n",
       "FINANZ_VORSORGER       0.181552\n",
       "SEMIO_REL             -0.179077\n",
       "RT_KEIN_ANREIZ        -0.163269\n",
       "FINANZTYP_4           -0.158518\n",
       "SEMIO_PFLICHT         -0.145051"
      ]
     },
     "execution_count": 110,
     "metadata": {},
     "output_type": "execute_result"
    },
    {
     "data": {
      "image/png": "[encoded data removed]",
      "text/plain": [
       "<Figure size 432x288 with 1 Axes>"
      ]
     },
     "metadata": {
      "needs_background": "light"
     },
     "output_type": "display_data"
    }
   ],
   "source": [
    "# third principal component\n",
    "pca_analysis(components_df, principal_component=2)"
   ]
  },
  {
   "cell_type": "markdown",
   "metadata": {},
   "source": [
    "### Clustering"
   ]
  },
  {
   "cell_type": "markdown",
   "metadata": {},
   "source": [
    "Idea is to cluster the general population and then afterwards investigate if customers are under/over represented in som of the clusters. Over represented clusters are the part of the population that are more likely to become a customers as they share features with existing customers and vice versa."
   ]
  },
  {
   "cell_type": "code",
   "execution_count": 111,
   "metadata": {},
   "outputs": [],
   "source": [
    "# %%time\n",
    "# # train a series of kmeans models\n",
    "# results = []\n",
    "# for n_clusters in range(2,26):\n",
    "#     print('fitting to n_clusters:', n_clusters)\n",
    "#     # define and fit to general population\n",
    "#     kmeans = KMeans(n_clusters=n_clusters, random_state=42).fit(azdias_pca)\n",
    "# #     score = kmeans.score(azdias_pca)  # SSE\n",
    "#     score = kmeans.inertia_  # fast than calculating the score\n",
    "#     results.append({'model':kmeans, 'n_clusters':n_clusters, 'score':abs(score)})"
   ]
  },
  {
   "cell_type": "code",
   "execution_count": 112,
   "metadata": {},
   "outputs": [],
   "source": [
    "# # save the time consuming results\n",
    "# with open(\"./data/kmeans_results.pkl\",\"wb\") as f:\n",
    "#     pickle.dump(results, f)"
   ]
  },
  {
   "cell_type": "code",
   "execution_count": 113,
   "metadata": {},
   "outputs": [
    {
     "name": "stderr",
     "output_type": "stream",
     "text": [
      "c:\\users\\kenne\\appdata\\local\\programs\\python\\python37\\lib\\site-packages\\sklearn\\base.py:334: UserWarning: Trying to unpickle estimator KMeans from version 0.24.1 when using version 0.23.2. This might lead to breaking code or invalid results. Use at your own risk.\n",
      "  UserWarning)\n"
     ]
    }
   ],
   "source": [
    "# load the time consuming results\n",
    "with open(\"./data/kmeans_results.pkl\",\"rb\") as f:\n",
    "    results = pickle.load(f)"
   ]
  },
  {
   "cell_type": "markdown",
   "metadata": {},
   "source": [
    "This was rather time-consuming and would properly had been sufficent to use MiniBatchKMeans."
   ]
  },
  {
   "cell_type": "code",
   "execution_count": 114,
   "metadata": {},
   "outputs": [
    {
     "data": {
      "image/png": "[encoded data removed]",
      "text/plain": [
       "<Figure size 432x288 with 1 Axes>"
      ]
     },
     "metadata": {
      "needs_background": "light"
     },
     "output_type": "display_data"
    }
   ],
   "source": [
    "# elbow method plot\n",
    "ax = sns.lineplot(x=[res['n_clusters'] for res in results],\n",
    "                  y=[res['score'] for res in results],\n",
    "                  marker='o')\n",
    "ax.set(xlabel='Number of clusters', ylabel='SSE')\n",
    "plt.show()"
   ]
  },
  {
   "cell_type": "markdown",
   "metadata": {},
   "source": [
    "From this it's observed that the elbow is around 8 clusters.\n",
    "The corresponding model are now used to predict labels or both datasets:"
   ]
  },
  {
   "cell_type": "code",
   "execution_count": 115,
   "metadata": {},
   "outputs": [
    {
     "name": "stdout",
     "output_type": "stream",
     "text": [
      "8\n"
     ]
    }
   ],
   "source": [
    "index = 6\n",
    "kmeans = results[index]['model']\n",
    "# print to confirm right index\n",
    "print(results[index]['n_clusters'])"
   ]
  },
  {
   "cell_type": "code",
   "execution_count": 116,
   "metadata": {},
   "outputs": [],
   "source": [
    "customers_pred = kmeans.predict(customers_pca)\n",
    "azdias_pred = kmeans.predict(azdias_pca)"
   ]
  },
  {
   "cell_type": "markdown",
   "metadata": {},
   "source": [
    "### Evaluate how the customers dataset distribute between the general population clusters"
   ]
  },
  {
   "cell_type": "code",
   "execution_count": 117,
   "metadata": {},
   "outputs": [],
   "source": [
    "# Count how many samples fall inte each of the cluster from both the general population and the customers\n",
    "azdias_cluster_counts = np.bincount(azdias_pred)\n",
    "customers_cluster_counts = np.bincount(customers_pred)"
   ]
  },
  {
   "cell_type": "code",
   "execution_count": 118,
   "metadata": {},
   "outputs": [],
   "source": [
    "# create dataframe for all the components\n",
    "cluster_count_df = pd.DataFrame(columns=[\"Dataset\", \"Cluster\", \"Count\"])\n",
    "for dataset_name, dataset in {\"customers\":customers_cluster_counts, \"azdias\":azdias_cluster_counts}.items():\n",
    "    for cluster, count in enumerate(dataset, 1):\n",
    "        cluster_count_df = cluster_count_df.append({\"Dataset\" : dataset_name, \"Cluster\": cluster, \"Count\": count}, ignore_index=True)"
   ]
  },
  {
   "cell_type": "code",
   "execution_count": 119,
   "metadata": {},
   "outputs": [
    {
     "data": {
      "image/png": "[encoded data removed]",
      "text/plain": [
       "<Figure size 432x288 with 1 Axes>"
      ]
     },
     "metadata": {
      "needs_background": "light"
     },
     "output_type": "display_data"
    }
   ],
   "source": [
    "# plot\n",
    "ax = sns.barplot(x='Cluster', y=\"Count\", hue=\"Dataset\", data=cluster_count_df)\n",
    "ax.set(xlabel='Clusters', ylabel='Count')\n",
    "plt.show()"
   ]
  },
  {
   "cell_type": "markdown",
   "metadata": {},
   "source": [
    "From this it's can be seen that people in cluster 3 and 7 are the least attractive as almost none of the existing customers belong to these clusters.\n",
    "On the other hand is cluster 1 and 5 observed to contain most of the existing customers and general population people in these cluster should be the most likely new customers.\n",
    "\n",
    "Because of the many features in the dataset combined with the use of PCA it is impractical to reverse engineer which population features the sales organisation should target."
   ]
  },
  {
   "cell_type": "markdown",
   "metadata": {},
   "source": [
    "## Part 2: Supervised Learning Model\n",
    "\n",
    "Now that you've found which parts of the population are more likely to be customers of the mail-order company, it's time to build a prediction model. Each of the rows in the \"MAILOUT\" data files represents an individual that was targeted for a mailout campaign. Ideally, we should be able to use the demographic information from each individual to decide whether or not it will be worth it to include that person in the campaign.\n",
    "\n",
    "The \"MAILOUT\" data has been split into two approximately equal parts, each with almost 43 000 data rows. In this part, you can verify your model with the \"TRAIN\" partition, which includes a column, \"RESPONSE\", that states whether or not a person became a customer of the company following the campaign. In the next part, you'll need to create predictions on the \"TEST\" partition, where the \"RESPONSE\" column has been withheld."
   ]
  },
  {
   "cell_type": "code",
   "execution_count": 120,
   "metadata": {},
   "outputs": [
    {
     "name": "stderr",
     "output_type": "stream",
     "text": [
      "c:\\users\\kenne\\appdata\\local\\programs\\python\\python37\\lib\\site-packages\\IPython\\core\\interactiveshell.py:3058: DtypeWarning: Columns (18,19) have mixed types.Specify dtype option on import or set low_memory=False.\n",
      "  interactivity=interactivity, compiler=compiler, result=result)\n"
     ]
    }
   ],
   "source": [
    "# read data\n",
    "mailout_train = pd.read_csv('./data/Udacity_MAILOUT_052018_TRAIN.csv', sep=';')\n",
    "mailout_test = pd.read_csv('./data/Udacity_MAILOUT_052018_TEST.csv', sep=';')"
   ]
  },
  {
   "cell_type": "markdown",
   "metadata": {},
   "source": [
    "Isolate Response column"
   ]
  },
  {
   "cell_type": "code",
   "execution_count": 121,
   "metadata": {},
   "outputs": [
    {
     "data": {
      "text/plain": [
       "{'RESPONSE'}"
      ]
     },
     "execution_count": 121,
     "metadata": {},
     "output_type": "execute_result"
    }
   ],
   "source": [
    "# name of the response feature only present in train dataset\n",
    "set(mailout_train.columns.values) - set(mailout_test.columns.values)"
   ]
  },
  {
   "cell_type": "code",
   "execution_count": 122,
   "metadata": {},
   "outputs": [],
   "source": [
    "response_target = mailout_train['RESPONSE']\n",
    "mailout_train.drop('RESPONSE', axis=1, inplace=True)"
   ]
  },
  {
   "cell_type": "code",
   "execution_count": 123,
   "metadata": {},
   "outputs": [
    {
     "name": "stdout",
     "output_type": "stream",
     "text": [
      "(42962, 366)\n",
      "(42833, 366)\n"
     ]
    }
   ],
   "source": [
    "# confirm the dimnesion aligned with what previously considered\n",
    "print(mailout_train.shape)\n",
    "print(mailout_test.shape)"
   ]
  },
  {
   "cell_type": "markdown",
   "metadata": {},
   "source": [
    "### Cleaning\n",
    "Now the data preprocessing is repeated on both of these dataset (except the part with dropping rows)"
   ]
  },
  {
   "cell_type": "code",
   "execution_count": 124,
   "metadata": {},
   "outputs": [],
   "source": [
    "def clean(df):\n",
    "    replace_unknowns_with_nans(df)\n",
    "    correct_dtypes(df, dtype_columns)\n",
    "    df['CAMEO_DEU_2015'].replace('XX', np.nan, inplace=True)\n",
    "    df.drop(columns=features_to_drop, inplace=True)  # dropping columns with too many missing values\n",
    "    df.drop(columns=['EINGEFUEGT_AM'], inplace=True)  # 'EINGEFUEGT_AM' with its datetime-like values are also dropped\n",
    "    df.drop(columns=columns_to_drop, inplace=True)  # These columns are dropped because they got too many categories and cannot be aggregated nicely\n",
    "    df['life_status'] = df['CAMEO_INTL_2015'].mod(10)  # extract ones / life_status\n",
    "    df['wealth'] = (df['CAMEO_INTL_2015'] - df['life_status'])/10  # extract tens / wealth\n",
    "    df.drop(columns=['CAMEO_INTL_2015'], inplace=True)\n",
    "    df['style'] = df['PRAEGENDE_JUGENDJAHRE'].apply(myTransformer, mapper=style_map)  # construct 'style' feature\n",
    "    df['decade'] = df['PRAEGENDE_JUGENDJAHRE'].apply(myTransformer, mapper=decade_map)  # construct 'decade' feature\n",
    "    df.drop(columns=['PRAEGENDE_JUGENDJAHRE'], inplace=True)\n",
    "    df.drop(columns=['LNR'], inplace=True)\n",
    "    df = df.replace({pd.NA: np.nan})\n",
    "    df = pd.DataFrame(imputer.transform(df), columns=df.columns, index=df.index).astype(df.dtypes.to_dict())\n",
    "    replace_float64_with_int32(df)\n",
    "    # df.to_csv('./data/?????_preprocessed.csv')\n",
    "    for col, le in binary_encoders.items():\n",
    "        df[col] = le.transform(df[col].values)\n",
    "    df = pd.get_dummies(df, columns=true_multiclass, prefix=true_multiclass, drop_first=True)\n",
    "    missing_features = set(azdias.columns) - set(df.columns)\n",
    "    print('missing_features inserted:', missing_features)\n",
    "    for col in missing_features:\n",
    "        df[col] = 0\n",
    "    df[numeric_columns] = scaler.transform(df[numeric_columns])\n",
    "    return df"
   ]
  },
  {
   "cell_type": "code",
   "execution_count": 125,
   "metadata": {},
   "outputs": [
    {
     "name": "stdout",
     "output_type": "stream",
     "text": [
      "KeyErrors: 'BIP_FLAG'\n",
      "KeyErrors: 'CAMEO_DEUINTL_2015'\n",
      "KeyErrors: 'D19_BANKEN_DIREKT_RZ'\n",
      "KeyErrors: 'D19_BANKEN_GROSS_RZ'\n",
      "KeyErrors: 'D19_BANKEN_LOKAL_RZ'\n",
      "KeyErrors: 'D19_BANKEN_REST_RZ'\n",
      "KeyErrors: 'D19_BEKLEIDUNG_GEH_RZ'\n",
      "KeyErrors: 'D19_BEKLEIDUNG_REST_RZ'\n",
      "KeyErrors: 'D19_BILDUNG_RZ'\n",
      "KeyErrors: 'D19_BIO_OEKO_RZ'\n",
      "KeyErrors: 'D19_BUCH_RZ'\n",
      "KeyErrors: 'D19_DIGIT_SERV_RZ'\n",
      "KeyErrors: 'D19_DROGERIEARTIKEL_RZ'\n",
      "KeyErrors: 'D19_ENERGIE_RZ'\n",
      "KeyErrors: 'D19_FREIZEIT_RZ'\n",
      "KeyErrors: 'D19_GARTEN_RZ'\n",
      "KeyErrors: 'D19_HANDWERK_RZ'\n",
      "KeyErrors: 'D19_HAUS_DEKO_RZ'\n",
      "KeyErrors: 'D19_KINDERARTIKEL_RZ'\n",
      "KeyErrors: 'D19_KK_KUNDENTYP'\n",
      "KeyErrors: 'D19_KOSMETIK_RZ'\n",
      "KeyErrors: 'D19_LEBENSMITTEL_RZ'\n",
      "KeyErrors: 'D19_LOTTO_RZ'\n",
      "KeyErrors: 'D19_NAHRUNGSERGAENZUNG_RZ'\n",
      "KeyErrors: 'D19_RATGEBER_RZ'\n",
      "KeyErrors: 'D19_REISEN_RZ'\n",
      "KeyErrors: 'D19_SAMMELARTIKEL_RZ'\n",
      "KeyErrors: 'D19_SCHUHE_RZ'\n",
      "KeyErrors: 'D19_SONSTIGE_RZ'\n",
      "KeyErrors: 'D19_TECHNIK_RZ'\n",
      "KeyErrors: 'D19_TELKO_MOBILE_RZ'\n",
      "KeyErrors: 'D19_TELKO_REST_RZ'\n",
      "KeyErrors: 'D19_TIERARTIKEL_RZ'\n",
      "KeyErrors: 'D19_VERSAND_REST_RZ'\n",
      "KeyErrors: 'D19_VERSICHERUNGEN_RZ'\n",
      "KeyErrors: 'D19_VOLLSORTIMENT_RZ'\n",
      "KeyErrors: 'D19_WEIN_FEINKOST_RZ'\n",
      "KeyErrors: 'GEOSCORE_KLS7'\n",
      "KeyErrors: 'GEOSCORE_KLS7'\n",
      "KeyErrors: 'HAUSHALTSSTRUKTUR'\n",
      "KeyErrors: 'HAUSHALTSSTRUKTUR'\n",
      "KeyErrors: 'KBA13_CCM_1400_2500'\n",
      "KeyErrors: 'SOHO_FLAG'\n",
      "KeyErrors: 'WACHSTUMSGEBIET_NB'\n",
      "KeyErrors: 'WACHSTUMSGEBIET_NB'\n",
      "float64 AKT_DAT_KL\n",
      "float64 ALTERSKATEGORIE_FEIN\n",
      "float64 ANZ_HAUSHALTE_AKTIV\n",
      "float64 ANZ_HH_TITEL\n",
      "float64 ANZ_KINDER\n",
      "float64 ANZ_PERSONEN\n",
      "float64 ANZ_STATISTISCHE_HAUSHALTE\n",
      "float64 ANZ_TITEL\n",
      "float64 ARBEIT\n",
      "float64 BALLRAUM\n",
      "float64 CAMEO_DEUG_2015\n",
      "float64 CJT_GESAMTTYP\n",
      "float64 CJT_KATALOGNUTZER\n",
      "float64 CJT_TYP_1\n",
      "float64 CJT_TYP_2\n",
      "float64 CJT_TYP_3\n",
      "float64 CJT_TYP_4\n",
      "float64 CJT_TYP_5\n",
      "float64 CJT_TYP_6\n",
      "float64 D19_BANKEN_ONLINE_QUOTE_12\n",
      "float64 D19_GESAMT_ONLINE_QUOTE_12\n",
      "float64 D19_KONSUMTYP\n",
      "float64 D19_LOTTO\n",
      "float64 D19_SOZIALES\n",
      "float64 D19_TELKO_ONLINE_QUOTE_12\n",
      "float64 D19_VERSAND_ONLINE_QUOTE_12\n",
      "float64 D19_VERSI_ONLINE_QUOTE_12\n",
      "float64 DSL_FLAG\n",
      "float64 EINGEZOGENAM_HH_JAHR\n",
      "float64 EWDICHTE\n",
      "float64 FIRMENDICHTE\n",
      "float64 GEBAEUDETYP\n",
      "float64 GEBAEUDETYP_RASTER\n",
      "float64 GEMEINDETYP\n",
      "float64 GFK_URLAUBERTYP\n",
      "float64 HEALTH_TYP\n",
      "float64 HH_DELTA_FLAG\n",
      "float64 HH_EINKOMMEN_SCORE\n",
      "float64 INNENSTADT\n",
      "float64 KBA05_ALTER1\n",
      "float64 KBA05_ALTER2\n",
      "float64 KBA05_ALTER3\n",
      "float64 KBA05_ALTER4\n",
      "float64 KBA05_ANHANG\n",
      "float64 KBA05_ANTG1\n",
      "float64 KBA05_ANTG2\n",
      "float64 KBA05_ANTG3\n",
      "float64 KBA05_ANTG4\n",
      "float64 KBA05_AUTOQUOT\n",
      "float64 KBA05_CCM1\n",
      "float64 KBA05_CCM2\n",
      "float64 KBA05_CCM3\n",
      "float64 KBA05_CCM4\n",
      "float64 KBA05_DIESEL\n",
      "float64 KBA05_FRAU\n",
      "float64 KBA05_GBZ\n",
      "float64 KBA05_HERST1\n",
      "float64 KBA05_HERST2\n",
      "float64 KBA05_HERST3\n",
      "float64 KBA05_HERST4\n",
      "float64 KBA05_HERST5\n",
      "float64 KBA05_HERSTTEMP\n",
      "float64 KBA05_KRSAQUOT\n",
      "float64 KBA05_KRSHERST1\n",
      "float64 KBA05_KRSHERST2\n",
      "float64 KBA05_KRSHERST3\n",
      "float64 KBA05_KRSKLEIN\n",
      "float64 KBA05_KRSOBER\n",
      "float64 KBA05_KRSVAN\n",
      "float64 KBA05_KRSZUL\n",
      "float64 KBA05_KW1\n",
      "float64 KBA05_KW2\n",
      "float64 KBA05_KW3\n",
      "float64 KBA05_MAXAH\n",
      "float64 KBA05_MAXBJ\n",
      "float64 KBA05_MAXHERST\n",
      "float64 KBA05_MAXSEG\n",
      "float64 KBA05_MAXVORB\n",
      "float64 KBA05_MOD1\n",
      "float64 KBA05_MOD2\n",
      "float64 KBA05_MOD3\n",
      "float64 KBA05_MOD4\n",
      "float64 KBA05_MOD8\n",
      "float64 KBA05_MODTEMP\n",
      "float64 KBA05_MOTOR\n",
      "float64 KBA05_MOTRAD\n",
      "float64 KBA05_SEG1\n",
      "float64 KBA05_SEG10\n",
      "float64 KBA05_SEG2\n",
      "float64 KBA05_SEG3\n",
      "float64 KBA05_SEG4\n",
      "float64 KBA05_SEG5\n",
      "float64 KBA05_SEG6\n",
      "float64 KBA05_SEG7\n",
      "float64 KBA05_SEG8\n",
      "float64 KBA05_SEG9\n",
      "float64 KBA05_VORB0\n",
      "float64 KBA05_VORB1\n",
      "float64 KBA05_VORB2\n",
      "float64 KBA05_ZUL1\n",
      "float64 KBA05_ZUL2\n",
      "float64 KBA05_ZUL3\n",
      "float64 KBA05_ZUL4\n",
      "float64 KBA13_ALTERHALTER_30\n",
      "float64 KBA13_ALTERHALTER_45\n",
      "float64 KBA13_ALTERHALTER_60\n",
      "float64 KBA13_ALTERHALTER_61\n",
      "float64 KBA13_ANTG1\n",
      "float64 KBA13_ANTG2\n",
      "float64 KBA13_ANTG3\n",
      "float64 KBA13_ANTG4\n",
      "float64 KBA13_ANZAHL_PKW\n",
      "float64 KBA13_AUDI\n",
      "float64 KBA13_AUTOQUOTE\n",
      "float64 KBA13_BAUMAX\n",
      "float64 KBA13_BJ_1999\n",
      "float64 KBA13_BJ_2000\n",
      "float64 KBA13_BJ_2004\n",
      "float64 KBA13_BJ_2006\n",
      "float64 KBA13_BJ_2008\n",
      "float64 KBA13_BJ_2009\n",
      "float64 KBA13_BMW\n",
      "float64 KBA13_CCM_0_1400\n",
      "float64 KBA13_CCM_1000\n",
      "float64 KBA13_CCM_1200\n",
      "float64 KBA13_CCM_1400\n",
      "float64 KBA13_CCM_1401_2500\n",
      "float64 KBA13_CCM_1500\n",
      "float64 KBA13_CCM_1600\n",
      "float64 KBA13_CCM_1800\n",
      "float64 KBA13_CCM_2000\n",
      "float64 KBA13_CCM_2500\n",
      "float64 KBA13_CCM_2501\n",
      "float64 KBA13_CCM_3000\n",
      "float64 KBA13_CCM_3001\n",
      "float64 KBA13_FAB_ASIEN\n",
      "float64 KBA13_FAB_SONSTIGE\n",
      "float64 KBA13_FIAT\n",
      "float64 KBA13_FORD\n",
      "float64 KBA13_GBZ\n",
      "float64 KBA13_HALTER_20\n",
      "float64 KBA13_HALTER_25\n",
      "float64 KBA13_HALTER_30\n",
      "float64 KBA13_HALTER_35\n",
      "float64 KBA13_HALTER_40\n",
      "float64 KBA13_HALTER_45\n",
      "float64 KBA13_HALTER_50\n",
      "float64 KBA13_HALTER_55\n",
      "float64 KBA13_HALTER_60\n",
      "float64 KBA13_HALTER_65\n",
      "float64 KBA13_HALTER_66\n",
      "float64 KBA13_HERST_ASIEN\n",
      "float64 KBA13_HERST_AUDI_VW\n",
      "float64 KBA13_HERST_BMW_BENZ\n",
      "float64 KBA13_HERST_EUROPA\n",
      "float64 KBA13_HERST_FORD_OPEL\n",
      "float64 KBA13_HERST_SONST\n",
      "float64 KBA13_HHZ\n",
      "float64 KBA13_KMH_0_140\n",
      "float64 KBA13_KMH_110\n",
      "float64 KBA13_KMH_140\n",
      "float64 KBA13_KMH_140_210\n",
      "float64 KBA13_KMH_180\n",
      "float64 KBA13_KMH_210\n",
      "float64 KBA13_KMH_211\n",
      "float64 KBA13_KMH_250\n",
      "float64 KBA13_KMH_251\n",
      "float64 KBA13_KRSAQUOT\n",
      "float64 KBA13_KRSHERST_AUDI_VW\n",
      "float64 KBA13_KRSHERST_BMW_BENZ\n",
      "float64 KBA13_KRSHERST_FORD_OPEL\n",
      "float64 KBA13_KRSSEG_KLEIN\n",
      "float64 KBA13_KRSSEG_OBER\n",
      "float64 KBA13_KRSSEG_VAN\n",
      "float64 KBA13_KRSZUL_NEU\n",
      "float64 KBA13_KW_0_60\n",
      "float64 KBA13_KW_110\n",
      "float64 KBA13_KW_120\n",
      "float64 KBA13_KW_121\n",
      "float64 KBA13_KW_30\n",
      "float64 KBA13_KW_40\n",
      "float64 KBA13_KW_50\n",
      "float64 KBA13_KW_60\n",
      "float64 KBA13_KW_61_120\n",
      "float64 KBA13_KW_70\n",
      "float64 KBA13_KW_80\n",
      "float64 KBA13_KW_90\n",
      "float64 KBA13_MAZDA\n",
      "float64 KBA13_MERCEDES\n",
      "float64 KBA13_MOTOR\n",
      "float64 KBA13_NISSAN\n",
      "float64 KBA13_OPEL\n",
      "float64 KBA13_PEUGEOT\n",
      "float64 KBA13_RENAULT\n",
      "float64 KBA13_SEG_GELAENDEWAGEN\n",
      "float64 KBA13_SEG_GROSSRAUMVANS\n",
      "float64 KBA13_SEG_KLEINST\n",
      "float64 KBA13_SEG_KLEINWAGEN\n",
      "float64 KBA13_SEG_KOMPAKTKLASSE\n",
      "float64 KBA13_SEG_MINIVANS\n",
      "float64 KBA13_SEG_MINIWAGEN\n",
      "float64 KBA13_SEG_MITTELKLASSE\n",
      "float64 KBA13_SEG_OBEREMITTELKLASSE\n",
      "float64 KBA13_SEG_OBERKLASSE\n",
      "float64 KBA13_SEG_SONSTIGE\n",
      "float64 KBA13_SEG_SPORTWAGEN\n",
      "float64 KBA13_SEG_UTILITIES\n",
      "float64 KBA13_SEG_VAN\n",
      "float64 KBA13_SEG_WOHNMOBILE\n",
      "float64 KBA13_SITZE_4\n",
      "float64 KBA13_SITZE_5\n",
      "float64 KBA13_SITZE_6\n",
      "float64 KBA13_TOYOTA\n",
      "float64 KBA13_VORB_0\n",
      "float64 KBA13_VORB_1\n",
      "float64 KBA13_VORB_1_2\n",
      "float64 KBA13_VORB_2\n",
      "float64 KBA13_VORB_3\n",
      "float64 KBA13_VW\n",
      "float64 KKK\n",
      "float64 KONSUMNAEHE\n",
      "float64 KONSUMZELLE\n",
      "float64 LP_FAMILIE_FEIN\n",
      "float64 LP_FAMILIE_GROB\n",
      "float64 LP_STATUS_FEIN\n",
      "float64 LP_STATUS_GROB\n",
      "float64 MIN_GEBAEUDEJAHR\n",
      "float64 MOBI_RASTER\n",
      "float64 MOBI_REGIO\n",
      "float64 NATIONALITAET_KZ\n",
      "float64 ONLINE_AFFINITAET\n",
      "float64 ORTSGR_KLS9\n",
      "float64 PLZ8_ANTG1\n",
      "float64 PLZ8_ANTG2\n",
      "float64 PLZ8_ANTG3\n",
      "float64 PLZ8_ANTG4\n",
      "float64 PLZ8_BAUMAX\n",
      "float64 PLZ8_GBZ\n",
      "float64 PLZ8_HHZ\n",
      "float64 REGIOTYP\n",
      "float64 RELAT_AB\n",
      "float64 RETOURTYP_BK_S\n",
      "float64 RT_KEIN_ANREIZ\n",
      "float64 RT_SCHNAEPPCHEN\n",
      "float64 RT_UEBERGROESSE\n",
      "float64 SHOPPER_TYP\n",
      "float64 SOHO_KZ\n",
      "float64 STRUKTURTYP\n",
      "float64 UMFELD_ALT\n",
      "float64 UMFELD_JUNG\n",
      "float64 UNGLEICHENN_FLAG\n",
      "float64 VERDICHTUNGSRAUM\n",
      "float64 VERS_TYP\n",
      "float64 VHA\n",
      "float64 VHN\n",
      "float64 VK_DHT4A\n",
      "float64 VK_DISTANZ\n",
      "float64 VK_ZG11\n",
      "float64 W_KEIT_KIND_HH\n",
      "float64 WOHNDAUER_2008\n",
      "float64 WOHNLAGE\n",
      "float64 life_status\n",
      "float64 wealth\n",
      "missing_features inserted: {'GEBAEUDETYP_5'}\n",
      "KeyErrors: 'BIP_FLAG'\n",
      "KeyErrors: 'CAMEO_DEUINTL_2015'\n",
      "KeyErrors: 'D19_BANKEN_DIREKT_RZ'\n",
      "KeyErrors: 'D19_BANKEN_GROSS_RZ'\n",
      "KeyErrors: 'D19_BANKEN_LOKAL_RZ'\n",
      "KeyErrors: 'D19_BANKEN_REST_RZ'\n",
      "KeyErrors: 'D19_BEKLEIDUNG_GEH_RZ'\n",
      "KeyErrors: 'D19_BEKLEIDUNG_REST_RZ'\n",
      "KeyErrors: 'D19_BILDUNG_RZ'\n",
      "KeyErrors: 'D19_BIO_OEKO_RZ'\n",
      "KeyErrors: 'D19_BUCH_RZ'\n",
      "KeyErrors: 'D19_DIGIT_SERV_RZ'\n",
      "KeyErrors: 'D19_DROGERIEARTIKEL_RZ'\n",
      "KeyErrors: 'D19_ENERGIE_RZ'\n",
      "KeyErrors: 'D19_FREIZEIT_RZ'\n",
      "KeyErrors: 'D19_GARTEN_RZ'\n",
      "KeyErrors: 'D19_HANDWERK_RZ'\n",
      "KeyErrors: 'D19_HAUS_DEKO_RZ'\n",
      "KeyErrors: 'D19_KINDERARTIKEL_RZ'\n",
      "KeyErrors: 'D19_KK_KUNDENTYP'\n",
      "KeyErrors: 'D19_KOSMETIK_RZ'\n",
      "KeyErrors: 'D19_LEBENSMITTEL_RZ'\n",
      "KeyErrors: 'D19_LOTTO_RZ'\n",
      "KeyErrors: 'D19_NAHRUNGSERGAENZUNG_RZ'\n",
      "KeyErrors: 'D19_RATGEBER_RZ'\n",
      "KeyErrors: 'D19_REISEN_RZ'\n",
      "KeyErrors: 'D19_SAMMELARTIKEL_RZ'\n",
      "KeyErrors: 'D19_SCHUHE_RZ'\n",
      "KeyErrors: 'D19_SONSTIGE_RZ'\n",
      "KeyErrors: 'D19_TECHNIK_RZ'\n",
      "KeyErrors: 'D19_TELKO_MOBILE_RZ'\n",
      "KeyErrors: 'D19_TELKO_REST_RZ'\n",
      "KeyErrors: 'D19_TIERARTIKEL_RZ'\n",
      "KeyErrors: 'D19_VERSAND_REST_RZ'\n",
      "KeyErrors: 'D19_VERSICHERUNGEN_RZ'\n",
      "KeyErrors: 'D19_VOLLSORTIMENT_RZ'\n",
      "KeyErrors: 'D19_WEIN_FEINKOST_RZ'\n",
      "KeyErrors: 'GEOSCORE_KLS7'\n",
      "KeyErrors: 'GEOSCORE_KLS7'\n",
      "KeyErrors: 'HAUSHALTSSTRUKTUR'\n",
      "KeyErrors: 'HAUSHALTSSTRUKTUR'\n",
      "KeyErrors: 'KBA13_CCM_1400_2500'\n"
     ]
    },
    {
     "name": "stdout",
     "output_type": "stream",
     "text": [
      "KeyErrors: 'SOHO_FLAG'\n",
      "KeyErrors: 'WACHSTUMSGEBIET_NB'\n",
      "KeyErrors: 'WACHSTUMSGEBIET_NB'\n",
      "float64 AKT_DAT_KL\n",
      "float64 ALTERSKATEGORIE_FEIN\n",
      "float64 ANZ_HAUSHALTE_AKTIV\n",
      "float64 ANZ_HH_TITEL\n",
      "float64 ANZ_KINDER\n",
      "float64 ANZ_PERSONEN\n",
      "float64 ANZ_STATISTISCHE_HAUSHALTE\n",
      "float64 ANZ_TITEL\n",
      "float64 ARBEIT\n",
      "float64 BALLRAUM\n",
      "float64 CAMEO_DEUG_2015\n",
      "float64 CJT_GESAMTTYP\n",
      "float64 CJT_KATALOGNUTZER\n",
      "float64 CJT_TYP_1\n",
      "float64 CJT_TYP_2\n",
      "float64 CJT_TYP_3\n",
      "float64 CJT_TYP_4\n",
      "float64 CJT_TYP_5\n",
      "float64 CJT_TYP_6\n",
      "float64 D19_BANKEN_ONLINE_QUOTE_12\n",
      "float64 D19_GESAMT_ONLINE_QUOTE_12\n",
      "float64 D19_KONSUMTYP\n",
      "float64 D19_LOTTO\n",
      "float64 D19_SOZIALES\n",
      "float64 D19_TELKO_ONLINE_QUOTE_12\n",
      "float64 D19_VERSAND_ONLINE_QUOTE_12\n",
      "float64 D19_VERSI_ONLINE_QUOTE_12\n",
      "float64 DSL_FLAG\n",
      "float64 EINGEZOGENAM_HH_JAHR\n",
      "float64 EWDICHTE\n",
      "float64 FIRMENDICHTE\n",
      "float64 GEBAEUDETYP\n",
      "float64 GEBAEUDETYP_RASTER\n",
      "float64 GEMEINDETYP\n",
      "float64 GFK_URLAUBERTYP\n",
      "float64 HEALTH_TYP\n",
      "float64 HH_DELTA_FLAG\n",
      "float64 HH_EINKOMMEN_SCORE\n",
      "float64 INNENSTADT\n",
      "float64 KBA05_ALTER1\n",
      "float64 KBA05_ALTER2\n",
      "float64 KBA05_ALTER3\n",
      "float64 KBA05_ALTER4\n",
      "float64 KBA05_ANHANG\n",
      "float64 KBA05_ANTG1\n",
      "float64 KBA05_ANTG2\n",
      "float64 KBA05_ANTG3\n",
      "float64 KBA05_ANTG4\n",
      "float64 KBA05_AUTOQUOT\n",
      "float64 KBA05_CCM1\n",
      "float64 KBA05_CCM2\n",
      "float64 KBA05_CCM3\n",
      "float64 KBA05_CCM4\n",
      "float64 KBA05_DIESEL\n",
      "float64 KBA05_FRAU\n",
      "float64 KBA05_GBZ\n",
      "float64 KBA05_HERST1\n",
      "float64 KBA05_HERST2\n",
      "float64 KBA05_HERST3\n",
      "float64 KBA05_HERST4\n",
      "float64 KBA05_HERST5\n",
      "float64 KBA05_HERSTTEMP\n",
      "float64 KBA05_KRSAQUOT\n",
      "float64 KBA05_KRSHERST1\n",
      "float64 KBA05_KRSHERST2\n",
      "float64 KBA05_KRSHERST3\n",
      "float64 KBA05_KRSKLEIN\n",
      "float64 KBA05_KRSOBER\n",
      "float64 KBA05_KRSVAN\n",
      "float64 KBA05_KRSZUL\n",
      "float64 KBA05_KW1\n",
      "float64 KBA05_KW2\n",
      "float64 KBA05_KW3\n",
      "float64 KBA05_MAXAH\n",
      "float64 KBA05_MAXBJ\n",
      "float64 KBA05_MAXHERST\n",
      "float64 KBA05_MAXSEG\n",
      "float64 KBA05_MAXVORB\n",
      "float64 KBA05_MOD1\n",
      "float64 KBA05_MOD2\n",
      "float64 KBA05_MOD3\n",
      "float64 KBA05_MOD4\n",
      "float64 KBA05_MOD8\n",
      "float64 KBA05_MODTEMP\n",
      "float64 KBA05_MOTOR\n",
      "float64 KBA05_MOTRAD\n",
      "float64 KBA05_SEG1\n",
      "float64 KBA05_SEG10\n",
      "float64 KBA05_SEG2\n",
      "float64 KBA05_SEG3\n",
      "float64 KBA05_SEG4\n",
      "float64 KBA05_SEG5\n",
      "float64 KBA05_SEG6\n",
      "float64 KBA05_SEG7\n",
      "float64 KBA05_SEG8\n",
      "float64 KBA05_SEG9\n",
      "float64 KBA05_VORB0\n",
      "float64 KBA05_VORB1\n",
      "float64 KBA05_VORB2\n",
      "float64 KBA05_ZUL1\n",
      "float64 KBA05_ZUL2\n",
      "float64 KBA05_ZUL3\n",
      "float64 KBA05_ZUL4\n",
      "float64 KBA13_ALTERHALTER_30\n",
      "float64 KBA13_ALTERHALTER_45\n",
      "float64 KBA13_ALTERHALTER_60\n",
      "float64 KBA13_ALTERHALTER_61\n",
      "float64 KBA13_ANTG1\n",
      "float64 KBA13_ANTG2\n",
      "float64 KBA13_ANTG3\n",
      "float64 KBA13_ANTG4\n",
      "float64 KBA13_ANZAHL_PKW\n",
      "float64 KBA13_AUDI\n",
      "float64 KBA13_AUTOQUOTE\n",
      "float64 KBA13_BAUMAX\n",
      "float64 KBA13_BJ_1999\n",
      "float64 KBA13_BJ_2000\n",
      "float64 KBA13_BJ_2004\n",
      "float64 KBA13_BJ_2006\n",
      "float64 KBA13_BJ_2008\n",
      "float64 KBA13_BJ_2009\n",
      "float64 KBA13_BMW\n",
      "float64 KBA13_CCM_0_1400\n",
      "float64 KBA13_CCM_1000\n",
      "float64 KBA13_CCM_1200\n",
      "float64 KBA13_CCM_1400\n",
      "float64 KBA13_CCM_1401_2500\n",
      "float64 KBA13_CCM_1500\n",
      "float64 KBA13_CCM_1600\n",
      "float64 KBA13_CCM_1800\n",
      "float64 KBA13_CCM_2000\n",
      "float64 KBA13_CCM_2500\n",
      "float64 KBA13_CCM_2501\n",
      "float64 KBA13_CCM_3000\n",
      "float64 KBA13_CCM_3001\n",
      "float64 KBA13_FAB_ASIEN\n",
      "float64 KBA13_FAB_SONSTIGE\n",
      "float64 KBA13_FIAT\n",
      "float64 KBA13_FORD\n",
      "float64 KBA13_GBZ\n",
      "float64 KBA13_HALTER_20\n",
      "float64 KBA13_HALTER_25\n",
      "float64 KBA13_HALTER_30\n",
      "float64 KBA13_HALTER_35\n",
      "float64 KBA13_HALTER_40\n",
      "float64 KBA13_HALTER_45\n",
      "float64 KBA13_HALTER_50\n",
      "float64 KBA13_HALTER_55\n",
      "float64 KBA13_HALTER_60\n",
      "float64 KBA13_HALTER_65\n",
      "float64 KBA13_HALTER_66\n",
      "float64 KBA13_HERST_ASIEN\n",
      "float64 KBA13_HERST_AUDI_VW\n",
      "float64 KBA13_HERST_BMW_BENZ\n",
      "float64 KBA13_HERST_EUROPA\n",
      "float64 KBA13_HERST_FORD_OPEL\n",
      "float64 KBA13_HERST_SONST\n",
      "float64 KBA13_HHZ\n",
      "float64 KBA13_KMH_0_140\n",
      "float64 KBA13_KMH_110\n",
      "float64 KBA13_KMH_140\n",
      "float64 KBA13_KMH_140_210\n",
      "float64 KBA13_KMH_180\n",
      "float64 KBA13_KMH_210\n",
      "float64 KBA13_KMH_211\n",
      "float64 KBA13_KMH_250\n",
      "float64 KBA13_KMH_251\n",
      "float64 KBA13_KRSAQUOT\n",
      "float64 KBA13_KRSHERST_AUDI_VW\n",
      "float64 KBA13_KRSHERST_BMW_BENZ\n",
      "float64 KBA13_KRSHERST_FORD_OPEL\n",
      "float64 KBA13_KRSSEG_KLEIN\n",
      "float64 KBA13_KRSSEG_OBER\n",
      "float64 KBA13_KRSSEG_VAN\n",
      "float64 KBA13_KRSZUL_NEU\n",
      "float64 KBA13_KW_0_60\n",
      "float64 KBA13_KW_110\n",
      "float64 KBA13_KW_120\n",
      "float64 KBA13_KW_121\n",
      "float64 KBA13_KW_30\n",
      "float64 KBA13_KW_40\n",
      "float64 KBA13_KW_50\n",
      "float64 KBA13_KW_60\n",
      "float64 KBA13_KW_61_120\n",
      "float64 KBA13_KW_70\n",
      "float64 KBA13_KW_80\n",
      "float64 KBA13_KW_90\n",
      "float64 KBA13_MAZDA\n",
      "float64 KBA13_MERCEDES\n",
      "float64 KBA13_MOTOR\n",
      "float64 KBA13_NISSAN\n",
      "float64 KBA13_OPEL\n",
      "float64 KBA13_PEUGEOT\n",
      "float64 KBA13_RENAULT\n",
      "float64 KBA13_SEG_GELAENDEWAGEN\n",
      "float64 KBA13_SEG_GROSSRAUMVANS\n",
      "float64 KBA13_SEG_KLEINST\n",
      "float64 KBA13_SEG_KLEINWAGEN\n",
      "float64 KBA13_SEG_KOMPAKTKLASSE\n",
      "float64 KBA13_SEG_MINIVANS\n",
      "float64 KBA13_SEG_MINIWAGEN\n",
      "float64 KBA13_SEG_MITTELKLASSE\n",
      "float64 KBA13_SEG_OBEREMITTELKLASSE\n",
      "float64 KBA13_SEG_OBERKLASSE\n",
      "float64 KBA13_SEG_SONSTIGE\n",
      "float64 KBA13_SEG_SPORTWAGEN\n",
      "float64 KBA13_SEG_UTILITIES\n",
      "float64 KBA13_SEG_VAN\n",
      "float64 KBA13_SEG_WOHNMOBILE\n",
      "float64 KBA13_SITZE_4\n",
      "float64 KBA13_SITZE_5\n",
      "float64 KBA13_SITZE_6\n",
      "float64 KBA13_TOYOTA\n",
      "float64 KBA13_VORB_0\n",
      "float64 KBA13_VORB_1\n",
      "float64 KBA13_VORB_1_2\n",
      "float64 KBA13_VORB_2\n",
      "float64 KBA13_VORB_3\n",
      "float64 KBA13_VW\n",
      "float64 KKK\n",
      "float64 KONSUMNAEHE\n",
      "float64 KONSUMZELLE\n",
      "float64 LP_FAMILIE_FEIN\n",
      "float64 LP_FAMILIE_GROB\n",
      "float64 LP_STATUS_FEIN\n",
      "float64 LP_STATUS_GROB\n",
      "float64 MIN_GEBAEUDEJAHR\n",
      "float64 MOBI_RASTER\n",
      "float64 MOBI_REGIO\n",
      "float64 NATIONALITAET_KZ\n",
      "float64 ONLINE_AFFINITAET\n",
      "float64 ORTSGR_KLS9\n",
      "float64 PLZ8_ANTG1\n",
      "float64 PLZ8_ANTG2\n",
      "float64 PLZ8_ANTG3\n",
      "float64 PLZ8_ANTG4\n",
      "float64 PLZ8_BAUMAX\n",
      "float64 PLZ8_GBZ\n",
      "float64 PLZ8_HHZ\n",
      "float64 REGIOTYP\n",
      "float64 RELAT_AB\n",
      "float64 RETOURTYP_BK_S\n",
      "float64 RT_KEIN_ANREIZ\n",
      "float64 RT_SCHNAEPPCHEN\n",
      "float64 RT_UEBERGROESSE\n",
      "float64 SHOPPER_TYP\n",
      "float64 SOHO_KZ\n",
      "float64 STRUKTURTYP\n",
      "float64 UMFELD_ALT\n",
      "float64 UMFELD_JUNG\n",
      "float64 UNGLEICHENN_FLAG\n",
      "float64 VERDICHTUNGSRAUM\n",
      "float64 VERS_TYP\n",
      "float64 VHA\n",
      "float64 VHN\n",
      "float64 VK_DHT4A\n",
      "float64 VK_DISTANZ\n",
      "float64 VK_ZG11\n",
      "float64 W_KEIT_KIND_HH\n",
      "float64 WOHNDAUER_2008\n",
      "float64 WOHNLAGE\n",
      "float64 life_status\n",
      "float64 wealth\n",
      "missing_features inserted: {'GEBAEUDETYP_5'}\n"
     ]
    }
   ],
   "source": [
    "mailout_train = clean(mailout_train)\n",
    "mailout_test = clean(mailout_test)"
   ]
  },
  {
   "cell_type": "code",
   "execution_count": 126,
   "metadata": {},
   "outputs": [
    {
     "name": "stdout",
     "output_type": "stream",
     "text": [
      "(42962, 442)\n",
      "(42833, 442)\n",
      "(191649, 442)\n",
      "(891203, 442)\n"
     ]
    }
   ],
   "source": [
    "# shape inspection after dropping ppor columns\n",
    "print(mailout_train.shape)\n",
    "print(mailout_test.shape)\n",
    "print(customers.shape)\n",
    "print(azdias.shape)"
   ]
  },
  {
   "cell_type": "markdown",
   "metadata": {},
   "source": [
    "### PCA and Clustering\n"
   ]
  },
  {
   "cell_type": "code",
   "execution_count": 127,
   "metadata": {},
   "outputs": [],
   "source": [
    "# PCA\n",
    "#mailout_train_pca = pca.transform(mailout_train)\n",
    "#mailout_test_pca = pca.transform(mailout_test)"
   ]
  },
  {
   "cell_type": "code",
   "execution_count": 128,
   "metadata": {},
   "outputs": [],
   "source": [
    "# Clustering\n",
    "#mailout_train_pred = kmeans.predict(mailout_train_pca)\n",
    "#mailout_test_pred = kmeans.predict(mailout_test_pca)"
   ]
  },
  {
   "cell_type": "markdown",
   "metadata": {},
   "source": [
    "### Response data evaluated"
   ]
  },
  {
   "cell_type": "code",
   "execution_count": 129,
   "metadata": {},
   "outputs": [
    {
     "data": {
      "text/plain": [
       "0    0\n",
       "1    0\n",
       "2    0\n",
       "3    0\n",
       "4    0\n",
       "Name: RESPONSE, dtype: int64"
      ]
     },
     "execution_count": 129,
     "metadata": {},
     "output_type": "execute_result"
    }
   ],
   "source": [
    "# what does this response label look like\n",
    "response_target.head()"
   ]
  },
  {
   "cell_type": "code",
   "execution_count": 130,
   "metadata": {},
   "outputs": [
    {
     "data": {
      "text/plain": [
       "array([0.98761696, 0.01238304])"
      ]
     },
     "execution_count": 130,
     "metadata": {},
     "output_type": "execute_result"
    }
   ],
   "source": [
    "# count response types\n",
    "response_target.value_counts().values/len(response_target)"
   ]
  },
  {
   "cell_type": "code",
   "execution_count": 131,
   "metadata": {},
   "outputs": [
    {
     "data": {
      "image/png": "[encoded data removed]",
      "text/plain": [
       "<Figure size 432x288 with 1 Axes>"
      ]
     },
     "metadata": {
      "needs_background": "light"
     },
     "output_type": "display_data"
    }
   ],
   "source": [
    "# plot of imballance\n",
    "ax = response_target.value_counts().plot(kind='bar')\n",
    "ax.set_xlabel(\"Response type\")\n",
    "ax.set_ylabel(\"Count\")\n",
    "plt.show()"
   ]
  },
  {
   "cell_type": "markdown",
   "metadata": {},
   "source": [
    "Only 1.24% of the train dataset are positive samples. The 98.76% majority did not respond to the mailout campaign.\n",
    "This means that we're dealing with a highlt imballanced dataset."
   ]
  },
  {
   "cell_type": "markdown",
   "metadata": {},
   "source": [
    "### Predictive modelling"
   ]
  },
  {
   "cell_type": "code",
   "execution_count": 132,
   "metadata": {},
   "outputs": [],
   "source": [
    "# remap to X, y for convenience \n",
    "X = mailout_train\n",
    "y = response_target"
   ]
  },
  {
   "cell_type": "code",
   "execution_count": 133,
   "metadata": {},
   "outputs": [],
   "source": [
    "SEED = 51"
   ]
  },
  {
   "cell_type": "markdown",
   "metadata": {},
   "source": [
    "#### SMOTE sampling"
   ]
  },
  {
   "cell_type": "code",
   "execution_count": 134,
   "metadata": {},
   "outputs": [],
   "source": [
    "# oversample the minority class to a minority/majority-ratio of 0.1\n",
    "oversampler = SMOTE(sampling_strategy=0.03, k_neighbors=50, n_jobs=-1, random_state=SEED)\n",
    "# X, y = oversampler.fit_resample(X, y)"
   ]
  },
  {
   "cell_type": "code",
   "execution_count": 135,
   "metadata": {},
   "outputs": [],
   "source": [
    "# check that the ratio was changed\n",
    "# y.value_counts().values/len(y)"
   ]
  },
  {
   "cell_type": "code",
   "execution_count": 136,
   "metadata": {},
   "outputs": [],
   "source": [
    "# undersampling majority class to a minority/majority-ratio of 0.5\n",
    "undersampler = RandomUnderSampler(sampling_strategy=0.6, random_state=SEED)  \n",
    "# X, y = undersampler.fit_resample(X, y)"
   ]
  },
  {
   "cell_type": "code",
   "execution_count": 137,
   "metadata": {},
   "outputs": [],
   "source": [
    "# check that the ratio was changed\n",
    "# y.value_counts().values/len(y)"
   ]
  },
  {
   "cell_type": "markdown",
   "metadata": {},
   "source": [
    "#### Cross-validation with Stratified K-folds\n",
    "I'll use stratified k-fold cross-validation to evaluate the model\n",
    "k-folds cross validation to check the robustness of the solution.\n",
    "The dataset is stratified, meaning that each fold of the cross-validation split will have the same class distribution as the original dataset"
   ]
  },
  {
   "cell_type": "code",
   "execution_count": 138,
   "metadata": {},
   "outputs": [],
   "source": [
    "# Kfolds\n",
    "# cv = RepeatedStratifiedKFold(n_splits=5, n_repeats=2)\n",
    "cv = StratifiedKFold(n_splits=5, shuffle=True, random_state=SEED)"
   ]
  },
  {
   "cell_type": "markdown",
   "metadata": {},
   "source": [
    "### Benchmark model pipeline\n",
    "I'm using the classic simple Logistic Regression model as a benchmark."
   ]
  },
  {
   "cell_type": "code",
   "execution_count": 139,
   "metadata": {},
   "outputs": [],
   "source": [
    "model = LogisticRegression(max_iter=1000)"
   ]
  },
  {
   "cell_type": "code",
   "execution_count": 140,
   "metadata": {},
   "outputs": [],
   "source": [
    "# pipeline incl. resampling\n",
    "pipeline = imbpipeline(steps = [['over', oversampler],\n",
    "                                ['under', undersampler],\n",
    "                                ['model', model],\n",
    "                               ]\n",
    "                      )"
   ]
  },
  {
   "cell_type": "markdown",
   "metadata": {},
   "source": [
    "### Benchmark scores"
   ]
  },
  {
   "cell_type": "code",
   "execution_count": 141,
   "metadata": {},
   "outputs": [],
   "source": [
    "#%%time\n",
    "#scores = cross_val_score(model, X, y, scoring='roc_auc', cv=cv, n_jobs=-1)  # roc_auc / f1_macro\n",
    "#print(\"%0.2f ROC-AUC with a standard deviation of %0.2f\" % (scores.mean(), scores.std()))"
   ]
  },
  {
   "cell_type": "code",
   "execution_count": 142,
   "metadata": {},
   "outputs": [],
   "source": [
    "#%%time\n",
    "#scores = cross_validate(pipeline, X, y, cv=cv, scoring=['roc_auc'], return_train_score=True, n_jobs=-1)\n",
    "#print(\"%0.2f F1 with a standard deviation of %0.2f\" % (scores['test_f1'].mean(), scores['test_f1'].std()))\n",
    "#print(\"Train:  %0.2f ROC-AUC with a standard deviation of %0.2f\" % (scores['train_roc_auc'].mean(), scores['train_roc_auc'].std()))\n",
    "#print(\"Test:   %0.2f ROC-AUC with a standard deviation of %0.2f\" % (scores['test_roc_auc'].mean(), scores['test_roc_auc'].std()))"
   ]
  },
  {
   "cell_type": "markdown",
   "metadata": {},
   "source": [
    "### Rough grid-based hyper-parameter tuning for benchmark model\n",
    "Even though the Logistic Regression model are kept at default parameters I'm still doing a bit of hyperparameter tuning on the sampling so the following model comparisons is more fair and isn't to governed by the sampling parameters."
   ]
  },
  {
   "cell_type": "code",
   "execution_count": 143,
   "metadata": {},
   "outputs": [],
   "source": [
    "# splitting the data into a train_val and a test part\n",
    "X_train, X_test, y_train, y_test = train_test_split(X,\n",
    "                                                    y,\n",
    "                                                    test_size=0.2,\n",
    "                                                    stratify=y,\n",
    "                                                    random_state=SEED)"
   ]
  },
  {
   "cell_type": "code",
   "execution_count": 144,
   "metadata": {},
   "outputs": [],
   "source": [
    "# defining gridsearch and parameter space\n",
    "param_grid = {'over__sampling_strategy':[0.03, 0.04, 0.05],\n",
    "              'over__k_neighbors':[20, 50, 100],\n",
    "              'under__sampling_strategy':[0.6, 0.7, 0.8],\n",
    "             }\n",
    "grid_search = GridSearchCV(estimator=pipeline,\n",
    "                           param_grid=param_grid,\n",
    "                           scoring='roc_auc',\n",
    "                           cv=cv,\n",
    "                           refit=True,\n",
    "                           verbose=10,\n",
    "                           n_jobs=-1,\n",
    "                          )"
   ]
  },
  {
   "cell_type": "code",
   "execution_count": 145,
   "metadata": {},
   "outputs": [
    {
     "name": "stdout",
     "output_type": "stream",
     "text": [
      "Fitting 5 folds for each of 27 candidates, totalling 135 fits\n"
     ]
    },
    {
     "name": "stderr",
     "output_type": "stream",
     "text": [
      "[Parallel(n_jobs=-1)]: Using backend LokyBackend with 8 concurrent workers.\n",
      "[Parallel(n_jobs=-1)]: Done   2 tasks      | elapsed:    3.8s\n",
      "[Parallel(n_jobs=-1)]: Done   9 tasks      | elapsed:    6.4s\n",
      "[Parallel(n_jobs=-1)]: Done  16 tasks      | elapsed:    7.5s\n",
      "[Parallel(n_jobs=-1)]: Done  25 tasks      | elapsed:   14.4s\n",
      "[Parallel(n_jobs=-1)]: Done  34 tasks      | elapsed:   20.2s\n",
      "[Parallel(n_jobs=-1)]: Done  45 tasks      | elapsed:   24.7s\n",
      "[Parallel(n_jobs=-1)]: Done  56 tasks      | elapsed:   28.7s\n",
      "[Parallel(n_jobs=-1)]: Done  69 tasks      | elapsed:   35.2s\n",
      "[Parallel(n_jobs=-1)]: Done  82 tasks      | elapsed:   41.6s\n",
      "[Parallel(n_jobs=-1)]: Done  97 tasks      | elapsed:   48.5s\n",
      "[Parallel(n_jobs=-1)]: Done 112 tasks      | elapsed:   55.4s\n",
      "[Parallel(n_jobs=-1)]: Done 135 out of 135 | elapsed:  1.1min finished\n"
     ]
    },
    {
     "name": "stdout",
     "output_type": "stream",
     "text": [
      "Cross-validation score: 0.6359827032165917\n",
      "Test score: 0.6833436710084904\n",
      "Wall time: 1min 8s\n"
     ]
    }
   ],
   "source": [
    "%%time\n",
    "# executing grid search\n",
    "grid_search.fit(X_train, y_train)\n",
    "cv_score = grid_search.best_score_  # Score of best_estimator on the left out data.\n",
    "\n",
    "# scoring best estimater\n",
    "test_score = grid_search.score(X_test, y_test)\n",
    "print(f'Cross-validation score: {cv_score}\\nTest score: {test_score}')"
   ]
  },
  {
   "cell_type": "code",
   "execution_count": 146,
   "metadata": {},
   "outputs": [
    {
     "data": {
      "text/plain": [
       "{'over__k_neighbors': 100,\n",
       " 'over__sampling_strategy': 0.04,\n",
       " 'under__sampling_strategy': 0.7}"
      ]
     },
     "execution_count": 146,
     "metadata": {},
     "output_type": "execute_result"
    }
   ],
   "source": [
    "# Parameter setting that gave the best estimater\n",
    "grid_search.best_params_  "
   ]
  },
  {
   "cell_type": "code",
   "execution_count": 147,
   "metadata": {},
   "outputs": [
    {
     "name": "stdout",
     "output_type": "stream",
     "text": [
      "Test score:  0.6833436710084904\n"
     ]
    }
   ],
   "source": [
    "# Manual scoring on hold-out test dataset\n",
    "y_score = grid_search.predict_proba(X_test)[:, 1]\n",
    "print(f\"Test score:  {roc_auc_score(y_test, y_score, average='macro')}\")"
   ]
  },
  {
   "cell_type": "markdown",
   "metadata": {},
   "source": [
    "The best LR model ended up in the order of 0.65 ROC-AUC.\n",
    "With a reasonable benchmark in place it's now time for the more advanced modelling."
   ]
  },
  {
   "cell_type": "markdown",
   "metadata": {},
   "source": [
    "### Model generic features"
   ]
  },
  {
   "cell_type": "code",
   "execution_count": 148,
   "metadata": {},
   "outputs": [],
   "source": [
    "# pipeline incl. resampling\n",
    "def pipeline_constructor(model):\n",
    "    return imbpipeline(steps = [['over', oversampler],\n",
    "                                ['under', undersampler],\n",
    "                                ['model', model]])"
   ]
  },
  {
   "cell_type": "code",
   "execution_count": 149,
   "metadata": {},
   "outputs": [],
   "source": [
    "def optimizer_constructor(model, search_spaces, n_iter=1):\n",
    "    # sampling specific hyperparameters\n",
    "    sampling_search_space = {'over__sampling_strategy': Real(0.013, 0.1, 'uniform'),\n",
    "                             'over__k_neighbors': Integer(5, 100),\n",
    "                             'under__sampling_strategy': Real(0.1, 1, 'uniform')}\n",
    "    # extend model hyperparameter space with sampling parameters\n",
    "    search_spaces.update(sampling_search_space)\n",
    "    # fit parameters\n",
    "    fit_params = {\n",
    "            #'model__early_stopping_rounds': 30,\n",
    "            #'model__eval_metric': 'multi_logloss',\n",
    "            #'model__eval_set': [(X_test, y_test)],\n",
    "            }\n",
    "    return BayesSearchCV(estimator=pipeline_constructor(model), \n",
    "                                 search_spaces=search_spaces,\n",
    "                                 fit_params=fit_params,\n",
    "                                 scoring='roc_auc',  # metric from kaggle competition (not ideal for imbalanced data)\n",
    "                                 cv=cv,\n",
    "                                 refit=True,\n",
    "                                 n_iter=n_iter,\n",
    "                                 n_points=1,\n",
    "                                 verbose=0,\n",
    "                                 n_jobs=-1,\n",
    "                                 random_state=SEED)"
   ]
  },
  {
   "cell_type": "code",
   "execution_count": 150,
   "metadata": {},
   "outputs": [],
   "source": [
    "def myPrintStatus(x):\n",
    "    '''callback printing during hyperparameter tuning'''\n",
    "    # Get all the models tested so far in DataFrame format\n",
    "    results = optimizer.cv_results_\n",
    "    #estimater_name = bayes_search.estimator.__class__.__name__\n",
    "    mean_test_score = results['mean_test_score'][-1]\n",
    "    rank_test_score = results['rank_test_score'][-1]\n",
    "    std_test_score = results['std_test_score'][-1]\n",
    "    num_candidates = len(results['params'])\n",
    "    best_score = optimizer.best_score_\n",
    "    best_params = optimizer.best_params_\n",
    "    print(f\"Model candidate {num_candidates} (rank {rank_test_score}) - Current Cross-validation score: {mean_test_score:.2f} (best {best_score:.2f})\")\n",
    "    #pprint(f\"Params: {results['params'][0]}\\n\")"
   ]
  },
  {
   "cell_type": "code",
   "execution_count": 151,
   "metadata": {},
   "outputs": [],
   "source": [
    "def print_summary(optimizer):\n",
    "    ''' print metrics '''\n",
    "    estimater_name = optimizer.estimator.__class__.__name__\n",
    "    if estimater_name == 'Pipeline':\n",
    "        estimater_name = [step[1].__class__.__name__ for step in optimizer.estimator.steps if step[0] == 'model'][0]\n",
    "\n",
    "    # extract optimizer parameters\n",
    "    num_candidates = len(optimizer.cv_results_['params'])\n",
    "    best_score = optimizer.best_score_\n",
    "    best_params = optimizer.best_params_\n",
    "    estimator = optimizer.best_estimator_\n",
    "    \n",
    "    print('----', estimater_name, '----')\n",
    "    print('candidates checked:', num_candidates)\n",
    "    print(f'best cross-validation score: {best_score:.3f}')   \n",
    "    print('Best parameters:')\n",
    "    pprint(best_params)\n",
    "    print()\n",
    "\n",
    "    def print_classification_report(y_truth, y_pred):\n",
    "        print(classification_report(y_truth, y_pred))\n",
    "        print('confussion matrix:')\n",
    "        print(confusion_matrix(y_truth, y_pred))\n",
    "        print()\n",
    "\n",
    "    # make predictions with best estimator\n",
    "    \n",
    "    #y_train_pred = estimator.predict(X_train)   \n",
    "        \n",
    "    #print('---- Classification report for TRAIN dataset ----')\n",
    "    #y_score = estimator.predict_proba(X_train)[:, 1]\n",
    "    #print('ROC AUC score (macro):', round(roc_auc_score(y_train, y_score, average='macro'),3))\n",
    "    #y_pred = estimator.predict(X_train)\n",
    "    #print_classification_report(y_train, y_pred)\n",
    "      \n",
    "    #print('---- Classification report for TEST dataset ----')\n",
    "    y_score = estimator.predict_proba(X_test)[:, 1]\n",
    "    print('ROC AUC score (macro):', round(roc_auc_score(y_test, y_score, average='macro'),3))\n",
    "    #y_pred = estimator.predict(X_test)\n",
    "    #print_classification_report(y_test, y_pred)\n",
    "\n",
    "      "
   ]
  },
  {
   "cell_type": "markdown",
   "metadata": {},
   "source": [
    "### XGBoost model"
   ]
  },
  {
   "cell_type": "code",
   "execution_count": 152,
   "metadata": {},
   "outputs": [],
   "source": [
    "model = xgb.XGBClassifier(n_jobs=-1,\n",
    "                          objective='binary:logistic',\n",
    "                          eval_metric='auc',  # metric from kaggle competition (not ideal for imbalanced data)\n",
    "                          use_label_encoder=False,\n",
    "                          tree_method='approx',\n",
    "                          seed=SEED)"
   ]
  },
  {
   "cell_type": "code",
   "execution_count": 153,
   "metadata": {},
   "outputs": [],
   "source": [
    "# XGBoost search spaces\n",
    "ITERATIONS = 5\n",
    "search_spaces = {'model__learning_rate': Real(0.01, 1.0, 'log-uniform'),\n",
    "                 'model__min_child_weight': Integer(0, 10),\n",
    "                 'model__max_depth': Integer(1, 50),\n",
    "                 'model__max_delta_step': Integer(0, 20), # Maximum delta step we allow each leaf output\n",
    "                 'model__subsample': Real(0.01, 1.0, 'uniform'),\n",
    "                 'model__colsample_bytree': Real(0.01, 1.0, 'uniform'), # subsample ratio of columns by tree\n",
    "                 'model__colsample_bylevel': Real(0.01, 1.0, 'uniform'), # subsample ratio by level in trees\n",
    "                 'model__reg_lambda': Real(1e-9, 1000, 'log-uniform'), # L2 regularization\n",
    "                 'model__reg_alpha': Real(1e-9, 1.0, 'log-uniform'), # L1 regularization\n",
    "                 'model__gamma': Real(1e-9, 0.5, 'log-uniform'), # Minimum loss reduction for partition\n",
    "                 'model__n_estimators': Integer(50, 100),\n",
    "                 'model__scale_pos_weight': Real(1e-6, 500, 'log-uniform')}"
   ]
  },
  {
   "cell_type": "code",
   "execution_count": 154,
   "metadata": {},
   "outputs": [
    {
     "name": "stdout",
     "output_type": "stream",
     "text": [
      "Model candidate 1 (rank 1) - Current Cross-validation score: 0.71 (best 0.71)\n",
      "Model candidate 2 (rank 2) - Current Cross-validation score: 0.67 (best 0.71)\n",
      "Model candidate 3 (rank 3) - Current Cross-validation score: 0.50 (best 0.71)\n",
      "Model candidate 4 (rank 3) - Current Cross-validation score: 0.50 (best 0.71)\n",
      "Model candidate 5 (rank 3) - Current Cross-validation score: 0.51 (best 0.71)\n",
      "Wall time: 18.2 s\n"
     ]
    }
   ],
   "source": [
    "%%time\n",
    "optimizer = optimizer_constructor(model, search_spaces, n_iter=ITERATIONS)\n",
    "result = optimizer.fit(#X, y, \n",
    "                       X_train, y_train, \n",
    "                       callback=[DeltaXStopper(0.001), \n",
    "                                 #DeadlineStopper(5*60), \n",
    "                                 myPrintStatus,\n",
    "                                 ]\n",
    "                          )"
   ]
  },
  {
   "cell_type": "code",
   "execution_count": 155,
   "metadata": {},
   "outputs": [
    {
     "name": "stdout",
     "output_type": "stream",
     "text": [
      "---- XGBClassifier ----\n",
      "candidates checked: 5\n",
      "best cross-validation score: 0.713\n",
      "Best parameters:\n",
      "OrderedDict([('model__colsample_bylevel', 0.08916991901452663),\n",
      "             ('model__colsample_bytree', 0.07133042624799589),\n",
      "             ('model__gamma', 6.193069509877556e-08),\n",
      "             ('model__learning_rate', 0.06663822043332003),\n",
      "             ('model__max_delta_step', 1),\n",
      "             ('model__max_depth', 4),\n",
      "             ('model__min_child_weight', 0),\n",
      "             ('model__n_estimators', 90),\n",
      "             ('model__reg_alpha', 0.0045348167443284935),\n",
      "             ('model__reg_lambda', 0.0002618901344145214),\n",
      "             ('model__scale_pos_weight', 0.10972822258363321),\n",
      "             ('model__subsample', 0.8961409541041984),\n",
      "             ('over__k_neighbors', 92),\n",
      "             ('over__sampling_strategy', 0.057508453775267886),\n",
      "             ('under__sampling_strategy', 0.9618038317752836)])\n",
      "\n",
      "ROC AUC score (macro): 0.705\n"
     ]
    },
    {
     "name": "stderr",
     "output_type": "stream",
     "text": [
      "c:\\users\\kenne\\appdata\\local\\programs\\python\\python37\\lib\\site-packages\\xgboost\\data.py:114: UserWarning: Use subset (sliced data) of np.ndarray is not recommended because it will generate extra copies and increase memory consumption\n",
      "  \"because it will generate extra copies and increase \" +\n"
     ]
    }
   ],
   "source": [
    "print_summary(optimizer)"
   ]
  },
  {
   "cell_type": "markdown",
   "metadata": {},
   "source": [
    "#### ---- XGBClassifier Experiment 1 ----\n",
    "candidates checked: 300\n",
    "best cross-validation score: 0.767\n",
    "Hold-out test ROC AUC score (macro): 0.774\n",
    "Best parameters:\n",
    "OrderedDict([('model__colsample_bylevel', 0.37313018654120905),\n",
    "             ('model__colsample_bytree', 1.0),\n",
    "             ('model__gamma', 1.2993144371546726e-06),\n",
    "             ('model__learning_rate', 0.01),\n",
    "             ('model__max_delta_step', 11),\n",
    "             ('model__max_depth', 39),\n",
    "             ('model__min_child_weight', 10),\n",
    "             ('model__n_estimators', 60),\n",
    "             ('model__reg_alpha', 0.0001071944065801464),\n",
    "             ('model__reg_lambda', 1.0511666183804571e-09),\n",
    "             ('model__scale_pos_weight', 0.10482598118813549),\n",
    "             ('model__subsample', 0.33170149730915915)])\n",
    "            sampling_strategy=0.03, \n",
    "            k_neighbors=50\n",
    "\n",
    "\n",
    "#### ---- XGBClassifier Experiment 2 ----\n",
    "candidates checked: 300\n",
    "best cross-validation score: 0.760\n",
    "Hold-out test ROC AUC score (macro): 0.776\n",
    "Best parameters:\n",
    "OrderedDict([('model__colsample_bylevel', 0.5481240028615237),\n",
    "             ('model__colsample_bytree', 0.8457029904352482),\n",
    "             ('model__gamma', 4.982246302828535e-09),\n",
    "             ('model__learning_rate', 0.08256497454249488),\n",
    "             ('model__max_delta_step', 13),\n",
    "             ('model__max_depth', 50),\n",
    "             ('model__min_child_weight', 3),\n",
    "             ('model__n_estimators', 86),\n",
    "             ('model__reg_alpha', 0.7449176892953915),\n",
    "             ('model__reg_lambda', 310.05233497899724),\n",
    "             ('model__scale_pos_weight', 1.4494184754970976),\n",
    "             ('model__subsample', 0.8552179878805323)])\n",
    "\n",
    "\n",
    "\n",
    "#### ---- XGBClassifier Experiment 3 ----\n",
    "candidates checked: 100\n",
    "best cross-validation score: 0.764\n",
    "(Train ROC AUC score (macro): 0.82)\n",
    "Best parameters:\n",
    "OrderedDict([('model__colsample_bylevel', 0.8909763934875194),\n",
    "             ('model__colsample_bytree', 0.8459260010050229),\n",
    "             ('model__gamma', 6.594479179399154e-06),\n",
    "             ('model__learning_rate', 0.10491373218920595),\n",
    "             ('model__max_delta_step', 4),\n",
    "             ('model__max_depth', 3),\n",
    "             ('model__min_child_weight', 0),\n",
    "             ('model__n_estimators', 61),\n",
    "             ('model__reg_alpha', 9.286935228610291e-06),\n",
    "             ('model__reg_lambda', 85.32842279815551),\n",
    "             ('model__scale_pos_weight', 7.301821065094156),\n",
    "             ('model__subsample', 0.5101084763350213),\n",
    "             ('over__k_neighbors', 28),\n",
    "             ('over__sampling_strategy', 0.013),\n",
    "             ('under__sampling_strategy', 0.5426795915787295)])\n",
    "\n",
    "\n",
    "#### ---- XGBClassifier Experiment 4 ----\n",
    "candidates checked: 100\n",
    "best cross-validation score: 0.772\n",
    "(Train ROC AUC score (macro): 0.839)\n",
    "Best parameters:\n",
    "OrderedDict([('model__colsample_bylevel', 0.6084585284681691),\n",
    "             ('model__colsample_bytree', 0.5964554313403541),\n",
    "             ('model__gamma', 2.4813274234538006e-05),\n",
    "             ('model__learning_rate', 0.01),\n",
    "             ('model__max_delta_step', 0),\n",
    "             ('model__max_depth', 7),\n",
    "             ('model__min_child_weight', 10),\n",
    "             ('model__n_estimators', 100),\n",
    "             ('model__reg_alpha', 1e-09),\n",
    "             ('model__reg_lambda', 7.197995645583151e-06),\n",
    "             ('model__scale_pos_weight', 0.7353101983966908),\n",
    "             ('model__subsample', 0.9629613341073688),\n",
    "             ('over__k_neighbors', 5),\n",
    "             ('over__sampling_strategy', 0.013),\n",
    "             ('under__sampling_strategy', 0.6416648367206704)])"
   ]
  },
  {
   "cell_type": "code",
   "execution_count": 156,
   "metadata": {
    "scrolled": true
   },
   "outputs": [
    {
     "name": "stdout",
     "output_type": "stream",
     "text": [
      "Test score:  0.7050722414525213\n"
     ]
    },
    {
     "name": "stderr",
     "output_type": "stream",
     "text": [
      "c:\\users\\kenne\\appdata\\local\\programs\\python\\python37\\lib\\site-packages\\xgboost\\data.py:114: UserWarning: Use subset (sliced data) of np.ndarray is not recommended because it will generate extra copies and increase memory consumption\n",
      "  \"because it will generate extra copies and increase \" +\n"
     ]
    }
   ],
   "source": [
    "# Manual scoring on hold-out test dataset\n",
    "y_score = optimizer.predict_proba(X_test)[:, 1]\n",
    "print(f\"Test score:  {roc_auc_score(y_test, y_score, average='macro')}\")"
   ]
  },
  {
   "cell_type": "code",
   "execution_count": 157,
   "metadata": {},
   "outputs": [],
   "source": [
    "# optimal hyperparameters found (from experiment 4)\n",
    "tuned_params = {'model__colsample_bylevel': 0.6084585284681691,\n",
    "                'model__colsample_bytree': 0.5964554313403541,\n",
    "                'model__gamma': 2.4813274234538006e-05,\n",
    "                'model__learning_rate': 0.01,\n",
    "                'model__max_delta_step': 0,\n",
    "                'model__max_depth': 7,\n",
    "                'model__min_child_weight': 10,\n",
    "                'model__n_estimators': 100,\n",
    "                'model__reg_alpha': 1e-09,\n",
    "                'model__reg_lambda': 7.197995645583151e-06,\n",
    "                'model__scale_pos_weight': 0.7353101983966908,\n",
    "                'model__subsample': 0.9629613341073688,\n",
    "                'over__k_neighbors': 5,\n",
    "                'over__sampling_strategy': 0.013,\n",
    "                'under__sampling_strategy': 0.6416648367206704,\n",
    "                }"
   ]
  },
  {
   "cell_type": "code",
   "execution_count": 158,
   "metadata": {},
   "outputs": [
    {
     "data": {
      "text/plain": [
       "Pipeline(steps=[('over',\n",
       "                 SMOTE(n_jobs=-1, random_state=51, sampling_strategy=0.013)),\n",
       "                ('under',\n",
       "                 RandomUnderSampler(random_state=51,\n",
       "                                    sampling_strategy=0.6416648367206704)),\n",
       "                ['model',\n",
       "                 XGBClassifier(base_score=0.5, booster='gbtree',\n",
       "                               colsample_bylevel=0.6084585284681691,\n",
       "                               colsample_bynode=1,\n",
       "                               colsample_bytree=0.5964554313403541,\n",
       "                               eval_metric='auc', gamma=2.481327423453...\n",
       "                               max_delta_step=0, max_depth=7,\n",
       "                               min_child_weight=10, missing=nan,\n",
       "                               monotone_constraints='()', n_estimators=100,\n",
       "                               n_jobs=-1, num_parallel_tree=1, random_state=51,\n",
       "                               reg_alpha=1e-09,\n",
       "                               reg_lambda=7.197995645583151e-06,\n",
       "                               scale_pos_weight=0.7353101983966908, seed=51,\n",
       "                               subsample=0.9629613341073688,\n",
       "                               tree_method='approx', use_label_encoder=False,\n",
       "                               validate_parameters=1, verbosity=None)]])"
      ]
     },
     "execution_count": 158,
     "metadata": {},
     "output_type": "execute_result"
    }
   ],
   "source": [
    "# set hyperparameters\n",
    "estimator = optimizer.best_estimator_\n",
    "estimator.set_params(**tuned_params)    "
   ]
  },
  {
   "cell_type": "code",
   "execution_count": 159,
   "metadata": {},
   "outputs": [
    {
     "name": "stdout",
     "output_type": "stream",
     "text": [
      "0.77 ROC-AUC with a standard deviation of 0.03\n",
      "Wall time: 2.3 s\n"
     ]
    }
   ],
   "source": [
    "%%time\n",
    "# retrain tuned model on full dataset not with-holding anything for testing\n",
    "scores = cross_val_score(estimator, X, y, scoring='roc_auc', cv=cv, n_jobs=-1)\n",
    "print(\"%0.2f ROC-AUC with a standard deviation of %0.2f\" % (scores.mean(), scores.std()))"
   ]
  },
  {
   "cell_type": "code",
   "execution_count": 160,
   "metadata": {},
   "outputs": [
    {
     "data": {
      "text/plain": [
       "HEALTH_TYP               0.028622\n",
       "KBA05_MAXAH              0.025687\n",
       "D19_KOSMETIK             0.025257\n",
       "KBA05_MODTEMP            0.021047\n",
       "KBA13_KMH_0_140          0.020183\n",
       "CAMEO_DEUG_2015_2        0.019715\n",
       "CJT_GESAMTTYP_6          0.019370\n",
       "FINANZ_UNAUFFAELLIGER    0.018951\n",
       "FINANZ_SPARER            0.018323\n",
       "VK_ZG11                  0.016665\n",
       "dtype: float32"
      ]
     },
     "execution_count": 160,
     "metadata": {},
     "output_type": "execute_result"
    }
   ],
   "source": [
    "# feature_importances\n",
    "feature_importances = estimator.steps[-1][-1].feature_importances_\n",
    "pd.Series(feature_importances, index=X.columns).sort_values(ascending=False).head(10)"
   ]
  },
  {
   "cell_type": "markdown",
   "metadata": {},
   "source": [
    "### LightGBM"
   ]
  },
  {
   "cell_type": "code",
   "execution_count": 161,
   "metadata": {},
   "outputs": [],
   "source": [
    "model = lgb.LGBMClassifier(boosting_type='gbdt',\n",
    "                           class_weight='balanced',\n",
    "                           objective='binary',\n",
    "                           metric='auc',  # metric from kaggle competition (not ideal for imbalanced data)\n",
    "                           n_jobs=-1, \n",
    "                           verbose=0)"
   ]
  },
  {
   "cell_type": "code",
   "execution_count": 162,
   "metadata": {},
   "outputs": [],
   "source": [
    "# LightGBM search spaces\n",
    "ITERATIONS = 5\n",
    "search_spaces = {\n",
    "        'model__learning_rate': Real(0.01, 1.0, 'log-uniform'),  #  default=0.1 – Boosting learning rate\n",
    "        'model__num_leaves': Integer(2, 500),  # default=31 - Maximum tree leaves for base learners\n",
    "        'model__max_depth': Integer(0, 500),  # default=-1 – Maximum tree depth for base learners (<=0 means no limit)\n",
    "        'model__min_child_samples': Integer(0, 200), # minimal number of data in one leaf\n",
    "        'model__max_bin': Integer(100, 100000), # max number of bins that feature values will be bucketed\n",
    "        'model__subsample': Real(0.01, 1.0, 'uniform'),\n",
    "        'model__subsample_freq': Integer(0, 10), # bagging fraction\n",
    "        'model__colsample_bytree': Real(0.01, 1.0, 'uniform'), # enabler of bagging fraction\n",
    "        'model__min_child_weight': Integer(0, 10), # minimal number of data in one leaf.\n",
    "        'model__subsample_for_bin': Integer(100000, 500000), # number of data that sampled for histogram bins\n",
    "        'model__reg_lambda': Real(1e-9, 1000, 'log-uniform'), # L2 regularization\n",
    "        'model__reg_alpha': Real(1e-9, 1.0, 'log-uniform'), # L1 regularization\n",
    "        'model__scale_pos_weight': Real(1e-6, 500, 'log-uniform'), \n",
    "        'model__n_estimators': Integer(10, 10000)        \n",
    "        }"
   ]
  },
  {
   "cell_type": "code",
   "execution_count": 163,
   "metadata": {
    "collapsed": true
   },
   "outputs": [
    {
     "name": "stdout",
     "output_type": "stream",
     "text": [
      "Model candidate 1 (rank 1) - Current Cross-validation score: 0.69 (best 0.69)\n",
      "Model candidate 2 (rank 2) - Current Cross-validation score: 0.64 (best 0.69)\n",
      "Model candidate 3 (rank 3) - Current Cross-validation score: 0.50 (best 0.69)\n",
      "Model candidate 4 (rank 3) - Current Cross-validation score: 0.50 (best 0.69)\n",
      "Model candidate 5 (rank 3) - Current Cross-validation score: 0.50 (best 0.69)\n",
      "[LightGBM] [Warning] Auto-choosing col-wise multi-threading, the overhead of testing was 0.008027 seconds.\n",
      "You can set `force_col_wise=true` to remove the overhead.\n",
      "[LightGBM] [Warning] No further splits with positive gain, best gain: -inf\n",
      "[LightGBM] [Warning] No further splits with positive gain, best gain: -inf\n",
      "[LightGBM] [Warning] No further splits with positive gain, best gain: -inf\n",
      "[LightGBM] [Warning] No further splits with positive gain, best gain: -inf\n",
      "[LightGBM] [Warning] No further splits with positive gain, best gain: -inf\n",
      "[LightGBM] [Warning] No further splits with positive gain, best gain: -inf\n",
      "[LightGBM] [Warning] No further splits with positive gain, best gain: -inf\n",
      "[LightGBM] [Warning] No further splits with positive gain, best gain: -inf\n",
      "[LightGBM] [Warning] No further splits with positive gain, best gain: -inf\n",
      "[LightGBM] [Warning] No further splits with positive gain, best gain: -inf\n",
      "[LightGBM] [Warning] No further splits with positive gain, best gain: -inf\n",
      "[LightGBM] [Warning] No further splits with positive gain, best gain: -inf\n",
      "[LightGBM] [Warning] No further splits with positive gain, best gain: -inf\n",
      "[LightGBM] [Warning] No further splits with positive gain, best gain: -inf\n",
      "[LightGBM] [Warning] No further splits with positive gain, best gain: -inf\n",
      "[LightGBM] [Warning] No further splits with positive gain, best gain: -inf\n",
      "[LightGBM] [Warning] No further splits with positive gain, best gain: -inf\n",
      "[LightGBM] [Warning] No further splits with positive gain, best gain: -inf\n",
      "[LightGBM] [Warning] No further splits with positive gain, best gain: -inf\n",
      "[LightGBM] [Warning] No further splits with positive gain, best gain: -inf\n",
      "[LightGBM] [Warning] No further splits with positive gain, best gain: -inf\n",
      "[LightGBM] [Warning] No further splits with positive gain, best gain: -inf\n",
      "[LightGBM] [Warning] No further splits with positive gain, best gain: -inf\n",
      "[LightGBM] [Warning] No further splits with positive gain, best gain: -inf\n",
      "[LightGBM] [Warning] No further splits with positive gain, best gain: -inf\n",
      "[LightGBM] [Warning] No further splits with positive gain, best gain: -inf\n",
      "[LightGBM] [Warning] No further splits with positive gain, best gain: -inf\n",
      "[LightGBM] [Warning] No further splits with positive gain, best gain: -inf\n",
      "[LightGBM] [Warning] No further splits with positive gain, best gain: -inf\n",
      "[LightGBM] [Warning] No further splits with positive gain, best gain: -inf\n",
      "[LightGBM] [Warning] No further splits with positive gain, best gain: -inf\n",
      "[LightGBM] [Warning] No further splits with positive gain, best gain: -inf\n",
      "[LightGBM] [Warning] No further splits with positive gain, best gain: -inf\n",
      "[LightGBM] [Warning] No further splits with positive gain, best gain: -inf\n",
      "[LightGBM] [Warning] No further splits with positive gain, best gain: -inf\n",
      "[LightGBM] [Warning] No further splits with positive gain, best gain: -inf\n",
      "[LightGBM] [Warning] No further splits with positive gain, best gain: -inf\n",
      "[LightGBM] [Warning] No further splits with positive gain, best gain: -inf\n",
      "[LightGBM] [Warning] No further splits with positive gain, best gain: -inf\n",
      "[LightGBM] [Warning] No further splits with positive gain, best gain: -inf\n",
      "[LightGBM] [Warning] No further splits with positive gain, best gain: -inf\n",
      "[LightGBM] [Warning] No further splits with positive gain, best gain: -inf\n",
      "[LightGBM] [Warning] No further splits with positive gain, best gain: -inf\n",
      "[LightGBM] [Warning] No further splits with positive gain, best gain: -inf\n",
      "[LightGBM] [Warning] No further splits with positive gain, best gain: -inf\n",
      "[LightGBM] [Warning] No further splits with positive gain, best gain: -inf\n",
      "[LightGBM] [Warning] No further splits with positive gain, best gain: -inf\n",
      "[LightGBM] [Warning] No further splits with positive gain, best gain: -inf\n",
      "[LightGBM] [Warning] No further splits with positive gain, best gain: -inf\n",
      "[LightGBM] [Warning] No further splits with positive gain, best gain: -inf\n",
      "[LightGBM] [Warning] No further splits with positive gain, best gain: -inf\n",
      "[LightGBM] [Warning] No further splits with positive gain, best gain: -inf\n",
      "[LightGBM] [Warning] No further splits with positive gain, best gain: -inf\n",
      "[LightGBM] [Warning] No further splits with positive gain, best gain: -inf\n",
      "[LightGBM] [Warning] No further splits with positive gain, best gain: -inf\n",
      "[LightGBM] [Warning] No further splits with positive gain, best gain: -inf\n",
      "[LightGBM] [Warning] No further splits with positive gain, best gain: -inf\n",
      "[LightGBM] [Warning] No further splits with positive gain, best gain: -inf\n",
      "[LightGBM] [Warning] No further splits with positive gain, best gain: -inf\n",
      "[LightGBM] [Warning] No further splits with positive gain, best gain: -inf\n",
      "[LightGBM] [Warning] No further splits with positive gain, best gain: -inf\n",
      "[LightGBM] [Warning] No further splits with positive gain, best gain: -inf\n",
      "[LightGBM] [Warning] No further splits with positive gain, best gain: -inf\n",
      "[LightGBM] [Warning] No further splits with positive gain, best gain: -inf\n",
      "[LightGBM] [Warning] No further splits with positive gain, best gain: -inf\n",
      "[LightGBM] [Warning] No further splits with positive gain, best gain: -inf\n",
      "[LightGBM] [Warning] No further splits with positive gain, best gain: -inf\n",
      "[LightGBM] [Warning] No further splits with positive gain, best gain: -inf\n",
      "[LightGBM] [Warning] No further splits with positive gain, best gain: -inf\n",
      "[LightGBM] [Warning] No further splits with positive gain, best gain: -inf\n",
      "[LightGBM] [Warning] No further splits with positive gain, best gain: -inf\n",
      "[LightGBM] [Warning] No further splits with positive gain, best gain: -inf\n",
      "[LightGBM] [Warning] No further splits with positive gain, best gain: -inf\n",
      "[LightGBM] [Warning] No further splits with positive gain, best gain: -inf\n",
      "[LightGBM] [Warning] No further splits with positive gain, best gain: -inf\n",
      "[LightGBM] [Warning] No further splits with positive gain, best gain: -inf\n",
      "[LightGBM] [Warning] No further splits with positive gain, best gain: -inf\n",
      "[LightGBM] [Warning] No further splits with positive gain, best gain: -inf\n",
      "[LightGBM] [Warning] No further splits with positive gain, best gain: -inf\n",
      "[LightGBM] [Warning] No further splits with positive gain, best gain: -inf\n",
      "[LightGBM] [Warning] No further splits with positive gain, best gain: -inf\n",
      "[LightGBM] [Warning] No further splits with positive gain, best gain: -inf\n",
      "[LightGBM] [Warning] No further splits with positive gain, best gain: -inf\n",
      "[LightGBM] [Warning] No further splits with positive gain, best gain: -inf\n",
      "[LightGBM] [Warning] No further splits with positive gain, best gain: -inf\n",
      "[LightGBM] [Warning] No further splits with positive gain, best gain: -inf\n",
      "[LightGBM] [Warning] No further splits with positive gain, best gain: -inf\n",
      "[LightGBM] [Warning] No further splits with positive gain, best gain: -inf\n",
      "[LightGBM] [Warning] No further splits with positive gain, best gain: -inf\n",
      "[LightGBM] [Warning] No further splits with positive gain, best gain: -inf\n",
      "[LightGBM] [Warning] No further splits with positive gain, best gain: -inf\n",
      "[LightGBM] [Warning] No further splits with positive gain, best gain: -inf\n",
      "[LightGBM] [Warning] No further splits with positive gain, best gain: -inf\n",
      "[LightGBM] [Warning] No further splits with positive gain, best gain: -inf\n",
      "[LightGBM] [Warning] No further splits with positive gain, best gain: -inf\n",
      "[LightGBM] [Warning] No further splits with positive gain, best gain: -inf\n",
      "[LightGBM] [Warning] No further splits with positive gain, best gain: -inf\n",
      "[LightGBM] [Warning] No further splits with positive gain, best gain: -inf\n",
      "[LightGBM] [Warning] No further splits with positive gain, best gain: -inf\n",
      "[LightGBM] [Warning] No further splits with positive gain, best gain: -inf\n",
      "[LightGBM] [Warning] No further splits with positive gain, best gain: -inf\n",
      "[LightGBM] [Warning] No further splits with positive gain, best gain: -inf\n",
      "[LightGBM] [Warning] No further splits with positive gain, best gain: -inf\n",
      "[LightGBM] [Warning] No further splits with positive gain, best gain: -inf\n",
      "[LightGBM] [Warning] No further splits with positive gain, best gain: -inf\n",
      "[LightGBM] [Warning] No further splits with positive gain, best gain: -inf\n",
      "[LightGBM] [Warning] No further splits with positive gain, best gain: -inf\n",
      "[LightGBM] [Warning] No further splits with positive gain, best gain: -inf\n",
      "[LightGBM] [Warning] No further splits with positive gain, best gain: -inf\n",
      "[LightGBM] [Warning] No further splits with positive gain, best gain: -inf\n",
      "[LightGBM] [Warning] No further splits with positive gain, best gain: -inf\n",
      "[LightGBM] [Warning] No further splits with positive gain, best gain: -inf\n",
      "[LightGBM] [Warning] No further splits with positive gain, best gain: -inf\n",
      "[LightGBM] [Warning] No further splits with positive gain, best gain: -inf\n",
      "[LightGBM] [Warning] No further splits with positive gain, best gain: -inf\n",
      "[LightGBM] [Warning] No further splits with positive gain, best gain: -inf\n",
      "[LightGBM] [Warning] No further splits with positive gain, best gain: -inf\n",
      "[LightGBM] [Warning] No further splits with positive gain, best gain: -inf\n",
      "[LightGBM] [Warning] No further splits with positive gain, best gain: -inf\n",
      "[LightGBM] [Warning] No further splits with positive gain, best gain: -inf\n",
      "[LightGBM] [Warning] No further splits with positive gain, best gain: -inf\n",
      "[LightGBM] [Warning] No further splits with positive gain, best gain: -inf\n",
      "[LightGBM] [Warning] No further splits with positive gain, best gain: -inf\n",
      "[LightGBM] [Warning] No further splits with positive gain, best gain: -inf\n",
      "[LightGBM] [Warning] No further splits with positive gain, best gain: -inf\n",
      "[LightGBM] [Warning] No further splits with positive gain, best gain: -inf\n",
      "[LightGBM] [Warning] No further splits with positive gain, best gain: -inf\n",
      "[LightGBM] [Warning] No further splits with positive gain, best gain: -inf\n",
      "[LightGBM] [Warning] No further splits with positive gain, best gain: -inf\n",
      "[LightGBM] [Warning] No further splits with positive gain, best gain: -inf\n",
      "[LightGBM] [Warning] No further splits with positive gain, best gain: -inf\n",
      "[LightGBM] [Warning] No further splits with positive gain, best gain: -inf\n"
     ]
    },
    {
     "name": "stdout",
     "output_type": "stream",
     "text": [
      "[LightGBM] [Warning] No further splits with positive gain, best gain: -inf\n",
      "[LightGBM] [Warning] No further splits with positive gain, best gain: -inf\n",
      "[LightGBM] [Warning] No further splits with positive gain, best gain: -inf\n",
      "[LightGBM] [Warning] No further splits with positive gain, best gain: -inf\n",
      "[LightGBM] [Warning] No further splits with positive gain, best gain: -inf\n",
      "[LightGBM] [Warning] No further splits with positive gain, best gain: -inf\n",
      "[LightGBM] [Warning] No further splits with positive gain, best gain: -inf\n",
      "[LightGBM] [Warning] No further splits with positive gain, best gain: -inf\n",
      "[LightGBM] [Warning] No further splits with positive gain, best gain: -inf\n",
      "[LightGBM] [Warning] No further splits with positive gain, best gain: -inf\n",
      "[LightGBM] [Warning] No further splits with positive gain, best gain: -inf\n",
      "[LightGBM] [Warning] No further splits with positive gain, best gain: -inf\n",
      "[LightGBM] [Warning] No further splits with positive gain, best gain: -inf\n",
      "[LightGBM] [Warning] No further splits with positive gain, best gain: -inf\n",
      "[LightGBM] [Warning] No further splits with positive gain, best gain: -inf\n",
      "[LightGBM] [Warning] No further splits with positive gain, best gain: -inf\n",
      "[LightGBM] [Warning] No further splits with positive gain, best gain: -inf\n",
      "[LightGBM] [Warning] No further splits with positive gain, best gain: -inf\n",
      "[LightGBM] [Warning] No further splits with positive gain, best gain: -inf\n",
      "[LightGBM] [Warning] No further splits with positive gain, best gain: -inf\n",
      "[LightGBM] [Warning] No further splits with positive gain, best gain: -inf\n",
      "[LightGBM] [Warning] No further splits with positive gain, best gain: -inf\n",
      "[LightGBM] [Warning] No further splits with positive gain, best gain: -inf\n",
      "[LightGBM] [Warning] No further splits with positive gain, best gain: -inf\n",
      "[LightGBM] [Warning] No further splits with positive gain, best gain: -inf\n",
      "[LightGBM] [Warning] No further splits with positive gain, best gain: -inf\n",
      "[LightGBM] [Warning] No further splits with positive gain, best gain: -inf\n",
      "[LightGBM] [Warning] No further splits with positive gain, best gain: -inf\n",
      "[LightGBM] [Warning] No further splits with positive gain, best gain: -inf\n",
      "[LightGBM] [Warning] No further splits with positive gain, best gain: -inf\n",
      "[LightGBM] [Warning] No further splits with positive gain, best gain: -inf\n",
      "[LightGBM] [Warning] No further splits with positive gain, best gain: -inf\n",
      "[LightGBM] [Warning] No further splits with positive gain, best gain: -inf\n",
      "[LightGBM] [Warning] No further splits with positive gain, best gain: -inf\n",
      "[LightGBM] [Warning] No further splits with positive gain, best gain: -inf\n",
      "[LightGBM] [Warning] No further splits with positive gain, best gain: -inf\n",
      "[LightGBM] [Warning] No further splits with positive gain, best gain: -inf\n",
      "[LightGBM] [Warning] No further splits with positive gain, best gain: -inf\n",
      "[LightGBM] [Warning] No further splits with positive gain, best gain: -inf\n",
      "Wall time: 3min 10s\n"
     ]
    }
   ],
   "source": [
    "%%time\n",
    "optimizer = optimizer_constructor(model, search_spaces, n_iter=ITERATIONS)\n",
    "result = optimizer.fit(X, y, \n",
    "                           #X_train, y_train, \n",
    "                           callback=[DeltaXStopper(0.001), \n",
    "                                     #DeadlineStopper(5*60), \n",
    "                                     myPrintStatus,\n",
    "                                     ]\n",
    "                          )"
   ]
  },
  {
   "cell_type": "code",
   "execution_count": 164,
   "metadata": {},
   "outputs": [
    {
     "name": "stdout",
     "output_type": "stream",
     "text": [
      "---- LGBMClassifier ----\n",
      "candidates checked: 5\n",
      "best cross-validation score: 0.686\n",
      "Best parameters:\n",
      "OrderedDict([('model__colsample_bytree', 0.08916991901452663),\n",
      "             ('model__learning_rate', 0.013301476484585932),\n",
      "             ('model__max_bin', 20678),\n",
      "             ('model__max_depth', 206),\n",
      "             ('model__min_child_samples', 12),\n",
      "             ('model__min_child_weight', 1),\n",
      "             ('model__n_estimators', 171),\n",
      "             ('model__num_leaves', 401),\n",
      "             ('model__reg_alpha', 0.0045348167443284935),\n",
      "             ('model__reg_lambda', 0.0002618901344145214),\n",
      "             ('model__scale_pos_weight', 0.10972822258363321),\n",
      "             ('model__subsample', 0.8961409541041984),\n",
      "             ('model__subsample_for_bin', 465550),\n",
      "             ('model__subsample_freq', 5),\n",
      "             ('over__k_neighbors', 96),\n",
      "             ('over__sampling_strategy', 0.060260759465289984),\n",
      "             ('under__sampling_strategy', 0.8718441040544251)])\n",
      "\n",
      "ROC AUC score (macro): 0.978\n"
     ]
    }
   ],
   "source": [
    "print_summary(optimizer)"
   ]
  },
  {
   "cell_type": "markdown",
   "metadata": {},
   "source": [
    "#### ---- LGBMClassifier Experiment 1 ----\n",
    "candidates checked: 100\n",
    "best cross-validation score: 0.767\n",
    "Best parameters:\n",
    "OrderedDict([('model__colsample_bytree', 0.8284516524596438),\n",
    "             ('model__learning_rate', 0.015083510496268243),\n",
    "             ('model__max_bin', 43619),\n",
    "             ('model__max_depth', 127),\n",
    "             ('model__min_child_samples', 104),\n",
    "             ('model__min_child_weight', 5),\n",
    "             ('model__n_estimators', 5692),\n",
    "             ('model__num_leaves', 500),\n",
    "             ('model__reg_alpha', 1e-09),\n",
    "             ('model__reg_lambda', 1.3882844300257421e-06),\n",
    "             ('model__scale_pos_weight', 0.0019705526075344073),\n",
    "             ('model__subsample', 0.5831956543963555),\n",
    "             ('model__subsample_for_bin', 447987),\n",
    "             ('model__subsample_freq', 2),\n",
    "             ('over__k_neighbors', 57),\n",
    "             ('over__sampling_strategy', 0.016204352877126526),\n",
    "             ('under__sampling_strategy', 0.1)])"
   ]
  },
  {
   "cell_type": "markdown",
   "metadata": {},
   "source": [
    "The LGBM classifier easily did better than the benchmark but was with a cross-validation score of 0.767 not able to beat the XGBoost model above."
   ]
  },
  {
   "cell_type": "markdown",
   "metadata": {},
   "source": [
    "## Part 3: Kaggle Competition\n",
    "\n",
    "Now that you've created a model to predict which individuals are most likely to respond to a mailout campaign, it's time to test that model in competition through Kaggle. If you click on the link [here](http://www.kaggle.com/t/21e6d45d4c574c7fa2d868f0e8c83140), you'll be taken to the competition page where, if you have a Kaggle account, you can enter.\n",
    "\n",
    "Your entry to the competition should be a CSV file with two columns. The first column should be a copy of \"LNR\", which acts as an ID number for each individual in the \"TEST\" partition. The second column, \"RESPONSE\", should be some measure of how likely each individual became a customer – this might not be a straightforward probability. As you should have found in Part 2, there is a large output class imbalance, where most individuals did not respond to the mailout. Thus, predicting individual classes and using accuracy does not seem to be an appropriate performance evaluation method. Instead, the competition will be using AUC to evaluate performance. The exact values of the \"RESPONSE\" column do not matter as much: only that the higher values try to capture as many of the actual customers as possible, early in the ROC curve sweep."
   ]
  },
  {
   "cell_type": "code",
   "execution_count": 165,
   "metadata": {},
   "outputs": [
    {
     "name": "stderr",
     "output_type": "stream",
     "text": [
      "c:\\users\\kenne\\appdata\\local\\programs\\python\\python37\\lib\\site-packages\\IPython\\core\\interactiveshell.py:3058: DtypeWarning: Columns (18,19) have mixed types.Specify dtype option on import or set low_memory=False.\n",
      "  interactivity=interactivity, compiler=compiler, result=result)\n"
     ]
    }
   ],
   "source": [
    "# reload the test dataset to extract the LNR index needed for the submission\n",
    "mailout_test_org = pd.read_csv('./data/Udacity_MAILOUT_052018_TEST.csv', sep=';')"
   ]
  },
  {
   "cell_type": "code",
   "execution_count": 166,
   "metadata": {},
   "outputs": [
    {
     "name": "stderr",
     "output_type": "stream",
     "text": [
      "c:\\users\\kenne\\appdata\\local\\programs\\python\\python37\\lib\\site-packages\\xgboost\\data.py:114: UserWarning: Use subset (sliced data) of np.ndarray is not recommended because it will generate extra copies and increase memory consumption\n",
      "  \"because it will generate extra copies and increase \" +\n"
     ]
    },
    {
     "data": {
      "text/html": [
       "<div>\n",
       "<style scoped>\n",
       "    .dataframe tbody tr th:only-of-type {\n",
       "        vertical-align: middle;\n",
       "    }\n",
       "\n",
       "    .dataframe tbody tr th {\n",
       "        vertical-align: top;\n",
       "    }\n",
       "\n",
       "    .dataframe thead th {\n",
       "        text-align: right;\n",
       "    }\n",
       "</style>\n",
       "<table border=\"1\" class=\"dataframe\">\n",
       "  <thead>\n",
       "    <tr style=\"text-align: right;\">\n",
       "      <th></th>\n",
       "      <th>LNR</th>\n",
       "      <th>RESPONSE</th>\n",
       "    </tr>\n",
       "  </thead>\n",
       "  <tbody>\n",
       "    <tr>\n",
       "      <th>0</th>\n",
       "      <td>1754</td>\n",
       "      <td>0.070541</td>\n",
       "    </tr>\n",
       "    <tr>\n",
       "      <th>1</th>\n",
       "      <td>1770</td>\n",
       "      <td>0.046079</td>\n",
       "    </tr>\n",
       "    <tr>\n",
       "      <th>2</th>\n",
       "      <td>1465</td>\n",
       "      <td>0.027274</td>\n",
       "    </tr>\n",
       "    <tr>\n",
       "      <th>3</th>\n",
       "      <td>1470</td>\n",
       "      <td>0.027852</td>\n",
       "    </tr>\n",
       "    <tr>\n",
       "      <th>4</th>\n",
       "      <td>1478</td>\n",
       "      <td>0.041287</td>\n",
       "    </tr>\n",
       "  </tbody>\n",
       "</table>\n",
       "</div>"
      ],
      "text/plain": [
       "    LNR  RESPONSE\n",
       "0  1754  0.070541\n",
       "1  1770  0.046079\n",
       "2  1465  0.027274\n",
       "3  1470  0.027852\n",
       "4  1478  0.041287"
      ]
     },
     "execution_count": 166,
     "metadata": {},
     "output_type": "execute_result"
    }
   ],
   "source": [
    "# prediction on test set\n",
    "y_score = estimator.predict_proba(mailout_test)\n",
    "kaggle_submission = pd.DataFrame({'LNR':mailout_test_org.LNR, \n",
    "                                'RESPONSE':y_score[:,1]})\n",
    "\n",
    "kaggle_submission.head()"
   ]
  },
  {
   "cell_type": "code",
   "execution_count": 167,
   "metadata": {},
   "outputs": [],
   "source": [
    "kaggle_submission.to_csv('submission.csv', index=False)"
   ]
  }
 ],
 "metadata": {
  "kernelspec": {
   "display_name": "Python 3",
   "language": "python",
   "name": "python3"
  },
  "language_info": {
   "codemirror_mode": {
    "name": "ipython",
    "version": 3
   },
   "file_extension": ".py",
   "mimetype": "text/x-python",
   "name": "python",
   "nbconvert_exporter": "python",
   "pygments_lexer": "ipython3",
   "version": "3.7.3"
  }
 },
 "nbformat": 4,
 "nbformat_minor": 2
}
